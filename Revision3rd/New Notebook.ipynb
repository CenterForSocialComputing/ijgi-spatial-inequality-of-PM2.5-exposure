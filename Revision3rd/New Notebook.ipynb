{
 "cells": [
  {
   "cell_type": "code",
   "execution_count": 1,
   "metadata": {},
   "outputs": [],
   "source": [
    "import arcpy\n",
    "from os.path import join as path_join\n",
    "from os import listdir\n",
    "from calendar import monthrange as month_range\n",
    "from pandas import read_csv\n",
    "from pandas import DataFrame\n",
    "from numpy import nan\n",
    "from numpy import isnan\n",
    "from tqdm import tqdm\n",
    "from scipy import stats\n",
    "from time import sleep\n",
    "import math"
   ]
  },
  {
   "cell_type": "code",
   "execution_count": 2,
   "metadata": {},
   "outputs": [],
   "source": [
    "root = \"D:/Repos/Air Pollution Exposure in Xi'an/Revision3rd\"\n",
    "\n",
    "aprx = arcpy.mp.ArcGISProject('CURRENT')\n",
    "map_ = aprx.listMaps('Map')[0]\n",
    "\n",
    "arcpy.env.overwriteOutput = True"
   ]
  },
  {
   "cell_type": "code",
   "execution_count": null,
   "metadata": {},
   "outputs": [],
   "source": []
  },
  {
   "cell_type": "code",
   "execution_count": 3,
   "metadata": {},
   "outputs": [
    {
     "data": {
      "text/html": [
       "<div class='gpresult'><h2>Messages</h2><div id='messages' data-messages='[\"Start Time: 2023年12月24日 9:56:53\",\"Succeeded at 2023年12月24日 9:56:54 (Elapsed Time: 1.05 seconds)\"]' data-show='true'><div id = 'default' /></div></div>"
      ],
      "text/plain": [
       "<Result \"D:/Repos/Air Pollution Exposure in Xi'an/Revision3rd\\\\GHAPPM25D1K.gdb\">"
      ]
     },
     "execution_count": 3,
     "metadata": {},
     "output_type": "execute_result"
    }
   ],
   "source": [
    "arcpy.management.CreateFileGDB(\n",
    "    out_folder_path = root,\n",
    "    out_name = 'GHAPPM25D1K',\n",
    "    out_version = 'CURRENT'\n",
    ")"
   ]
  },
  {
   "cell_type": "code",
   "execution_count": 5,
   "metadata": {
    "collapsed": true
   },
   "outputs": [
    {
     "name": "stderr",
     "output_type": "stream",
     "text": [
      "\r",
      "  0%|          | 0/365 [00:00<?, ?it/s]"
     ]
    },
    {
     "name": "stdout",
     "output_type": "stream",
     "text": [
      "20210101\n"
     ]
    },
    {
     "name": "stderr",
     "output_type": "stream",
     "text": [
      "\r",
      "  0%|          | 1/365 [00:40<4:03:59, 40.22s/it]"
     ]
    },
    {
     "name": "stdout",
     "output_type": "stream",
     "text": [
      "20210102\n"
     ]
    },
    {
     "name": "stderr",
     "output_type": "stream",
     "text": [
      "\r",
      "  1%|          | 2/365 [01:15<3:45:12, 37.22s/it]"
     ]
    },
    {
     "name": "stdout",
     "output_type": "stream",
     "text": [
      "20210103\n"
     ]
    },
    {
     "name": "stderr",
     "output_type": "stream",
     "text": [
      "\r",
      "  1%|          | 3/365 [01:42<3:16:40, 32.60s/it]"
     ]
    },
    {
     "name": "stdout",
     "output_type": "stream",
     "text": [
      "20210104\n"
     ]
    },
    {
     "name": "stderr",
     "output_type": "stream",
     "text": [
      "\r",
      "  1%|          | 4/365 [02:13<3:11:51, 31.89s/it]"
     ]
    },
    {
     "name": "stdout",
     "output_type": "stream",
     "text": [
      "20210105\n"
     ]
    },
    {
     "name": "stderr",
     "output_type": "stream",
     "text": [
      "\r",
      "  1%|▏         | 5/365 [02:43<3:07:29, 31.25s/it]"
     ]
    },
    {
     "name": "stdout",
     "output_type": "stream",
     "text": [
      "20210106\n"
     ]
    },
    {
     "name": "stderr",
     "output_type": "stream",
     "text": [
      "\r",
      "  2%|▏         | 6/365 [03:13<3:04:38, 30.86s/it]"
     ]
    },
    {
     "name": "stdout",
     "output_type": "stream",
     "text": [
      "20210107\n"
     ]
    },
    {
     "name": "stderr",
     "output_type": "stream",
     "text": [
      "\r",
      "  2%|▏         | 7/365 [03:39<2:55:13, 29.37s/it]"
     ]
    },
    {
     "name": "stdout",
     "output_type": "stream",
     "text": [
      "20210108\n"
     ]
    },
    {
     "name": "stderr",
     "output_type": "stream",
     "text": [
      "\r",
      "  2%|▏         | 8/365 [04:05<2:47:27, 28.14s/it]"
     ]
    },
    {
     "name": "stdout",
     "output_type": "stream",
     "text": [
      "20210109\n"
     ]
    },
    {
     "name": "stderr",
     "output_type": "stream",
     "text": [
      "\r",
      "  2%|▏         | 9/365 [04:31<2:42:33, 27.40s/it]"
     ]
    },
    {
     "name": "stdout",
     "output_type": "stream",
     "text": [
      "20210110\n"
     ]
    },
    {
     "name": "stderr",
     "output_type": "stream",
     "text": [
      "\r",
      "  3%|▎         | 10/365 [04:57<2:39:37, 26.98s/it]"
     ]
    },
    {
     "name": "stdout",
     "output_type": "stream",
     "text": [
      "20210111\n"
     ]
    },
    {
     "name": "stderr",
     "output_type": "stream",
     "text": [
      "\r",
      "  3%|▎         | 11/365 [05:22<2:36:52, 26.59s/it]"
     ]
    },
    {
     "name": "stdout",
     "output_type": "stream",
     "text": [
      "20210112\n"
     ]
    },
    {
     "name": "stderr",
     "output_type": "stream",
     "text": [
      "\r",
      "  3%|▎         | 12/365 [05:48<2:34:56, 26.34s/it]"
     ]
    },
    {
     "name": "stdout",
     "output_type": "stream",
     "text": [
      "20210113\n"
     ]
    },
    {
     "name": "stderr",
     "output_type": "stream",
     "text": [
      "\r",
      "  4%|▎         | 13/365 [06:14<2:33:41, 26.20s/it]"
     ]
    },
    {
     "name": "stdout",
     "output_type": "stream",
     "text": [
      "20210114\n"
     ]
    },
    {
     "name": "stderr",
     "output_type": "stream",
     "text": [
      "\r",
      "  4%|▍         | 14/365 [06:40<2:33:07, 26.18s/it]"
     ]
    },
    {
     "name": "stdout",
     "output_type": "stream",
     "text": [
      "20210115\n"
     ]
    },
    {
     "name": "stderr",
     "output_type": "stream",
     "text": [
      "\r",
      "  4%|▍         | 15/365 [07:06<2:31:48, 26.03s/it]"
     ]
    },
    {
     "name": "stdout",
     "output_type": "stream",
     "text": [
      "20210116\n"
     ]
    },
    {
     "name": "stderr",
     "output_type": "stream",
     "text": [
      "\r",
      "  4%|▍         | 16/365 [07:32<2:31:56, 26.12s/it]"
     ]
    },
    {
     "name": "stdout",
     "output_type": "stream",
     "text": [
      "20210117\n"
     ]
    },
    {
     "name": "stderr",
     "output_type": "stream",
     "text": [
      "\r",
      "  5%|▍         | 17/365 [07:58<2:31:23, 26.10s/it]"
     ]
    },
    {
     "name": "stdout",
     "output_type": "stream",
     "text": [
      "20210118\n"
     ]
    },
    {
     "name": "stderr",
     "output_type": "stream",
     "text": [
      "\r",
      "  5%|▍         | 18/365 [08:24<2:30:21, 26.00s/it]"
     ]
    },
    {
     "name": "stdout",
     "output_type": "stream",
     "text": [
      "20210119\n"
     ]
    },
    {
     "name": "stderr",
     "output_type": "stream",
     "text": [
      "\r",
      "  5%|▌         | 19/365 [08:50<2:29:51, 25.99s/it]"
     ]
    },
    {
     "name": "stdout",
     "output_type": "stream",
     "text": [
      "20210120\n"
     ]
    },
    {
     "name": "stderr",
     "output_type": "stream",
     "text": [
      "\r",
      "  5%|▌         | 20/365 [09:16<2:29:33, 26.01s/it]"
     ]
    },
    {
     "name": "stdout",
     "output_type": "stream",
     "text": [
      "20210121\n"
     ]
    },
    {
     "name": "stderr",
     "output_type": "stream",
     "text": [
      "\r",
      "  6%|▌         | 21/365 [09:42<2:28:30, 25.90s/it]"
     ]
    },
    {
     "name": "stdout",
     "output_type": "stream",
     "text": [
      "20210122\n"
     ]
    },
    {
     "name": "stderr",
     "output_type": "stream",
     "text": [
      "\r",
      "  6%|▌         | 22/365 [10:07<2:27:53, 25.87s/it]"
     ]
    },
    {
     "name": "stdout",
     "output_type": "stream",
     "text": [
      "20210123\n"
     ]
    },
    {
     "name": "stderr",
     "output_type": "stream",
     "text": [
      "\r",
      "  6%|▋         | 23/365 [10:33<2:27:42, 25.91s/it]"
     ]
    },
    {
     "name": "stdout",
     "output_type": "stream",
     "text": [
      "20210124\n"
     ]
    },
    {
     "name": "stderr",
     "output_type": "stream",
     "text": [
      "\r",
      "  7%|▋         | 24/365 [11:00<2:27:55, 26.03s/it]"
     ]
    },
    {
     "name": "stdout",
     "output_type": "stream",
     "text": [
      "20210125\n"
     ]
    },
    {
     "name": "stderr",
     "output_type": "stream",
     "text": [
      "\r",
      "  7%|▋         | 25/365 [11:25<2:26:51, 25.92s/it]"
     ]
    },
    {
     "name": "stdout",
     "output_type": "stream",
     "text": [
      "20210126\n"
     ]
    },
    {
     "name": "stderr",
     "output_type": "stream",
     "text": [
      "\r",
      "  7%|▋         | 26/365 [11:51<2:25:54, 25.82s/it]"
     ]
    },
    {
     "name": "stdout",
     "output_type": "stream",
     "text": [
      "20210127\n"
     ]
    },
    {
     "name": "stderr",
     "output_type": "stream",
     "text": [
      "\r",
      "  7%|▋         | 27/365 [12:17<2:25:44, 25.87s/it]"
     ]
    },
    {
     "name": "stdout",
     "output_type": "stream",
     "text": [
      "20210128\n"
     ]
    },
    {
     "name": "stderr",
     "output_type": "stream",
     "text": [
      "\r",
      "  8%|▊         | 28/365 [12:44<2:27:05, 26.19s/it]"
     ]
    },
    {
     "name": "stdout",
     "output_type": "stream",
     "text": [
      "20210129\n"
     ]
    },
    {
     "name": "stderr",
     "output_type": "stream",
     "text": [
      "\r",
      "  8%|▊         | 29/365 [13:09<2:25:44, 26.03s/it]"
     ]
    },
    {
     "name": "stdout",
     "output_type": "stream",
     "text": [
      "20210130\n"
     ]
    },
    {
     "name": "stderr",
     "output_type": "stream",
     "text": [
      "\r",
      "  8%|▊         | 30/365 [13:34<2:23:12, 25.65s/it]"
     ]
    },
    {
     "name": "stdout",
     "output_type": "stream",
     "text": [
      "20210131\n"
     ]
    },
    {
     "name": "stderr",
     "output_type": "stream",
     "text": [
      "\r",
      "  8%|▊         | 31/365 [13:59<2:21:11, 25.36s/it]"
     ]
    },
    {
     "name": "stdout",
     "output_type": "stream",
     "text": [
      "20210201\n"
     ]
    },
    {
     "name": "stderr",
     "output_type": "stream",
     "text": [
      "\r",
      "  9%|▉         | 32/365 [14:24<2:20:25, 25.30s/it]"
     ]
    },
    {
     "name": "stdout",
     "output_type": "stream",
     "text": [
      "20210202\n"
     ]
    },
    {
     "name": "stderr",
     "output_type": "stream",
     "text": [
      "\r",
      "  9%|▉         | 33/365 [14:50<2:20:56, 25.47s/it]"
     ]
    },
    {
     "name": "stdout",
     "output_type": "stream",
     "text": [
      "20210203\n"
     ]
    },
    {
     "name": "stderr",
     "output_type": "stream",
     "text": [
      "\r",
      "  9%|▉         | 34/365 [15:16<2:20:51, 25.53s/it]"
     ]
    },
    {
     "name": "stdout",
     "output_type": "stream",
     "text": [
      "20210204\n"
     ]
    },
    {
     "name": "stderr",
     "output_type": "stream",
     "text": [
      "\r",
      " 10%|▉         | 35/365 [15:41<2:20:22, 25.52s/it]"
     ]
    },
    {
     "name": "stdout",
     "output_type": "stream",
     "text": [
      "20210205\n"
     ]
    },
    {
     "name": "stderr",
     "output_type": "stream",
     "text": [
      "\r",
      " 10%|▉         | 36/365 [16:06<2:19:30, 25.44s/it]"
     ]
    },
    {
     "name": "stdout",
     "output_type": "stream",
     "text": [
      "20210206\n"
     ]
    },
    {
     "name": "stderr",
     "output_type": "stream",
     "text": [
      "\r",
      " 10%|█         | 37/365 [16:32<2:18:42, 25.37s/it]"
     ]
    },
    {
     "name": "stdout",
     "output_type": "stream",
     "text": [
      "20210207\n"
     ]
    },
    {
     "name": "stderr",
     "output_type": "stream",
     "text": [
      "\r",
      " 10%|█         | 38/365 [16:57<2:18:22, 25.39s/it]"
     ]
    },
    {
     "name": "stdout",
     "output_type": "stream",
     "text": [
      "20210208\n"
     ]
    },
    {
     "name": "stderr",
     "output_type": "stream",
     "text": [
      "\r",
      " 11%|█         | 39/365 [17:22<2:17:36, 25.33s/it]"
     ]
    },
    {
     "name": "stdout",
     "output_type": "stream",
     "text": [
      "20210209\n"
     ]
    },
    {
     "name": "stderr",
     "output_type": "stream",
     "text": [
      "\r",
      " 11%|█         | 40/365 [17:48<2:17:08, 25.32s/it]"
     ]
    },
    {
     "name": "stdout",
     "output_type": "stream",
     "text": [
      "20210210\n"
     ]
    },
    {
     "name": "stderr",
     "output_type": "stream",
     "text": [
      "\r",
      " 11%|█         | 41/365 [18:13<2:17:05, 25.39s/it]"
     ]
    },
    {
     "name": "stdout",
     "output_type": "stream",
     "text": [
      "20210211\n"
     ]
    },
    {
     "name": "stderr",
     "output_type": "stream",
     "text": [
      "\r",
      " 12%|█▏        | 42/365 [18:39<2:16:52, 25.43s/it]"
     ]
    },
    {
     "name": "stdout",
     "output_type": "stream",
     "text": [
      "20210212\n"
     ]
    },
    {
     "name": "stderr",
     "output_type": "stream",
     "text": [
      "\r",
      " 12%|█▏        | 43/365 [19:04<2:16:37, 25.46s/it]"
     ]
    },
    {
     "name": "stdout",
     "output_type": "stream",
     "text": [
      "20210213\n"
     ]
    },
    {
     "name": "stderr",
     "output_type": "stream",
     "text": [
      "\r",
      " 12%|█▏        | 44/365 [19:30<2:16:13, 25.46s/it]"
     ]
    },
    {
     "name": "stdout",
     "output_type": "stream",
     "text": [
      "20210214\n"
     ]
    },
    {
     "name": "stderr",
     "output_type": "stream",
     "text": [
      "\r",
      " 12%|█▏        | 45/365 [19:55<2:15:29, 25.40s/it]"
     ]
    },
    {
     "name": "stdout",
     "output_type": "stream",
     "text": [
      "20210215\n"
     ]
    },
    {
     "name": "stderr",
     "output_type": "stream",
     "text": [
      "\r",
      " 13%|█▎        | 46/365 [20:20<2:15:12, 25.43s/it]"
     ]
    },
    {
     "name": "stdout",
     "output_type": "stream",
     "text": [
      "20210216\n"
     ]
    },
    {
     "name": "stderr",
     "output_type": "stream",
     "text": [
      "\r",
      " 13%|█▎        | 47/365 [20:46<2:14:39, 25.41s/it]"
     ]
    },
    {
     "name": "stdout",
     "output_type": "stream",
     "text": [
      "20210217\n"
     ]
    },
    {
     "name": "stderr",
     "output_type": "stream",
     "text": [
      "\r",
      " 13%|█▎        | 48/365 [21:11<2:14:01, 25.37s/it]"
     ]
    },
    {
     "name": "stdout",
     "output_type": "stream",
     "text": [
      "20210218\n"
     ]
    },
    {
     "name": "stderr",
     "output_type": "stream",
     "text": [
      "\r",
      " 13%|█▎        | 49/365 [21:36<2:13:28, 25.34s/it]"
     ]
    },
    {
     "name": "stdout",
     "output_type": "stream",
     "text": [
      "20210219\n"
     ]
    },
    {
     "name": "stderr",
     "output_type": "stream",
     "text": [
      "\r",
      " 14%|█▎        | 50/365 [22:02<2:13:20, 25.40s/it]"
     ]
    },
    {
     "name": "stdout",
     "output_type": "stream",
     "text": [
      "20210220\n"
     ]
    },
    {
     "name": "stderr",
     "output_type": "stream",
     "text": [
      "\r",
      " 14%|█▍        | 51/365 [22:27<2:12:42, 25.36s/it]"
     ]
    },
    {
     "name": "stdout",
     "output_type": "stream",
     "text": [
      "20210221\n"
     ]
    },
    {
     "name": "stderr",
     "output_type": "stream",
     "text": [
      "\r",
      " 14%|█▍        | 52/365 [22:52<2:12:13, 25.35s/it]"
     ]
    },
    {
     "name": "stdout",
     "output_type": "stream",
     "text": [
      "20210222\n"
     ]
    },
    {
     "name": "stderr",
     "output_type": "stream",
     "text": [
      "\r",
      " 15%|█▍        | 53/365 [23:18<2:12:00, 25.38s/it]"
     ]
    },
    {
     "name": "stdout",
     "output_type": "stream",
     "text": [
      "20210223\n"
     ]
    },
    {
     "name": "stderr",
     "output_type": "stream",
     "text": [
      "\r",
      " 15%|█▍        | 54/365 [23:43<2:11:44, 25.42s/it]"
     ]
    },
    {
     "name": "stdout",
     "output_type": "stream",
     "text": [
      "20210224\n"
     ]
    },
    {
     "name": "stderr",
     "output_type": "stream",
     "text": [
      "\r",
      " 15%|█▌        | 55/365 [24:09<2:11:31, 25.46s/it]"
     ]
    },
    {
     "name": "stdout",
     "output_type": "stream",
     "text": [
      "20210225\n"
     ]
    },
    {
     "name": "stderr",
     "output_type": "stream",
     "text": [
      "\r",
      " 15%|█▌        | 56/365 [24:34<2:10:48, 25.40s/it]"
     ]
    },
    {
     "name": "stdout",
     "output_type": "stream",
     "text": [
      "20210226\n"
     ]
    },
    {
     "name": "stderr",
     "output_type": "stream",
     "text": [
      "\r",
      " 16%|█▌        | 57/365 [25:00<2:10:22, 25.40s/it]"
     ]
    },
    {
     "name": "stdout",
     "output_type": "stream",
     "text": [
      "20210227\n"
     ]
    },
    {
     "name": "stderr",
     "output_type": "stream",
     "text": [
      "\r",
      " 16%|█▌        | 58/365 [25:25<2:10:15, 25.46s/it]"
     ]
    },
    {
     "name": "stdout",
     "output_type": "stream",
     "text": [
      "20210228\n"
     ]
    },
    {
     "name": "stderr",
     "output_type": "stream",
     "text": [
      "\r",
      " 16%|█▌        | 59/365 [25:51<2:09:42, 25.43s/it]"
     ]
    },
    {
     "name": "stdout",
     "output_type": "stream",
     "text": [
      "20210301\n"
     ]
    },
    {
     "name": "stderr",
     "output_type": "stream",
     "text": [
      "\r",
      " 16%|█▋        | 60/365 [26:16<2:09:03, 25.39s/it]"
     ]
    },
    {
     "name": "stdout",
     "output_type": "stream",
     "text": [
      "20210302\n"
     ]
    },
    {
     "name": "stderr",
     "output_type": "stream",
     "text": [
      "\r",
      " 17%|█▋        | 61/365 [26:41<2:08:31, 25.37s/it]"
     ]
    },
    {
     "name": "stdout",
     "output_type": "stream",
     "text": [
      "20210303\n"
     ]
    },
    {
     "name": "stderr",
     "output_type": "stream",
     "text": [
      "\r",
      " 17%|█▋        | 62/365 [27:07<2:08:31, 25.45s/it]"
     ]
    },
    {
     "name": "stdout",
     "output_type": "stream",
     "text": [
      "20210304\n"
     ]
    },
    {
     "name": "stderr",
     "output_type": "stream",
     "text": [
      "\r",
      " 17%|█▋        | 63/365 [27:32<2:08:15, 25.48s/it]"
     ]
    },
    {
     "name": "stdout",
     "output_type": "stream",
     "text": [
      "20210305\n"
     ]
    },
    {
     "name": "stderr",
     "output_type": "stream",
     "text": [
      "\r",
      " 18%|█▊        | 64/365 [27:58<2:07:49, 25.48s/it]"
     ]
    },
    {
     "name": "stdout",
     "output_type": "stream",
     "text": [
      "20210306\n"
     ]
    },
    {
     "name": "stderr",
     "output_type": "stream",
     "text": [
      "\r",
      " 18%|█▊        | 65/365 [28:23<2:07:09, 25.43s/it]"
     ]
    },
    {
     "name": "stdout",
     "output_type": "stream",
     "text": [
      "20210307\n"
     ]
    },
    {
     "name": "stderr",
     "output_type": "stream",
     "text": [
      "\r",
      " 18%|█▊        | 66/365 [28:48<2:06:23, 25.36s/it]"
     ]
    },
    {
     "name": "stdout",
     "output_type": "stream",
     "text": [
      "20210308\n"
     ]
    },
    {
     "name": "stderr",
     "output_type": "stream",
     "text": [
      "\r",
      " 18%|█▊        | 67/365 [29:14<2:06:18, 25.43s/it]"
     ]
    },
    {
     "name": "stdout",
     "output_type": "stream",
     "text": [
      "20210309\n"
     ]
    },
    {
     "name": "stderr",
     "output_type": "stream",
     "text": [
      "\r",
      " 19%|█▊        | 68/365 [29:40<2:06:12, 25.50s/it]"
     ]
    },
    {
     "name": "stdout",
     "output_type": "stream",
     "text": [
      "20210310\n"
     ]
    },
    {
     "name": "stderr",
     "output_type": "stream",
     "text": [
      "\r",
      " 19%|█▉        | 69/365 [30:05<2:06:15, 25.59s/it]"
     ]
    },
    {
     "name": "stdout",
     "output_type": "stream",
     "text": [
      "20210311\n"
     ]
    },
    {
     "name": "stderr",
     "output_type": "stream",
     "text": [
      "\r",
      " 19%|█▉        | 70/365 [30:31<2:05:45, 25.58s/it]"
     ]
    },
    {
     "name": "stdout",
     "output_type": "stream",
     "text": [
      "20210312\n"
     ]
    },
    {
     "name": "stderr",
     "output_type": "stream",
     "text": [
      "\r",
      " 19%|█▉        | 71/365 [30:57<2:05:33, 25.63s/it]"
     ]
    },
    {
     "name": "stdout",
     "output_type": "stream",
     "text": [
      "20210313\n"
     ]
    },
    {
     "name": "stderr",
     "output_type": "stream",
     "text": [
      "\r",
      " 20%|█▉        | 72/365 [31:22<2:05:13, 25.64s/it]"
     ]
    },
    {
     "name": "stdout",
     "output_type": "stream",
     "text": [
      "20210314\n"
     ]
    },
    {
     "name": "stderr",
     "output_type": "stream",
     "text": [
      "\r",
      " 20%|██        | 73/365 [31:48<2:04:13, 25.52s/it]"
     ]
    },
    {
     "name": "stdout",
     "output_type": "stream",
     "text": [
      "20210315\n"
     ]
    },
    {
     "name": "stderr",
     "output_type": "stream",
     "text": [
      "\r",
      " 20%|██        | 74/365 [32:13<2:04:16, 25.62s/it]"
     ]
    },
    {
     "name": "stdout",
     "output_type": "stream",
     "text": [
      "20210316\n"
     ]
    },
    {
     "name": "stderr",
     "output_type": "stream",
     "text": [
      "\r",
      " 21%|██        | 75/365 [32:39<2:03:41, 25.59s/it]"
     ]
    },
    {
     "name": "stdout",
     "output_type": "stream",
     "text": [
      "20210317\n"
     ]
    },
    {
     "name": "stderr",
     "output_type": "stream",
     "text": [
      "\r",
      " 21%|██        | 76/365 [33:05<2:03:19, 25.60s/it]"
     ]
    },
    {
     "name": "stdout",
     "output_type": "stream",
     "text": [
      "20210318\n"
     ]
    },
    {
     "name": "stderr",
     "output_type": "stream",
     "text": [
      "\r",
      " 21%|██        | 77/365 [33:30<2:02:20, 25.49s/it]"
     ]
    },
    {
     "name": "stdout",
     "output_type": "stream",
     "text": [
      "20210319\n"
     ]
    },
    {
     "name": "stderr",
     "output_type": "stream",
     "text": [
      "\r",
      " 21%|██▏       | 78/365 [33:55<2:02:04, 25.52s/it]"
     ]
    },
    {
     "name": "stdout",
     "output_type": "stream",
     "text": [
      "20210320\n"
     ]
    },
    {
     "name": "stderr",
     "output_type": "stream",
     "text": [
      "\r",
      " 22%|██▏       | 79/365 [34:21<2:01:29, 25.49s/it]"
     ]
    },
    {
     "name": "stdout",
     "output_type": "stream",
     "text": [
      "20210321\n"
     ]
    },
    {
     "name": "stderr",
     "output_type": "stream",
     "text": [
      "\r",
      " 22%|██▏       | 80/365 [34:46<2:01:05, 25.49s/it]"
     ]
    },
    {
     "name": "stdout",
     "output_type": "stream",
     "text": [
      "20210322\n"
     ]
    },
    {
     "name": "stderr",
     "output_type": "stream",
     "text": [
      "\r",
      " 22%|██▏       | 81/365 [35:12<2:01:02, 25.57s/it]"
     ]
    },
    {
     "name": "stdout",
     "output_type": "stream",
     "text": [
      "20210323\n"
     ]
    },
    {
     "name": "stderr",
     "output_type": "stream",
     "text": [
      "\r",
      " 22%|██▏       | 82/365 [35:38<2:00:46, 25.60s/it]"
     ]
    },
    {
     "name": "stdout",
     "output_type": "stream",
     "text": [
      "20210324\n"
     ]
    },
    {
     "name": "stderr",
     "output_type": "stream",
     "text": [
      "\r",
      " 23%|██▎       | 83/365 [36:03<2:00:16, 25.59s/it]"
     ]
    },
    {
     "name": "stdout",
     "output_type": "stream",
     "text": [
      "20210325\n"
     ]
    },
    {
     "name": "stderr",
     "output_type": "stream",
     "text": [
      "\r",
      " 23%|██▎       | 84/365 [36:29<1:59:41, 25.56s/it]"
     ]
    },
    {
     "name": "stdout",
     "output_type": "stream",
     "text": [
      "20210326\n"
     ]
    },
    {
     "name": "stderr",
     "output_type": "stream",
     "text": [
      "\r",
      " 23%|██▎       | 85/365 [36:54<1:58:50, 25.46s/it]"
     ]
    },
    {
     "name": "stdout",
     "output_type": "stream",
     "text": [
      "20210327\n"
     ]
    },
    {
     "name": "stderr",
     "output_type": "stream",
     "text": [
      "\r",
      " 24%|██▎       | 86/365 [37:20<1:58:40, 25.52s/it]"
     ]
    },
    {
     "name": "stdout",
     "output_type": "stream",
     "text": [
      "20210328\n"
     ]
    },
    {
     "name": "stderr",
     "output_type": "stream",
     "text": [
      "\r",
      " 24%|██▍       | 87/365 [37:45<1:58:17, 25.53s/it]"
     ]
    },
    {
     "name": "stdout",
     "output_type": "stream",
     "text": [
      "20210329\n"
     ]
    },
    {
     "name": "stderr",
     "output_type": "stream",
     "text": [
      "\r",
      " 24%|██▍       | 88/365 [38:11<1:57:54, 25.54s/it]"
     ]
    },
    {
     "name": "stdout",
     "output_type": "stream",
     "text": [
      "20210330\n"
     ]
    },
    {
     "name": "stderr",
     "output_type": "stream",
     "text": [
      "\r",
      " 24%|██▍       | 89/365 [38:36<1:57:29, 25.54s/it]"
     ]
    },
    {
     "name": "stdout",
     "output_type": "stream",
     "text": [
      "20210331\n"
     ]
    },
    {
     "name": "stderr",
     "output_type": "stream",
     "text": [
      "\r",
      " 25%|██▍       | 90/365 [39:02<1:57:07, 25.56s/it]"
     ]
    },
    {
     "name": "stdout",
     "output_type": "stream",
     "text": [
      "20210401\n"
     ]
    },
    {
     "name": "stderr",
     "output_type": "stream",
     "text": [
      "\r",
      " 25%|██▍       | 91/365 [39:27<1:56:28, 25.50s/it]"
     ]
    },
    {
     "name": "stdout",
     "output_type": "stream",
     "text": [
      "20210402\n"
     ]
    },
    {
     "name": "stderr",
     "output_type": "stream",
     "text": [
      "\r",
      " 25%|██▌       | 92/365 [39:53<1:55:56, 25.48s/it]"
     ]
    },
    {
     "name": "stdout",
     "output_type": "stream",
     "text": [
      "20210403\n"
     ]
    },
    {
     "name": "stderr",
     "output_type": "stream",
     "text": [
      "\r",
      " 25%|██▌       | 93/365 [40:18<1:55:42, 25.52s/it]"
     ]
    },
    {
     "name": "stdout",
     "output_type": "stream",
     "text": [
      "20210404\n"
     ]
    },
    {
     "name": "stderr",
     "output_type": "stream",
     "text": [
      "\r",
      " 26%|██▌       | 94/365 [40:44<1:55:15, 25.52s/it]"
     ]
    },
    {
     "name": "stdout",
     "output_type": "stream",
     "text": [
      "20210405\n"
     ]
    },
    {
     "name": "stderr",
     "output_type": "stream",
     "text": [
      "\r",
      " 26%|██▌       | 95/365 [41:09<1:54:51, 25.52s/it]"
     ]
    },
    {
     "name": "stdout",
     "output_type": "stream",
     "text": [
      "20210406\n"
     ]
    },
    {
     "name": "stderr",
     "output_type": "stream",
     "text": [
      "\r",
      " 26%|██▋       | 96/365 [41:35<1:54:37, 25.57s/it]"
     ]
    },
    {
     "name": "stdout",
     "output_type": "stream",
     "text": [
      "20210407\n"
     ]
    },
    {
     "name": "stderr",
     "output_type": "stream",
     "text": [
      "\r",
      " 27%|██▋       | 97/365 [42:01<1:54:22, 25.61s/it]"
     ]
    },
    {
     "name": "stdout",
     "output_type": "stream",
     "text": [
      "20210408\n"
     ]
    },
    {
     "name": "stderr",
     "output_type": "stream",
     "text": [
      "\r",
      " 27%|██▋       | 98/365 [42:26<1:53:56, 25.60s/it]"
     ]
    },
    {
     "name": "stdout",
     "output_type": "stream",
     "text": [
      "20210409\n"
     ]
    },
    {
     "name": "stderr",
     "output_type": "stream",
     "text": [
      "\r",
      " 27%|██▋       | 99/365 [42:52<1:53:11, 25.53s/it]"
     ]
    },
    {
     "name": "stdout",
     "output_type": "stream",
     "text": [
      "20210410\n"
     ]
    },
    {
     "name": "stderr",
     "output_type": "stream",
     "text": [
      "\r",
      " 27%|██▋       | 100/365 [43:17<1:52:50, 25.55s/it]"
     ]
    },
    {
     "name": "stdout",
     "output_type": "stream",
     "text": [
      "20210411\n"
     ]
    },
    {
     "name": "stderr",
     "output_type": "stream",
     "text": [
      "\r",
      " 28%|██▊       | 101/365 [43:43<1:52:33, 25.58s/it]"
     ]
    },
    {
     "name": "stdout",
     "output_type": "stream",
     "text": [
      "20210412\n"
     ]
    },
    {
     "name": "stderr",
     "output_type": "stream",
     "text": [
      "\r",
      " 28%|██▊       | 102/365 [44:08<1:51:57, 25.54s/it]"
     ]
    },
    {
     "name": "stdout",
     "output_type": "stream",
     "text": [
      "20210413\n"
     ]
    },
    {
     "name": "stderr",
     "output_type": "stream",
     "text": [
      "\r",
      " 28%|██▊       | 103/365 [44:35<1:52:36, 25.79s/it]"
     ]
    },
    {
     "name": "stdout",
     "output_type": "stream",
     "text": [
      "20210414\n"
     ]
    },
    {
     "name": "stderr",
     "output_type": "stream",
     "text": [
      "\r",
      " 28%|██▊       | 104/365 [45:01<1:52:48, 25.93s/it]"
     ]
    },
    {
     "name": "stdout",
     "output_type": "stream",
     "text": [
      "20210415\n"
     ]
    },
    {
     "name": "stderr",
     "output_type": "stream",
     "text": [
      "\r",
      " 29%|██▉       | 105/365 [45:27<1:51:49, 25.81s/it]"
     ]
    },
    {
     "name": "stdout",
     "output_type": "stream",
     "text": [
      "20210416\n"
     ]
    },
    {
     "name": "stderr",
     "output_type": "stream",
     "text": [
      "\r",
      " 29%|██▉       | 106/365 [45:52<1:51:05, 25.73s/it]"
     ]
    },
    {
     "name": "stdout",
     "output_type": "stream",
     "text": [
      "20210417\n"
     ]
    },
    {
     "name": "stderr",
     "output_type": "stream",
     "text": [
      "\r",
      " 29%|██▉       | 107/365 [46:18<1:50:24, 25.68s/it]"
     ]
    },
    {
     "name": "stdout",
     "output_type": "stream",
     "text": [
      "20210418\n"
     ]
    },
    {
     "name": "stderr",
     "output_type": "stream",
     "text": [
      "\r",
      " 30%|██▉       | 108/365 [46:43<1:49:49, 25.64s/it]"
     ]
    },
    {
     "name": "stdout",
     "output_type": "stream",
     "text": [
      "20210419\n"
     ]
    },
    {
     "name": "stderr",
     "output_type": "stream",
     "text": [
      "\r",
      " 30%|██▉       | 109/365 [47:09<1:49:31, 25.67s/it]"
     ]
    },
    {
     "name": "stdout",
     "output_type": "stream",
     "text": [
      "20210420\n"
     ]
    },
    {
     "name": "stderr",
     "output_type": "stream",
     "text": [
      "\r",
      " 30%|███       | 110/365 [47:35<1:49:06, 25.67s/it]"
     ]
    },
    {
     "name": "stdout",
     "output_type": "stream",
     "text": [
      "20210421\n"
     ]
    },
    {
     "name": "stderr",
     "output_type": "stream",
     "text": [
      "\r",
      " 30%|███       | 111/365 [48:01<1:49:04, 25.77s/it]"
     ]
    },
    {
     "name": "stdout",
     "output_type": "stream",
     "text": [
      "20210422\n"
     ]
    },
    {
     "name": "stderr",
     "output_type": "stream",
     "text": [
      "\r",
      " 31%|███       | 112/365 [48:26<1:48:18, 25.69s/it]"
     ]
    },
    {
     "name": "stdout",
     "output_type": "stream",
     "text": [
      "20210423\n"
     ]
    },
    {
     "name": "stderr",
     "output_type": "stream",
     "text": [
      "\r",
      " 31%|███       | 113/365 [48:52<1:47:42, 25.65s/it]"
     ]
    },
    {
     "name": "stdout",
     "output_type": "stream",
     "text": [
      "20210424\n"
     ]
    },
    {
     "name": "stderr",
     "output_type": "stream",
     "text": [
      "\r",
      " 31%|███       | 114/365 [49:18<1:47:47, 25.77s/it]"
     ]
    },
    {
     "name": "stdout",
     "output_type": "stream",
     "text": [
      "20210425\n"
     ]
    },
    {
     "name": "stderr",
     "output_type": "stream",
     "text": [
      "\r",
      " 32%|███▏      | 115/365 [49:43<1:46:54, 25.66s/it]"
     ]
    },
    {
     "name": "stdout",
     "output_type": "stream",
     "text": [
      "20210426\n"
     ]
    },
    {
     "name": "stderr",
     "output_type": "stream",
     "text": [
      "\r",
      " 32%|███▏      | 116/365 [50:09<1:46:27, 25.65s/it]"
     ]
    },
    {
     "name": "stdout",
     "output_type": "stream",
     "text": [
      "20210427\n"
     ]
    },
    {
     "name": "stderr",
     "output_type": "stream",
     "text": [
      "\r",
      " 32%|███▏      | 117/365 [50:35<1:46:05, 25.67s/it]"
     ]
    },
    {
     "name": "stdout",
     "output_type": "stream",
     "text": [
      "20210428\n"
     ]
    },
    {
     "name": "stderr",
     "output_type": "stream",
     "text": [
      "\r",
      " 32%|███▏      | 118/365 [51:00<1:45:29, 25.62s/it]"
     ]
    },
    {
     "name": "stdout",
     "output_type": "stream",
     "text": [
      "20210429\n"
     ]
    },
    {
     "name": "stderr",
     "output_type": "stream",
     "text": [
      "\r",
      " 33%|███▎      | 119/365 [51:26<1:44:55, 25.59s/it]"
     ]
    },
    {
     "name": "stdout",
     "output_type": "stream",
     "text": [
      "20210430\n"
     ]
    },
    {
     "name": "stderr",
     "output_type": "stream",
     "text": [
      "\r",
      " 33%|███▎      | 120/365 [51:51<1:44:43, 25.65s/it]"
     ]
    },
    {
     "name": "stdout",
     "output_type": "stream",
     "text": [
      "20210501\n"
     ]
    },
    {
     "name": "stderr",
     "output_type": "stream",
     "text": [
      "\r",
      " 33%|███▎      | 121/365 [52:17<1:44:00, 25.57s/it]"
     ]
    },
    {
     "name": "stdout",
     "output_type": "stream",
     "text": [
      "20210502\n"
     ]
    },
    {
     "name": "stderr",
     "output_type": "stream",
     "text": [
      "\r",
      " 33%|███▎      | 122/365 [52:42<1:43:18, 25.51s/it]"
     ]
    },
    {
     "name": "stdout",
     "output_type": "stream",
     "text": [
      "20210503\n"
     ]
    },
    {
     "name": "stderr",
     "output_type": "stream",
     "text": [
      "\r",
      " 34%|███▎      | 123/365 [53:08<1:43:02, 25.55s/it]"
     ]
    },
    {
     "name": "stdout",
     "output_type": "stream",
     "text": [
      "20210504\n"
     ]
    },
    {
     "name": "stderr",
     "output_type": "stream",
     "text": [
      "\r",
      " 34%|███▍      | 124/365 [53:33<1:42:51, 25.61s/it]"
     ]
    },
    {
     "name": "stdout",
     "output_type": "stream",
     "text": [
      "20210505\n"
     ]
    },
    {
     "name": "stderr",
     "output_type": "stream",
     "text": [
      "\r",
      " 34%|███▍      | 125/365 [53:59<1:42:15, 25.57s/it]"
     ]
    },
    {
     "name": "stdout",
     "output_type": "stream",
     "text": [
      "20210506\n"
     ]
    },
    {
     "name": "stderr",
     "output_type": "stream",
     "text": [
      "\r",
      " 35%|███▍      | 126/365 [54:24<1:41:43, 25.54s/it]"
     ]
    },
    {
     "name": "stdout",
     "output_type": "stream",
     "text": [
      "20210507\n"
     ]
    },
    {
     "name": "stderr",
     "output_type": "stream",
     "text": [
      "\r",
      " 35%|███▍      | 127/365 [54:50<1:41:16, 25.53s/it]"
     ]
    },
    {
     "name": "stdout",
     "output_type": "stream",
     "text": [
      "20210508\n"
     ]
    },
    {
     "name": "stderr",
     "output_type": "stream",
     "text": [
      "\r",
      " 35%|███▌      | 128/365 [55:16<1:41:03, 25.59s/it]"
     ]
    },
    {
     "name": "stdout",
     "output_type": "stream",
     "text": [
      "20210509\n"
     ]
    },
    {
     "name": "stderr",
     "output_type": "stream",
     "text": [
      "\r",
      " 35%|███▌      | 129/365 [55:41<1:40:33, 25.57s/it]"
     ]
    },
    {
     "name": "stdout",
     "output_type": "stream",
     "text": [
      "20210510\n"
     ]
    },
    {
     "name": "stderr",
     "output_type": "stream",
     "text": [
      "\r",
      " 36%|███▌      | 130/365 [56:07<1:40:04, 25.55s/it]"
     ]
    },
    {
     "name": "stdout",
     "output_type": "stream",
     "text": [
      "20210511\n"
     ]
    },
    {
     "name": "stderr",
     "output_type": "stream",
     "text": [
      "\r",
      " 36%|███▌      | 131/365 [56:32<1:39:47, 25.59s/it]"
     ]
    },
    {
     "name": "stdout",
     "output_type": "stream",
     "text": [
      "20210512\n"
     ]
    },
    {
     "name": "stderr",
     "output_type": "stream",
     "text": [
      "\r",
      " 36%|███▌      | 132/365 [56:58<1:39:30, 25.62s/it]"
     ]
    },
    {
     "name": "stdout",
     "output_type": "stream",
     "text": [
      "20210513\n"
     ]
    },
    {
     "name": "stderr",
     "output_type": "stream",
     "text": [
      "\r",
      " 36%|███▋      | 133/365 [57:24<1:39:05, 25.63s/it]"
     ]
    },
    {
     "name": "stdout",
     "output_type": "stream",
     "text": [
      "20210514\n"
     ]
    },
    {
     "name": "stderr",
     "output_type": "stream",
     "text": [
      "\r",
      " 37%|███▋      | 134/365 [57:49<1:38:43, 25.64s/it]"
     ]
    },
    {
     "name": "stdout",
     "output_type": "stream",
     "text": [
      "20210515\n"
     ]
    },
    {
     "name": "stderr",
     "output_type": "stream",
     "text": [
      "\r",
      " 37%|███▋      | 135/365 [58:15<1:38:18, 25.65s/it]"
     ]
    },
    {
     "name": "stdout",
     "output_type": "stream",
     "text": [
      "20210516\n"
     ]
    },
    {
     "name": "stderr",
     "output_type": "stream",
     "text": [
      "\r",
      " 37%|███▋      | 136/365 [58:41<1:38:01, 25.68s/it]"
     ]
    },
    {
     "name": "stdout",
     "output_type": "stream",
     "text": [
      "20210517\n"
     ]
    },
    {
     "name": "stderr",
     "output_type": "stream",
     "text": [
      "\r",
      " 38%|███▊      | 137/365 [59:07<1:37:44, 25.72s/it]"
     ]
    },
    {
     "name": "stdout",
     "output_type": "stream",
     "text": [
      "20210518\n"
     ]
    },
    {
     "name": "stderr",
     "output_type": "stream",
     "text": [
      "\r",
      " 38%|███▊      | 138/365 [59:32<1:37:20, 25.73s/it]"
     ]
    },
    {
     "name": "stdout",
     "output_type": "stream",
     "text": [
      "20210519\n"
     ]
    },
    {
     "name": "stderr",
     "output_type": "stream",
     "text": [
      "\r",
      " 38%|███▊      | 139/365 [59:58<1:36:46, 25.69s/it]"
     ]
    },
    {
     "name": "stdout",
     "output_type": "stream",
     "text": [
      "20210520\n"
     ]
    },
    {
     "name": "stderr",
     "output_type": "stream",
     "text": [
      "\r",
      " 38%|███▊      | 140/365 [1:00:24<1:36:13, 25.66s/it]"
     ]
    },
    {
     "name": "stdout",
     "output_type": "stream",
     "text": [
      "20210521\n"
     ]
    },
    {
     "name": "stderr",
     "output_type": "stream",
     "text": [
      "\r",
      " 39%|███▊      | 141/365 [1:00:49<1:35:52, 25.68s/it]"
     ]
    },
    {
     "name": "stdout",
     "output_type": "stream",
     "text": [
      "20210522\n"
     ]
    },
    {
     "name": "stderr",
     "output_type": "stream",
     "text": [
      "\r",
      " 39%|███▉      | 142/365 [1:01:16<1:36:19, 25.92s/it]"
     ]
    },
    {
     "name": "stdout",
     "output_type": "stream",
     "text": [
      "20210523\n"
     ]
    },
    {
     "name": "stderr",
     "output_type": "stream",
     "text": [
      "\r",
      " 39%|███▉      | 143/365 [1:01:42<1:36:48, 26.16s/it]"
     ]
    },
    {
     "name": "stdout",
     "output_type": "stream",
     "text": [
      "20210524\n"
     ]
    },
    {
     "name": "stderr",
     "output_type": "stream",
     "text": [
      "\r",
      " 39%|███▉      | 144/365 [1:02:10<1:37:34, 26.49s/it]"
     ]
    },
    {
     "name": "stdout",
     "output_type": "stream",
     "text": [
      "20210525\n"
     ]
    },
    {
     "name": "stderr",
     "output_type": "stream",
     "text": [
      "\r",
      " 40%|███▉      | 145/365 [1:02:35<1:36:17, 26.26s/it]"
     ]
    },
    {
     "name": "stdout",
     "output_type": "stream",
     "text": [
      "20210526\n"
     ]
    },
    {
     "name": "stderr",
     "output_type": "stream",
     "text": [
      "\r",
      " 40%|████      | 146/365 [1:03:01<1:35:11, 26.08s/it]"
     ]
    },
    {
     "name": "stdout",
     "output_type": "stream",
     "text": [
      "20210527\n"
     ]
    },
    {
     "name": "stderr",
     "output_type": "stream",
     "text": [
      "\r",
      " 40%|████      | 147/365 [1:03:27<1:34:26, 25.99s/it]"
     ]
    },
    {
     "name": "stdout",
     "output_type": "stream",
     "text": [
      "20210528\n"
     ]
    },
    {
     "name": "stderr",
     "output_type": "stream",
     "text": [
      "\r",
      " 41%|████      | 148/365 [1:03:53<1:33:55, 25.97s/it]"
     ]
    },
    {
     "name": "stdout",
     "output_type": "stream",
     "text": [
      "20210529\n"
     ]
    },
    {
     "name": "stderr",
     "output_type": "stream",
     "text": [
      "\r",
      " 41%|████      | 149/365 [1:04:18<1:33:06, 25.86s/it]"
     ]
    },
    {
     "name": "stdout",
     "output_type": "stream",
     "text": [
      "20210530\n"
     ]
    },
    {
     "name": "stderr",
     "output_type": "stream",
     "text": [
      "\r",
      " 41%|████      | 150/365 [1:04:44<1:32:18, 25.76s/it]"
     ]
    },
    {
     "name": "stdout",
     "output_type": "stream",
     "text": [
      "20210531\n"
     ]
    },
    {
     "name": "stderr",
     "output_type": "stream",
     "text": [
      "\r",
      " 41%|████▏     | 151/365 [1:05:09<1:31:37, 25.69s/it]"
     ]
    },
    {
     "name": "stdout",
     "output_type": "stream",
     "text": [
      "20210601\n"
     ]
    },
    {
     "name": "stderr",
     "output_type": "stream",
     "text": [
      "\r",
      " 42%|████▏     | 152/365 [1:05:35<1:31:00, 25.63s/it]"
     ]
    },
    {
     "name": "stdout",
     "output_type": "stream",
     "text": [
      "20210602\n"
     ]
    },
    {
     "name": "stderr",
     "output_type": "stream",
     "text": [
      "\r",
      " 42%|████▏     | 153/365 [1:06:01<1:30:29, 25.61s/it]"
     ]
    },
    {
     "name": "stdout",
     "output_type": "stream",
     "text": [
      "20210603\n"
     ]
    },
    {
     "name": "stderr",
     "output_type": "stream",
     "text": [
      "\r",
      " 42%|████▏     | 154/365 [1:06:26<1:30:02, 25.60s/it]"
     ]
    },
    {
     "name": "stdout",
     "output_type": "stream",
     "text": [
      "20210604\n"
     ]
    },
    {
     "name": "stderr",
     "output_type": "stream",
     "text": [
      "\r",
      " 42%|████▏     | 155/365 [1:06:52<1:29:34, 25.59s/it]"
     ]
    },
    {
     "name": "stdout",
     "output_type": "stream",
     "text": [
      "20210605\n"
     ]
    },
    {
     "name": "stderr",
     "output_type": "stream",
     "text": [
      "\r",
      " 43%|████▎     | 156/365 [1:07:17<1:28:58, 25.54s/it]"
     ]
    },
    {
     "name": "stdout",
     "output_type": "stream",
     "text": [
      "20210606\n"
     ]
    },
    {
     "name": "stderr",
     "output_type": "stream",
     "text": [
      "\r",
      " 43%|████▎     | 157/365 [1:07:43<1:28:37, 25.56s/it]"
     ]
    },
    {
     "name": "stdout",
     "output_type": "stream",
     "text": [
      "20210607\n"
     ]
    },
    {
     "name": "stderr",
     "output_type": "stream",
     "text": [
      "\r",
      " 43%|████▎     | 158/365 [1:08:09<1:28:32, 25.66s/it]"
     ]
    },
    {
     "name": "stdout",
     "output_type": "stream",
     "text": [
      "20210608\n"
     ]
    },
    {
     "name": "stderr",
     "output_type": "stream",
     "text": [
      "\r",
      " 44%|████▎     | 159/365 [1:08:35<1:28:21, 25.74s/it]"
     ]
    },
    {
     "name": "stdout",
     "output_type": "stream",
     "text": [
      "20210609\n"
     ]
    },
    {
     "name": "stderr",
     "output_type": "stream",
     "text": [
      "\r",
      " 44%|████▍     | 160/365 [1:09:00<1:28:04, 25.78s/it]"
     ]
    },
    {
     "name": "stdout",
     "output_type": "stream",
     "text": [
      "20210610\n"
     ]
    },
    {
     "name": "stderr",
     "output_type": "stream",
     "text": [
      "\r",
      " 44%|████▍     | 161/365 [1:09:26<1:27:27, 25.72s/it]"
     ]
    },
    {
     "name": "stdout",
     "output_type": "stream",
     "text": [
      "20210611\n"
     ]
    },
    {
     "name": "stderr",
     "output_type": "stream",
     "text": [
      "\r",
      " 44%|████▍     | 162/365 [1:09:52<1:26:57, 25.70s/it]"
     ]
    },
    {
     "name": "stdout",
     "output_type": "stream",
     "text": [
      "20210612\n"
     ]
    },
    {
     "name": "stderr",
     "output_type": "stream",
     "text": [
      "\r",
      " 45%|████▍     | 163/365 [1:10:18<1:26:45, 25.77s/it]"
     ]
    },
    {
     "name": "stdout",
     "output_type": "stream",
     "text": [
      "20210613\n"
     ]
    },
    {
     "name": "stderr",
     "output_type": "stream",
     "text": [
      "\r",
      " 45%|████▍     | 164/365 [1:10:43<1:26:22, 25.78s/it]"
     ]
    },
    {
     "name": "stdout",
     "output_type": "stream",
     "text": [
      "20210614\n"
     ]
    },
    {
     "name": "stderr",
     "output_type": "stream",
     "text": [
      "\r",
      " 45%|████▌     | 165/365 [1:11:09<1:25:50, 25.75s/it]"
     ]
    },
    {
     "name": "stdout",
     "output_type": "stream",
     "text": [
      "20210615\n"
     ]
    },
    {
     "name": "stderr",
     "output_type": "stream",
     "text": [
      "\r",
      " 45%|████▌     | 166/365 [1:11:35<1:25:08, 25.67s/it]"
     ]
    },
    {
     "name": "stdout",
     "output_type": "stream",
     "text": [
      "20210616\n"
     ]
    },
    {
     "name": "stderr",
     "output_type": "stream",
     "text": [
      "\r",
      " 46%|████▌     | 167/365 [1:12:00<1:24:36, 25.64s/it]"
     ]
    },
    {
     "name": "stdout",
     "output_type": "stream",
     "text": [
      "20210617\n"
     ]
    },
    {
     "name": "stderr",
     "output_type": "stream",
     "text": [
      "\r",
      " 46%|████▌     | 168/365 [1:12:26<1:24:13, 25.65s/it]"
     ]
    },
    {
     "name": "stdout",
     "output_type": "stream",
     "text": [
      "20210618\n"
     ]
    },
    {
     "name": "stderr",
     "output_type": "stream",
     "text": [
      "\r",
      " 46%|████▋     | 169/365 [1:12:52<1:23:52, 25.68s/it]"
     ]
    },
    {
     "name": "stdout",
     "output_type": "stream",
     "text": [
      "20210619\n"
     ]
    },
    {
     "name": "stderr",
     "output_type": "stream",
     "text": [
      "\r",
      " 47%|████▋     | 170/365 [1:13:17<1:23:31, 25.70s/it]"
     ]
    },
    {
     "name": "stdout",
     "output_type": "stream",
     "text": [
      "20210620\n"
     ]
    },
    {
     "name": "stderr",
     "output_type": "stream",
     "text": [
      "\r",
      " 47%|████▋     | 171/365 [1:13:43<1:23:11, 25.73s/it]"
     ]
    },
    {
     "name": "stdout",
     "output_type": "stream",
     "text": [
      "20210621\n"
     ]
    },
    {
     "name": "stderr",
     "output_type": "stream",
     "text": [
      "\r",
      " 47%|████▋     | 172/365 [1:14:09<1:22:37, 25.68s/it]"
     ]
    },
    {
     "name": "stdout",
     "output_type": "stream",
     "text": [
      "20210622\n"
     ]
    },
    {
     "name": "stderr",
     "output_type": "stream",
     "text": [
      "\r",
      " 47%|████▋     | 173/365 [1:14:34<1:22:16, 25.71s/it]"
     ]
    },
    {
     "name": "stdout",
     "output_type": "stream",
     "text": [
      "20210623\n"
     ]
    },
    {
     "name": "stderr",
     "output_type": "stream",
     "text": [
      "\r",
      " 48%|████▊     | 174/365 [1:15:00<1:22:01, 25.77s/it]"
     ]
    },
    {
     "name": "stdout",
     "output_type": "stream",
     "text": [
      "20210624\n"
     ]
    },
    {
     "name": "stderr",
     "output_type": "stream",
     "text": [
      "\r",
      " 48%|████▊     | 175/365 [1:15:26<1:21:46, 25.82s/it]"
     ]
    },
    {
     "name": "stdout",
     "output_type": "stream",
     "text": [
      "20210625\n"
     ]
    },
    {
     "name": "stderr",
     "output_type": "stream",
     "text": [
      "\r",
      " 48%|████▊     | 176/365 [1:15:52<1:21:22, 25.83s/it]"
     ]
    },
    {
     "name": "stdout",
     "output_type": "stream",
     "text": [
      "20210626\n"
     ]
    },
    {
     "name": "stderr",
     "output_type": "stream",
     "text": [
      "\r",
      " 48%|████▊     | 177/365 [1:16:18<1:20:51, 25.80s/it]"
     ]
    },
    {
     "name": "stdout",
     "output_type": "stream",
     "text": [
      "20210627\n"
     ]
    },
    {
     "name": "stderr",
     "output_type": "stream",
     "text": [
      "\r",
      " 49%|████▉     | 178/365 [1:16:44<1:20:29, 25.82s/it]"
     ]
    },
    {
     "name": "stdout",
     "output_type": "stream",
     "text": [
      "20210628\n"
     ]
    },
    {
     "name": "stderr",
     "output_type": "stream",
     "text": [
      "\r",
      " 49%|████▉     | 179/365 [1:17:10<1:20:13, 25.88s/it]"
     ]
    },
    {
     "name": "stdout",
     "output_type": "stream",
     "text": [
      "20210629\n"
     ]
    },
    {
     "name": "stderr",
     "output_type": "stream",
     "text": [
      "\r",
      " 49%|████▉     | 180/365 [1:17:36<1:19:45, 25.87s/it]"
     ]
    },
    {
     "name": "stdout",
     "output_type": "stream",
     "text": [
      "20210630\n"
     ]
    },
    {
     "name": "stderr",
     "output_type": "stream",
     "text": [
      "\r",
      " 50%|████▉     | 181/365 [1:18:01<1:19:18, 25.86s/it]"
     ]
    },
    {
     "name": "stdout",
     "output_type": "stream",
     "text": [
      "20210701\n"
     ]
    },
    {
     "name": "stderr",
     "output_type": "stream",
     "text": [
      "\r",
      " 50%|████▉     | 182/365 [1:18:27<1:18:52, 25.86s/it]"
     ]
    },
    {
     "name": "stdout",
     "output_type": "stream",
     "text": [
      "20210702\n"
     ]
    },
    {
     "name": "stderr",
     "output_type": "stream",
     "text": [
      "\r",
      " 50%|█████     | 183/365 [1:18:53<1:18:09, 25.77s/it]"
     ]
    },
    {
     "name": "stdout",
     "output_type": "stream",
     "text": [
      "20210703\n"
     ]
    },
    {
     "name": "stderr",
     "output_type": "stream",
     "text": [
      "\r",
      " 50%|█████     | 184/365 [1:19:19<1:17:45, 25.78s/it]"
     ]
    },
    {
     "name": "stdout",
     "output_type": "stream",
     "text": [
      "20210704\n"
     ]
    },
    {
     "name": "stderr",
     "output_type": "stream",
     "text": [
      "\r",
      " 51%|█████     | 185/365 [1:19:45<1:17:22, 25.79s/it]"
     ]
    },
    {
     "name": "stdout",
     "output_type": "stream",
     "text": [
      "20210705\n"
     ]
    },
    {
     "name": "stderr",
     "output_type": "stream",
     "text": [
      "\r",
      " 51%|█████     | 186/365 [1:20:10<1:16:58, 25.80s/it]"
     ]
    },
    {
     "name": "stdout",
     "output_type": "stream",
     "text": [
      "20210706\n"
     ]
    },
    {
     "name": "stderr",
     "output_type": "stream",
     "text": [
      "\r",
      " 51%|█████     | 187/365 [1:20:36<1:16:31, 25.80s/it]"
     ]
    },
    {
     "name": "stdout",
     "output_type": "stream",
     "text": [
      "20210707\n"
     ]
    },
    {
     "name": "stderr",
     "output_type": "stream",
     "text": [
      "\r",
      " 52%|█████▏    | 188/365 [1:21:02<1:16:11, 25.83s/it]"
     ]
    },
    {
     "name": "stdout",
     "output_type": "stream",
     "text": [
      "20210708\n"
     ]
    },
    {
     "name": "stderr",
     "output_type": "stream",
     "text": [
      "\r",
      " 52%|█████▏    | 189/365 [1:21:28<1:15:44, 25.82s/it]"
     ]
    },
    {
     "name": "stdout",
     "output_type": "stream",
     "text": [
      "20210709\n"
     ]
    },
    {
     "name": "stderr",
     "output_type": "stream",
     "text": [
      "\r",
      " 52%|█████▏    | 190/365 [1:21:54<1:15:25, 25.86s/it]"
     ]
    },
    {
     "name": "stdout",
     "output_type": "stream",
     "text": [
      "20210710\n"
     ]
    },
    {
     "name": "stderr",
     "output_type": "stream",
     "text": [
      "\r",
      " 52%|█████▏    | 191/365 [1:22:20<1:15:00, 25.87s/it]"
     ]
    },
    {
     "name": "stdout",
     "output_type": "stream",
     "text": [
      "20210711\n"
     ]
    },
    {
     "name": "stderr",
     "output_type": "stream",
     "text": [
      "\r",
      " 53%|█████▎    | 192/365 [1:22:45<1:14:33, 25.86s/it]"
     ]
    },
    {
     "name": "stdout",
     "output_type": "stream",
     "text": [
      "20210712\n"
     ]
    },
    {
     "name": "stderr",
     "output_type": "stream",
     "text": [
      "\r",
      " 53%|█████▎    | 193/365 [1:23:12<1:14:16, 25.91s/it]"
     ]
    },
    {
     "name": "stdout",
     "output_type": "stream",
     "text": [
      "20210713\n"
     ]
    },
    {
     "name": "stderr",
     "output_type": "stream",
     "text": [
      "\r",
      " 53%|█████▎    | 194/365 [1:23:38<1:13:56, 25.94s/it]"
     ]
    },
    {
     "name": "stdout",
     "output_type": "stream",
     "text": [
      "20210714\n"
     ]
    },
    {
     "name": "stderr",
     "output_type": "stream",
     "text": [
      "\r",
      " 53%|█████▎    | 195/365 [1:24:04<1:13:39, 26.00s/it]"
     ]
    },
    {
     "name": "stdout",
     "output_type": "stream",
     "text": [
      "20210715\n"
     ]
    },
    {
     "name": "stderr",
     "output_type": "stream",
     "text": [
      "\r",
      " 54%|█████▎    | 196/365 [1:24:29<1:13:00, 25.92s/it]"
     ]
    },
    {
     "name": "stdout",
     "output_type": "stream",
     "text": [
      "20210716\n"
     ]
    },
    {
     "name": "stderr",
     "output_type": "stream",
     "text": [
      "\r",
      " 54%|█████▍    | 197/365 [1:24:55<1:12:38, 25.94s/it]"
     ]
    },
    {
     "name": "stdout",
     "output_type": "stream",
     "text": [
      "20210717\n"
     ]
    },
    {
     "name": "stderr",
     "output_type": "stream",
     "text": [
      "\r",
      " 54%|█████▍    | 198/365 [1:25:21<1:12:18, 25.98s/it]"
     ]
    },
    {
     "name": "stdout",
     "output_type": "stream",
     "text": [
      "20210718\n"
     ]
    },
    {
     "name": "stderr",
     "output_type": "stream",
     "text": [
      "\r",
      " 55%|█████▍    | 199/365 [1:25:48<1:11:58, 26.02s/it]"
     ]
    },
    {
     "name": "stdout",
     "output_type": "stream",
     "text": [
      "20210719\n"
     ]
    },
    {
     "name": "stderr",
     "output_type": "stream",
     "text": [
      "\r",
      " 55%|█████▍    | 200/365 [1:26:13<1:11:26, 25.98s/it]"
     ]
    },
    {
     "name": "stdout",
     "output_type": "stream",
     "text": [
      "20210720\n"
     ]
    },
    {
     "name": "stderr",
     "output_type": "stream",
     "text": [
      "\r",
      " 55%|█████▌    | 201/365 [1:26:39<1:10:52, 25.93s/it]"
     ]
    },
    {
     "name": "stdout",
     "output_type": "stream",
     "text": [
      "20210721\n"
     ]
    },
    {
     "name": "stderr",
     "output_type": "stream",
     "text": [
      "\r",
      " 55%|█████▌    | 202/365 [1:27:05<1:10:31, 25.96s/it]"
     ]
    },
    {
     "name": "stdout",
     "output_type": "stream",
     "text": [
      "20210722\n"
     ]
    },
    {
     "name": "stderr",
     "output_type": "stream",
     "text": [
      "\r",
      " 56%|█████▌    | 203/365 [1:27:32<1:10:17, 26.04s/it]"
     ]
    },
    {
     "name": "stdout",
     "output_type": "stream",
     "text": [
      "20210723\n"
     ]
    },
    {
     "name": "stderr",
     "output_type": "stream",
     "text": [
      "\r",
      " 56%|█████▌    | 204/365 [1:27:58<1:10:01, 26.10s/it]"
     ]
    },
    {
     "name": "stdout",
     "output_type": "stream",
     "text": [
      "20210724\n"
     ]
    },
    {
     "name": "stderr",
     "output_type": "stream",
     "text": [
      "\r",
      " 56%|█████▌    | 205/365 [1:28:24<1:09:39, 26.12s/it]"
     ]
    },
    {
     "name": "stdout",
     "output_type": "stream",
     "text": [
      "20210725\n"
     ]
    },
    {
     "name": "stderr",
     "output_type": "stream",
     "text": [
      "\r",
      " 56%|█████▋    | 206/365 [1:28:50<1:09:11, 26.11s/it]"
     ]
    },
    {
     "name": "stdout",
     "output_type": "stream",
     "text": [
      "20210726\n"
     ]
    },
    {
     "name": "stderr",
     "output_type": "stream",
     "text": [
      "\r",
      " 57%|█████▋    | 207/365 [1:29:16<1:08:44, 26.11s/it]"
     ]
    },
    {
     "name": "stdout",
     "output_type": "stream",
     "text": [
      "20210727\n"
     ]
    },
    {
     "name": "stderr",
     "output_type": "stream",
     "text": [
      "\r",
      " 57%|█████▋    | 208/365 [1:29:42<1:08:16, 26.09s/it]"
     ]
    },
    {
     "name": "stdout",
     "output_type": "stream",
     "text": [
      "20210728\n"
     ]
    },
    {
     "name": "stderr",
     "output_type": "stream",
     "text": [
      "\r",
      " 57%|█████▋    | 209/365 [1:30:08<1:07:37, 26.01s/it]"
     ]
    },
    {
     "name": "stdout",
     "output_type": "stream",
     "text": [
      "20210729\n"
     ]
    },
    {
     "name": "stderr",
     "output_type": "stream",
     "text": [
      "\r",
      " 58%|█████▊    | 210/365 [1:30:34<1:07:04, 25.96s/it]"
     ]
    },
    {
     "name": "stdout",
     "output_type": "stream",
     "text": [
      "20210730\n"
     ]
    },
    {
     "name": "stderr",
     "output_type": "stream",
     "text": [
      "\r",
      " 58%|█████▊    | 211/365 [1:31:00<1:06:36, 25.95s/it]"
     ]
    },
    {
     "name": "stdout",
     "output_type": "stream",
     "text": [
      "20210731\n"
     ]
    },
    {
     "name": "stderr",
     "output_type": "stream",
     "text": [
      "\r",
      " 58%|█████▊    | 212/365 [1:31:26<1:06:10, 25.95s/it]"
     ]
    },
    {
     "name": "stdout",
     "output_type": "stream",
     "text": [
      "20210801\n"
     ]
    },
    {
     "name": "stderr",
     "output_type": "stream",
     "text": [
      "\r",
      " 58%|█████▊    | 213/365 [1:31:52<1:05:46, 25.97s/it]"
     ]
    },
    {
     "name": "stdout",
     "output_type": "stream",
     "text": [
      "20210802\n"
     ]
    },
    {
     "name": "stderr",
     "output_type": "stream",
     "text": [
      "\r",
      " 59%|█████▊    | 214/365 [1:32:18<1:05:16, 25.94s/it]"
     ]
    },
    {
     "name": "stdout",
     "output_type": "stream",
     "text": [
      "20210803\n"
     ]
    },
    {
     "name": "stderr",
     "output_type": "stream",
     "text": [
      "\r",
      " 59%|█████▉    | 215/365 [1:32:44<1:04:57, 25.98s/it]"
     ]
    },
    {
     "name": "stdout",
     "output_type": "stream",
     "text": [
      "20210804\n"
     ]
    },
    {
     "name": "stderr",
     "output_type": "stream",
     "text": [
      "\r",
      " 59%|█████▉    | 216/365 [1:33:09<1:04:23, 25.93s/it]"
     ]
    },
    {
     "name": "stdout",
     "output_type": "stream",
     "text": [
      "20210805\n"
     ]
    },
    {
     "name": "stderr",
     "output_type": "stream",
     "text": [
      "\r",
      " 59%|█████▉    | 217/365 [1:33:36<1:04:02, 25.96s/it]"
     ]
    },
    {
     "name": "stdout",
     "output_type": "stream",
     "text": [
      "20210806\n"
     ]
    },
    {
     "name": "stderr",
     "output_type": "stream",
     "text": [
      "\r",
      " 60%|█████▉    | 218/365 [1:34:02<1:03:38, 25.97s/it]"
     ]
    },
    {
     "name": "stdout",
     "output_type": "stream",
     "text": [
      "20210807\n"
     ]
    },
    {
     "name": "stderr",
     "output_type": "stream",
     "text": [
      "\r",
      " 60%|██████    | 219/365 [1:34:28<1:03:30, 26.10s/it]"
     ]
    },
    {
     "name": "stdout",
     "output_type": "stream",
     "text": [
      "20210808\n"
     ]
    },
    {
     "name": "stderr",
     "output_type": "stream",
     "text": [
      "\r",
      " 60%|██████    | 220/365 [1:34:54<1:02:59, 26.06s/it]"
     ]
    },
    {
     "name": "stdout",
     "output_type": "stream",
     "text": [
      "20210809\n"
     ]
    },
    {
     "name": "stderr",
     "output_type": "stream",
     "text": [
      "\r",
      " 61%|██████    | 221/365 [1:35:20<1:02:38, 26.10s/it]"
     ]
    },
    {
     "name": "stdout",
     "output_type": "stream",
     "text": [
      "20210810\n"
     ]
    },
    {
     "name": "stderr",
     "output_type": "stream",
     "text": [
      "\r",
      " 61%|██████    | 222/365 [1:35:46<1:02:11, 26.09s/it]"
     ]
    },
    {
     "name": "stdout",
     "output_type": "stream",
     "text": [
      "20210811\n"
     ]
    },
    {
     "name": "stderr",
     "output_type": "stream",
     "text": [
      "\r",
      " 61%|██████    | 223/365 [1:36:12<1:01:44, 26.09s/it]"
     ]
    },
    {
     "name": "stdout",
     "output_type": "stream",
     "text": [
      "20210812\n"
     ]
    },
    {
     "name": "stderr",
     "output_type": "stream",
     "text": [
      "\r",
      " 61%|██████▏   | 224/365 [1:36:38<1:01:13, 26.05s/it]"
     ]
    },
    {
     "name": "stdout",
     "output_type": "stream",
     "text": [
      "20210813\n"
     ]
    },
    {
     "name": "stderr",
     "output_type": "stream",
     "text": [
      "\r",
      " 62%|██████▏   | 225/365 [1:37:04<1:00:55, 26.11s/it]"
     ]
    },
    {
     "name": "stdout",
     "output_type": "stream",
     "text": [
      "20210814\n"
     ]
    },
    {
     "name": "stderr",
     "output_type": "stream",
     "text": [
      "\r",
      " 62%|██████▏   | 226/365 [1:37:31<1:00:27, 26.10s/it]"
     ]
    },
    {
     "name": "stdout",
     "output_type": "stream",
     "text": [
      "20210815\n"
     ]
    },
    {
     "name": "stderr",
     "output_type": "stream",
     "text": [
      "\r",
      " 62%|██████▏   | 227/365 [1:37:57<59:58, 26.08s/it]  "
     ]
    },
    {
     "name": "stdout",
     "output_type": "stream",
     "text": [
      "20210816\n"
     ]
    },
    {
     "name": "stderr",
     "output_type": "stream",
     "text": [
      "\r",
      " 62%|██████▏   | 228/365 [1:38:23<59:27, 26.04s/it]"
     ]
    },
    {
     "name": "stdout",
     "output_type": "stream",
     "text": [
      "20210817\n"
     ]
    },
    {
     "name": "stderr",
     "output_type": "stream",
     "text": [
      "\r",
      " 63%|██████▎   | 229/365 [1:38:49<59:00, 26.03s/it]"
     ]
    },
    {
     "name": "stdout",
     "output_type": "stream",
     "text": [
      "20210818\n"
     ]
    },
    {
     "name": "stderr",
     "output_type": "stream",
     "text": [
      "\r",
      " 63%|██████▎   | 230/365 [1:39:15<58:34, 26.03s/it]"
     ]
    },
    {
     "name": "stdout",
     "output_type": "stream",
     "text": [
      "20210819\n"
     ]
    },
    {
     "name": "stderr",
     "output_type": "stream",
     "text": [
      "\r",
      " 63%|██████▎   | 231/365 [1:39:41<58:09, 26.04s/it]"
     ]
    },
    {
     "name": "stdout",
     "output_type": "stream",
     "text": [
      "20210820\n"
     ]
    },
    {
     "name": "stderr",
     "output_type": "stream",
     "text": [
      "\r",
      " 64%|██████▎   | 232/365 [1:40:07<57:37, 26.00s/it]"
     ]
    },
    {
     "name": "stdout",
     "output_type": "stream",
     "text": [
      "20210821\n"
     ]
    },
    {
     "name": "stderr",
     "output_type": "stream",
     "text": [
      "\r",
      " 64%|██████▍   | 233/365 [1:40:35<59:06, 26.86s/it]"
     ]
    },
    {
     "name": "stdout",
     "output_type": "stream",
     "text": [
      "20210822\n"
     ]
    },
    {
     "name": "stderr",
     "output_type": "stream",
     "text": [
      "\r",
      " 64%|██████▍   | 234/365 [1:41:01<58:06, 26.61s/it]"
     ]
    },
    {
     "name": "stdout",
     "output_type": "stream",
     "text": [
      "20210823\n"
     ]
    },
    {
     "name": "stderr",
     "output_type": "stream",
     "text": [
      "\r",
      " 64%|██████▍   | 235/365 [1:41:28<57:22, 26.48s/it]"
     ]
    },
    {
     "name": "stdout",
     "output_type": "stream",
     "text": [
      "20210824\n"
     ]
    },
    {
     "name": "stderr",
     "output_type": "stream",
     "text": [
      "\r",
      " 65%|██████▍   | 236/365 [1:41:54<56:49, 26.43s/it]"
     ]
    },
    {
     "name": "stdout",
     "output_type": "stream",
     "text": [
      "20210825\n"
     ]
    },
    {
     "name": "stderr",
     "output_type": "stream",
     "text": [
      "\r",
      " 65%|██████▍   | 237/365 [1:42:20<56:08, 26.32s/it]"
     ]
    },
    {
     "name": "stdout",
     "output_type": "stream",
     "text": [
      "20210826\n"
     ]
    },
    {
     "name": "stderr",
     "output_type": "stream",
     "text": [
      "\r",
      " 65%|██████▌   | 238/365 [1:42:46<55:33, 26.25s/it]"
     ]
    },
    {
     "name": "stdout",
     "output_type": "stream",
     "text": [
      "20210827\n"
     ]
    },
    {
     "name": "stderr",
     "output_type": "stream",
     "text": [
      "\r",
      " 65%|██████▌   | 239/365 [1:43:12<55:09, 26.27s/it]"
     ]
    },
    {
     "name": "stdout",
     "output_type": "stream",
     "text": [
      "20210828\n"
     ]
    },
    {
     "name": "stderr",
     "output_type": "stream",
     "text": [
      "\r",
      " 66%|██████▌   | 240/365 [1:43:38<54:36, 26.21s/it]"
     ]
    },
    {
     "name": "stdout",
     "output_type": "stream",
     "text": [
      "20210829\n"
     ]
    },
    {
     "name": "stderr",
     "output_type": "stream",
     "text": [
      "\r",
      " 66%|██████▌   | 241/365 [1:44:05<54:11, 26.22s/it]"
     ]
    },
    {
     "name": "stdout",
     "output_type": "stream",
     "text": [
      "20210830\n"
     ]
    },
    {
     "name": "stderr",
     "output_type": "stream",
     "text": [
      "\r",
      " 66%|██████▋   | 242/365 [1:44:31<53:46, 26.23s/it]"
     ]
    },
    {
     "name": "stdout",
     "output_type": "stream",
     "text": [
      "20210831\n"
     ]
    },
    {
     "name": "stderr",
     "output_type": "stream",
     "text": [
      "\r",
      " 67%|██████▋   | 243/365 [1:44:57<53:22, 26.25s/it]"
     ]
    },
    {
     "name": "stdout",
     "output_type": "stream",
     "text": [
      "20210901\n"
     ]
    },
    {
     "name": "stderr",
     "output_type": "stream",
     "text": [
      "\r",
      " 67%|██████▋   | 244/365 [1:45:23<52:53, 26.23s/it]"
     ]
    },
    {
     "name": "stdout",
     "output_type": "stream",
     "text": [
      "20210902\n"
     ]
    },
    {
     "name": "stderr",
     "output_type": "stream",
     "text": [
      "\r",
      " 67%|██████▋   | 245/365 [1:45:50<52:42, 26.36s/it]"
     ]
    },
    {
     "name": "stdout",
     "output_type": "stream",
     "text": [
      "20210903\n"
     ]
    },
    {
     "name": "stderr",
     "output_type": "stream",
     "text": [
      "\r",
      " 67%|██████▋   | 246/365 [1:46:16<52:11, 26.31s/it]"
     ]
    },
    {
     "name": "stdout",
     "output_type": "stream",
     "text": [
      "20210904\n"
     ]
    },
    {
     "name": "stderr",
     "output_type": "stream",
     "text": [
      "\r",
      " 68%|██████▊   | 247/365 [1:46:42<51:31, 26.20s/it]"
     ]
    },
    {
     "name": "stdout",
     "output_type": "stream",
     "text": [
      "20210905\n"
     ]
    },
    {
     "name": "stderr",
     "output_type": "stream",
     "text": [
      "\r",
      " 68%|██████▊   | 248/365 [1:47:08<51:02, 26.17s/it]"
     ]
    },
    {
     "name": "stdout",
     "output_type": "stream",
     "text": [
      "20210906\n"
     ]
    },
    {
     "name": "stderr",
     "output_type": "stream",
     "text": [
      "\r",
      " 68%|██████▊   | 249/365 [1:47:35<50:38, 26.19s/it]"
     ]
    },
    {
     "name": "stdout",
     "output_type": "stream",
     "text": [
      "20210907\n"
     ]
    },
    {
     "name": "stderr",
     "output_type": "stream",
     "text": [
      "\r",
      " 68%|██████▊   | 250/365 [1:48:01<50:10, 26.17s/it]"
     ]
    },
    {
     "name": "stdout",
     "output_type": "stream",
     "text": [
      "20210908\n"
     ]
    },
    {
     "name": "stderr",
     "output_type": "stream",
     "text": [
      "\r",
      " 69%|██████▉   | 251/365 [1:48:27<49:42, 26.16s/it]"
     ]
    },
    {
     "name": "stdout",
     "output_type": "stream",
     "text": [
      "20210909\n"
     ]
    },
    {
     "name": "stderr",
     "output_type": "stream",
     "text": [
      "\r",
      " 69%|██████▉   | 252/365 [1:48:53<49:12, 26.13s/it]"
     ]
    },
    {
     "name": "stdout",
     "output_type": "stream",
     "text": [
      "20210910\n"
     ]
    },
    {
     "name": "stderr",
     "output_type": "stream",
     "text": [
      "\r",
      " 69%|██████▉   | 253/365 [1:49:19<48:42, 26.10s/it]"
     ]
    },
    {
     "name": "stdout",
     "output_type": "stream",
     "text": [
      "20210911\n"
     ]
    },
    {
     "name": "stderr",
     "output_type": "stream",
     "text": [
      "\r",
      " 70%|██████▉   | 254/365 [1:49:45<48:16, 26.09s/it]"
     ]
    },
    {
     "name": "stdout",
     "output_type": "stream",
     "text": [
      "20210912\n"
     ]
    },
    {
     "name": "stderr",
     "output_type": "stream",
     "text": [
      "\r",
      " 70%|██████▉   | 255/365 [1:50:11<47:56, 26.15s/it]"
     ]
    },
    {
     "name": "stdout",
     "output_type": "stream",
     "text": [
      "20210913\n"
     ]
    },
    {
     "name": "stderr",
     "output_type": "stream",
     "text": [
      "\r",
      " 70%|███████   | 256/365 [1:50:38<47:47, 26.31s/it]"
     ]
    },
    {
     "name": "stdout",
     "output_type": "stream",
     "text": [
      "20210914\n"
     ]
    },
    {
     "name": "stderr",
     "output_type": "stream",
     "text": [
      "\r",
      " 70%|███████   | 257/365 [1:51:04<47:26, 26.36s/it]"
     ]
    },
    {
     "name": "stdout",
     "output_type": "stream",
     "text": [
      "20210915\n"
     ]
    },
    {
     "name": "stderr",
     "output_type": "stream",
     "text": [
      "\r",
      " 71%|███████   | 258/365 [1:51:31<47:02, 26.38s/it]"
     ]
    },
    {
     "name": "stdout",
     "output_type": "stream",
     "text": [
      "20210916\n"
     ]
    },
    {
     "name": "stderr",
     "output_type": "stream",
     "text": [
      "\r",
      " 71%|███████   | 259/365 [1:51:57<46:39, 26.41s/it]"
     ]
    },
    {
     "name": "stdout",
     "output_type": "stream",
     "text": [
      "20210917\n"
     ]
    },
    {
     "name": "stderr",
     "output_type": "stream",
     "text": [
      "\r",
      " 71%|███████   | 260/365 [1:52:24<46:12, 26.40s/it]"
     ]
    },
    {
     "name": "stdout",
     "output_type": "stream",
     "text": [
      "20210918\n"
     ]
    },
    {
     "name": "stderr",
     "output_type": "stream",
     "text": [
      "\r",
      " 72%|███████▏  | 261/365 [1:52:50<45:55, 26.50s/it]"
     ]
    },
    {
     "name": "stdout",
     "output_type": "stream",
     "text": [
      "20210919\n"
     ]
    },
    {
     "name": "stderr",
     "output_type": "stream",
     "text": [
      "\r",
      " 72%|███████▏  | 262/365 [1:53:17<45:29, 26.50s/it]"
     ]
    },
    {
     "name": "stdout",
     "output_type": "stream",
     "text": [
      "20210920\n"
     ]
    },
    {
     "name": "stderr",
     "output_type": "stream",
     "text": [
      "\r",
      " 72%|███████▏  | 263/365 [1:53:43<45:01, 26.48s/it]"
     ]
    },
    {
     "name": "stdout",
     "output_type": "stream",
     "text": [
      "20210921\n"
     ]
    },
    {
     "name": "stderr",
     "output_type": "stream",
     "text": [
      "\r",
      " 72%|███████▏  | 264/365 [1:54:10<44:34, 26.48s/it]"
     ]
    },
    {
     "name": "stdout",
     "output_type": "stream",
     "text": [
      "20210922\n"
     ]
    },
    {
     "name": "stderr",
     "output_type": "stream",
     "text": [
      "\r",
      " 73%|███████▎  | 265/365 [1:54:37<44:19, 26.59s/it]"
     ]
    },
    {
     "name": "stdout",
     "output_type": "stream",
     "text": [
      "20210923\n"
     ]
    },
    {
     "name": "stderr",
     "output_type": "stream",
     "text": [
      "\r",
      " 73%|███████▎  | 266/365 [1:55:03<43:41, 26.48s/it]"
     ]
    },
    {
     "name": "stdout",
     "output_type": "stream",
     "text": [
      "20210924\n"
     ]
    },
    {
     "name": "stderr",
     "output_type": "stream",
     "text": [
      "\r",
      " 73%|███████▎  | 267/365 [1:55:29<43:07, 26.41s/it]"
     ]
    },
    {
     "name": "stdout",
     "output_type": "stream",
     "text": [
      "20210925\n"
     ]
    },
    {
     "name": "stderr",
     "output_type": "stream",
     "text": [
      "\r",
      " 73%|███████▎  | 268/365 [1:55:56<42:53, 26.53s/it]"
     ]
    },
    {
     "name": "stdout",
     "output_type": "stream",
     "text": [
      "20210926\n"
     ]
    },
    {
     "name": "stderr",
     "output_type": "stream",
     "text": [
      "\r",
      " 74%|███████▎  | 269/365 [1:56:23<42:26, 26.53s/it]"
     ]
    },
    {
     "name": "stdout",
     "output_type": "stream",
     "text": [
      "20210927\n"
     ]
    },
    {
     "name": "stderr",
     "output_type": "stream",
     "text": [
      "\r",
      " 74%|███████▍  | 270/365 [1:56:49<41:54, 26.47s/it]"
     ]
    },
    {
     "name": "stdout",
     "output_type": "stream",
     "text": [
      "20210928\n"
     ]
    },
    {
     "name": "stderr",
     "output_type": "stream",
     "text": [
      "\r",
      " 74%|███████▍  | 271/365 [1:57:15<41:24, 26.43s/it]"
     ]
    },
    {
     "name": "stdout",
     "output_type": "stream",
     "text": [
      "20210929\n"
     ]
    },
    {
     "name": "stderr",
     "output_type": "stream",
     "text": [
      "\r",
      " 75%|███████▍  | 272/365 [1:57:42<41:05, 26.51s/it]"
     ]
    },
    {
     "name": "stdout",
     "output_type": "stream",
     "text": [
      "20210930\n"
     ]
    },
    {
     "name": "stderr",
     "output_type": "stream",
     "text": [
      "\r",
      " 75%|███████▍  | 273/365 [1:58:08<40:40, 26.53s/it]"
     ]
    },
    {
     "name": "stdout",
     "output_type": "stream",
     "text": [
      "20211001\n"
     ]
    },
    {
     "name": "stderr",
     "output_type": "stream",
     "text": [
      "\r",
      " 75%|███████▌  | 274/365 [1:58:35<40:09, 26.48s/it]"
     ]
    },
    {
     "name": "stdout",
     "output_type": "stream",
     "text": [
      "20211002\n"
     ]
    },
    {
     "name": "stderr",
     "output_type": "stream",
     "text": [
      "\r",
      " 75%|███████▌  | 275/365 [1:59:02<39:54, 26.61s/it]"
     ]
    },
    {
     "name": "stdout",
     "output_type": "stream",
     "text": [
      "20211003\n"
     ]
    },
    {
     "name": "stderr",
     "output_type": "stream",
     "text": [
      "\r",
      " 76%|███████▌  | 276/365 [1:59:28<39:22, 26.55s/it]"
     ]
    },
    {
     "name": "stdout",
     "output_type": "stream",
     "text": [
      "20211004\n"
     ]
    },
    {
     "name": "stderr",
     "output_type": "stream",
     "text": [
      "\r",
      " 76%|███████▌  | 277/365 [1:59:54<38:48, 26.46s/it]"
     ]
    },
    {
     "name": "stdout",
     "output_type": "stream",
     "text": [
      "20211005\n"
     ]
    },
    {
     "name": "stderr",
     "output_type": "stream",
     "text": [
      "\r",
      " 76%|███████▌  | 278/365 [2:00:21<38:15, 26.38s/it]"
     ]
    },
    {
     "name": "stdout",
     "output_type": "stream",
     "text": [
      "20211006\n"
     ]
    },
    {
     "name": "stderr",
     "output_type": "stream",
     "text": [
      "\r",
      " 76%|███████▋  | 279/365 [2:00:47<37:45, 26.35s/it]"
     ]
    },
    {
     "name": "stdout",
     "output_type": "stream",
     "text": [
      "20211007\n"
     ]
    },
    {
     "name": "stderr",
     "output_type": "stream",
     "text": [
      "\r",
      " 77%|███████▋  | 280/365 [2:01:13<37:16, 26.31s/it]"
     ]
    },
    {
     "name": "stdout",
     "output_type": "stream",
     "text": [
      "20211008\n"
     ]
    },
    {
     "name": "stderr",
     "output_type": "stream",
     "text": [
      "\r",
      " 77%|███████▋  | 281/365 [2:01:39<36:50, 26.32s/it]"
     ]
    },
    {
     "name": "stdout",
     "output_type": "stream",
     "text": [
      "20211009\n"
     ]
    },
    {
     "name": "stderr",
     "output_type": "stream",
     "text": [
      "\r",
      " 77%|███████▋  | 282/365 [2:02:06<36:21, 26.28s/it]"
     ]
    },
    {
     "name": "stdout",
     "output_type": "stream",
     "text": [
      "20211010\n"
     ]
    },
    {
     "name": "stderr",
     "output_type": "stream",
     "text": [
      "\r",
      " 78%|███████▊  | 283/365 [2:02:32<35:59, 26.33s/it]"
     ]
    },
    {
     "name": "stdout",
     "output_type": "stream",
     "text": [
      "20211011\n"
     ]
    },
    {
     "name": "stderr",
     "output_type": "stream",
     "text": [
      "\r",
      " 78%|███████▊  | 284/365 [2:02:59<35:45, 26.49s/it]"
     ]
    },
    {
     "name": "stdout",
     "output_type": "stream",
     "text": [
      "20211012\n"
     ]
    },
    {
     "name": "stderr",
     "output_type": "stream",
     "text": [
      "\r",
      " 78%|███████▊  | 285/365 [2:03:26<35:27, 26.60s/it]"
     ]
    },
    {
     "name": "stdout",
     "output_type": "stream",
     "text": [
      "20211013\n"
     ]
    },
    {
     "name": "stderr",
     "output_type": "stream",
     "text": [
      "\r",
      " 78%|███████▊  | 286/365 [2:03:52<34:53, 26.50s/it]"
     ]
    },
    {
     "name": "stdout",
     "output_type": "stream",
     "text": [
      "20211014\n"
     ]
    },
    {
     "name": "stderr",
     "output_type": "stream",
     "text": [
      "\r",
      " 79%|███████▊  | 287/365 [2:04:18<34:24, 26.47s/it]"
     ]
    },
    {
     "name": "stdout",
     "output_type": "stream",
     "text": [
      "20211015\n"
     ]
    },
    {
     "name": "stderr",
     "output_type": "stream",
     "text": [
      "\r",
      " 79%|███████▉  | 288/365 [2:04:45<33:54, 26.42s/it]"
     ]
    },
    {
     "name": "stdout",
     "output_type": "stream",
     "text": [
      "20211016\n"
     ]
    },
    {
     "name": "stderr",
     "output_type": "stream",
     "text": [
      "\r",
      " 79%|███████▉  | 289/365 [2:05:11<33:24, 26.38s/it]"
     ]
    },
    {
     "name": "stdout",
     "output_type": "stream",
     "text": [
      "20211017\n"
     ]
    },
    {
     "name": "stderr",
     "output_type": "stream",
     "text": [
      "\r",
      " 79%|███████▉  | 290/365 [2:05:37<32:54, 26.32s/it]"
     ]
    },
    {
     "name": "stdout",
     "output_type": "stream",
     "text": [
      "20211018\n"
     ]
    },
    {
     "name": "stderr",
     "output_type": "stream",
     "text": [
      "\r",
      " 80%|███████▉  | 291/365 [2:06:03<32:23, 26.27s/it]"
     ]
    },
    {
     "name": "stdout",
     "output_type": "stream",
     "text": [
      "20211019\n"
     ]
    },
    {
     "name": "stderr",
     "output_type": "stream",
     "text": [
      "\r",
      " 80%|████████  | 292/365 [2:06:30<31:59, 26.30s/it]"
     ]
    },
    {
     "name": "stdout",
     "output_type": "stream",
     "text": [
      "20211020\n"
     ]
    },
    {
     "name": "stderr",
     "output_type": "stream",
     "text": [
      "\r",
      " 80%|████████  | 293/365 [2:06:56<31:37, 26.35s/it]"
     ]
    },
    {
     "name": "stdout",
     "output_type": "stream",
     "text": [
      "20211021\n"
     ]
    },
    {
     "name": "stderr",
     "output_type": "stream",
     "text": [
      "\r",
      " 81%|████████  | 294/365 [2:07:22<31:09, 26.33s/it]"
     ]
    },
    {
     "name": "stdout",
     "output_type": "stream",
     "text": [
      "20211022\n"
     ]
    },
    {
     "name": "stderr",
     "output_type": "stream",
     "text": [
      "\r",
      " 81%|████████  | 295/365 [2:07:49<30:39, 26.28s/it]"
     ]
    },
    {
     "name": "stdout",
     "output_type": "stream",
     "text": [
      "20211023\n"
     ]
    },
    {
     "name": "stderr",
     "output_type": "stream",
     "text": [
      "\r",
      " 81%|████████  | 296/365 [2:08:15<30:12, 26.27s/it]"
     ]
    },
    {
     "name": "stdout",
     "output_type": "stream",
     "text": [
      "20211024\n"
     ]
    },
    {
     "name": "stderr",
     "output_type": "stream",
     "text": [
      "\r",
      " 81%|████████▏ | 297/365 [2:08:41<29:46, 26.27s/it]"
     ]
    },
    {
     "name": "stdout",
     "output_type": "stream",
     "text": [
      "20211025\n"
     ]
    },
    {
     "name": "stderr",
     "output_type": "stream",
     "text": [
      "\r",
      " 82%|████████▏ | 298/365 [2:09:07<29:21, 26.28s/it]"
     ]
    },
    {
     "name": "stdout",
     "output_type": "stream",
     "text": [
      "20211026\n"
     ]
    },
    {
     "name": "stderr",
     "output_type": "stream",
     "text": [
      "\r",
      " 82%|████████▏ | 299/365 [2:09:34<28:54, 26.28s/it]"
     ]
    },
    {
     "name": "stdout",
     "output_type": "stream",
     "text": [
      "20211027\n"
     ]
    },
    {
     "name": "stderr",
     "output_type": "stream",
     "text": [
      "\r",
      " 82%|████████▏ | 300/365 [2:10:00<28:27, 26.27s/it]"
     ]
    },
    {
     "name": "stdout",
     "output_type": "stream",
     "text": [
      "20211028\n"
     ]
    },
    {
     "name": "stderr",
     "output_type": "stream",
     "text": [
      "\r",
      " 82%|████████▏ | 301/365 [2:10:26<28:02, 26.29s/it]"
     ]
    },
    {
     "name": "stdout",
     "output_type": "stream",
     "text": [
      "20211029\n"
     ]
    },
    {
     "name": "stderr",
     "output_type": "stream",
     "text": [
      "\r",
      " 83%|████████▎ | 302/365 [2:10:52<27:32, 26.23s/it]"
     ]
    },
    {
     "name": "stdout",
     "output_type": "stream",
     "text": [
      "20211030\n"
     ]
    },
    {
     "name": "stderr",
     "output_type": "stream",
     "text": [
      "\r",
      " 83%|████████▎ | 303/365 [2:11:19<27:04, 26.21s/it]"
     ]
    },
    {
     "name": "stdout",
     "output_type": "stream",
     "text": [
      "20211031\n"
     ]
    },
    {
     "name": "stderr",
     "output_type": "stream",
     "text": [
      "\r",
      " 83%|████████▎ | 304/365 [2:11:45<26:40, 26.24s/it]"
     ]
    },
    {
     "name": "stdout",
     "output_type": "stream",
     "text": [
      "20211101\n"
     ]
    },
    {
     "name": "stderr",
     "output_type": "stream",
     "text": [
      "\r",
      " 84%|████████▎ | 305/365 [2:12:11<26:13, 26.23s/it]"
     ]
    },
    {
     "name": "stdout",
     "output_type": "stream",
     "text": [
      "20211102\n"
     ]
    },
    {
     "name": "stderr",
     "output_type": "stream",
     "text": [
      "\r",
      " 84%|████████▍ | 306/365 [2:12:37<25:48, 26.24s/it]"
     ]
    },
    {
     "name": "stdout",
     "output_type": "stream",
     "text": [
      "20211103\n"
     ]
    },
    {
     "name": "stderr",
     "output_type": "stream",
     "text": [
      "\r",
      " 84%|████████▍ | 307/365 [2:13:04<25:20, 26.21s/it]"
     ]
    },
    {
     "name": "stdout",
     "output_type": "stream",
     "text": [
      "20211104\n"
     ]
    },
    {
     "name": "stderr",
     "output_type": "stream",
     "text": [
      "\r",
      " 84%|████████▍ | 308/365 [2:13:30<24:54, 26.22s/it]"
     ]
    },
    {
     "name": "stdout",
     "output_type": "stream",
     "text": [
      "20211105\n"
     ]
    },
    {
     "name": "stderr",
     "output_type": "stream",
     "text": [
      "\r",
      " 85%|████████▍ | 309/365 [2:13:56<24:27, 26.21s/it]"
     ]
    },
    {
     "name": "stdout",
     "output_type": "stream",
     "text": [
      "20211106\n"
     ]
    },
    {
     "name": "stderr",
     "output_type": "stream",
     "text": [
      "\r",
      " 85%|████████▍ | 310/365 [2:14:22<24:00, 26.20s/it]"
     ]
    },
    {
     "name": "stdout",
     "output_type": "stream",
     "text": [
      "20211107\n"
     ]
    },
    {
     "name": "stderr",
     "output_type": "stream",
     "text": [
      "\r",
      " 85%|████████▌ | 311/365 [2:14:49<23:42, 26.35s/it]"
     ]
    },
    {
     "name": "stdout",
     "output_type": "stream",
     "text": [
      "20211108\n"
     ]
    },
    {
     "name": "stderr",
     "output_type": "stream",
     "text": [
      "\r",
      " 85%|████████▌ | 312/365 [2:15:16<23:26, 26.54s/it]"
     ]
    },
    {
     "name": "stdout",
     "output_type": "stream",
     "text": [
      "20211109\n"
     ]
    },
    {
     "name": "stderr",
     "output_type": "stream",
     "text": [
      "\r",
      " 86%|████████▌ | 313/365 [2:15:42<23:00, 26.54s/it]"
     ]
    },
    {
     "name": "stdout",
     "output_type": "stream",
     "text": [
      "20211110\n"
     ]
    },
    {
     "name": "stderr",
     "output_type": "stream",
     "text": [
      "\r",
      " 86%|████████▌ | 314/365 [2:16:09<22:34, 26.56s/it]"
     ]
    },
    {
     "name": "stdout",
     "output_type": "stream",
     "text": [
      "20211111\n"
     ]
    },
    {
     "name": "stderr",
     "output_type": "stream",
     "text": [
      "\r",
      " 86%|████████▋ | 315/365 [2:16:36<22:16, 26.73s/it]"
     ]
    },
    {
     "name": "stdout",
     "output_type": "stream",
     "text": [
      "20211112\n"
     ]
    },
    {
     "name": "stderr",
     "output_type": "stream",
     "text": [
      "\r",
      " 87%|████████▋ | 316/365 [2:17:03<21:48, 26.70s/it]"
     ]
    },
    {
     "name": "stdout",
     "output_type": "stream",
     "text": [
      "20211113\n"
     ]
    },
    {
     "name": "stderr",
     "output_type": "stream",
     "text": [
      "\r",
      " 87%|████████▋ | 317/365 [2:17:29<21:18, 26.65s/it]"
     ]
    },
    {
     "name": "stdout",
     "output_type": "stream",
     "text": [
      "20211114\n"
     ]
    },
    {
     "name": "stderr",
     "output_type": "stream",
     "text": [
      "\r",
      " 87%|████████▋ | 318/365 [2:17:56<20:47, 26.55s/it]"
     ]
    },
    {
     "name": "stdout",
     "output_type": "stream",
     "text": [
      "20211115\n"
     ]
    },
    {
     "name": "stderr",
     "output_type": "stream",
     "text": [
      "\r",
      " 87%|████████▋ | 319/365 [2:18:22<20:20, 26.53s/it]"
     ]
    },
    {
     "name": "stdout",
     "output_type": "stream",
     "text": [
      "20211116\n"
     ]
    },
    {
     "name": "stderr",
     "output_type": "stream",
     "text": [
      "\r",
      " 88%|████████▊ | 320/365 [2:18:49<19:53, 26.53s/it]"
     ]
    },
    {
     "name": "stdout",
     "output_type": "stream",
     "text": [
      "20211117\n"
     ]
    },
    {
     "name": "stderr",
     "output_type": "stream",
     "text": [
      "\r",
      " 88%|████████▊ | 321/365 [2:19:15<19:27, 26.53s/it]"
     ]
    },
    {
     "name": "stdout",
     "output_type": "stream",
     "text": [
      "20211118\n"
     ]
    },
    {
     "name": "stderr",
     "output_type": "stream",
     "text": [
      "\r",
      " 88%|████████▊ | 322/365 [2:19:42<19:00, 26.52s/it]"
     ]
    },
    {
     "name": "stdout",
     "output_type": "stream",
     "text": [
      "20211119\n"
     ]
    },
    {
     "name": "stderr",
     "output_type": "stream",
     "text": [
      "\r",
      " 88%|████████▊ | 323/365 [2:20:08<18:38, 26.63s/it]"
     ]
    },
    {
     "name": "stdout",
     "output_type": "stream",
     "text": [
      "20211120\n"
     ]
    },
    {
     "name": "stderr",
     "output_type": "stream",
     "text": [
      "\r",
      " 89%|████████▉ | 324/365 [2:20:35<18:14, 26.69s/it]"
     ]
    },
    {
     "name": "stdout",
     "output_type": "stream",
     "text": [
      "20211121\n"
     ]
    },
    {
     "name": "stderr",
     "output_type": "stream",
     "text": [
      "\r",
      " 89%|████████▉ | 325/365 [2:21:02<17:46, 26.66s/it]"
     ]
    },
    {
     "name": "stdout",
     "output_type": "stream",
     "text": [
      "20211122\n"
     ]
    },
    {
     "name": "stderr",
     "output_type": "stream",
     "text": [
      "\r",
      " 89%|████████▉ | 326/365 [2:21:29<17:20, 26.69s/it]"
     ]
    },
    {
     "name": "stdout",
     "output_type": "stream",
     "text": [
      "20211123\n"
     ]
    },
    {
     "name": "stderr",
     "output_type": "stream",
     "text": [
      "\r",
      " 90%|████████▉ | 327/365 [2:21:55<16:53, 26.66s/it]"
     ]
    },
    {
     "name": "stdout",
     "output_type": "stream",
     "text": [
      "20211124\n"
     ]
    },
    {
     "name": "stderr",
     "output_type": "stream",
     "text": [
      "\r",
      " 90%|████████▉ | 328/365 [2:22:22<16:24, 26.60s/it]"
     ]
    },
    {
     "name": "stdout",
     "output_type": "stream",
     "text": [
      "20211125\n"
     ]
    },
    {
     "name": "stderr",
     "output_type": "stream",
     "text": [
      "\r",
      " 90%|█████████ | 329/365 [2:22:48<15:57, 26.60s/it]"
     ]
    },
    {
     "name": "stdout",
     "output_type": "stream",
     "text": [
      "20211126\n"
     ]
    },
    {
     "name": "stderr",
     "output_type": "stream",
     "text": [
      "\r",
      " 90%|█████████ | 330/365 [2:23:15<15:29, 26.54s/it]"
     ]
    },
    {
     "name": "stdout",
     "output_type": "stream",
     "text": [
      "20211127\n"
     ]
    },
    {
     "name": "stderr",
     "output_type": "stream",
     "text": [
      "\r",
      " 91%|█████████ | 331/365 [2:23:41<15:02, 26.54s/it]"
     ]
    },
    {
     "name": "stdout",
     "output_type": "stream",
     "text": [
      "20211128\n"
     ]
    },
    {
     "name": "stderr",
     "output_type": "stream",
     "text": [
      "\r",
      " 91%|█████████ | 332/365 [2:24:08<14:37, 26.58s/it]"
     ]
    },
    {
     "name": "stdout",
     "output_type": "stream",
     "text": [
      "20211129\n"
     ]
    },
    {
     "name": "stderr",
     "output_type": "stream",
     "text": [
      "\r",
      " 91%|█████████ | 333/365 [2:24:35<14:15, 26.75s/it]"
     ]
    },
    {
     "name": "stdout",
     "output_type": "stream",
     "text": [
      "20211130\n"
     ]
    },
    {
     "name": "stderr",
     "output_type": "stream",
     "text": [
      "\r",
      " 92%|█████████▏| 334/365 [2:25:02<13:47, 26.68s/it]"
     ]
    },
    {
     "name": "stdout",
     "output_type": "stream",
     "text": [
      "20211201\n"
     ]
    },
    {
     "name": "stderr",
     "output_type": "stream",
     "text": [
      "\r",
      " 92%|█████████▏| 335/365 [2:25:28<13:17, 26.60s/it]"
     ]
    },
    {
     "name": "stdout",
     "output_type": "stream",
     "text": [
      "20211202\n"
     ]
    },
    {
     "name": "stderr",
     "output_type": "stream",
     "text": [
      "\r",
      " 92%|█████████▏| 336/365 [2:25:54<12:49, 26.53s/it]"
     ]
    },
    {
     "name": "stdout",
     "output_type": "stream",
     "text": [
      "20211203\n"
     ]
    },
    {
     "name": "stderr",
     "output_type": "stream",
     "text": [
      "\r",
      " 92%|█████████▏| 337/365 [2:26:20<12:19, 26.41s/it]"
     ]
    },
    {
     "name": "stdout",
     "output_type": "stream",
     "text": [
      "20211204\n"
     ]
    },
    {
     "name": "stderr",
     "output_type": "stream",
     "text": [
      "\r",
      " 93%|█████████▎| 338/365 [2:26:47<11:54, 26.45s/it]"
     ]
    },
    {
     "name": "stdout",
     "output_type": "stream",
     "text": [
      "20211205\n"
     ]
    },
    {
     "name": "stderr",
     "output_type": "stream",
     "text": [
      "\r",
      " 93%|█████████▎| 339/365 [2:27:13<11:26, 26.41s/it]"
     ]
    },
    {
     "name": "stdout",
     "output_type": "stream",
     "text": [
      "20211206\n"
     ]
    },
    {
     "name": "stderr",
     "output_type": "stream",
     "text": [
      "\r",
      " 93%|█████████▎| 340/365 [2:27:40<11:01, 26.45s/it]"
     ]
    },
    {
     "name": "stdout",
     "output_type": "stream",
     "text": [
      "20211207\n"
     ]
    },
    {
     "name": "stderr",
     "output_type": "stream",
     "text": [
      "\r",
      " 93%|█████████▎| 341/365 [2:28:06<10:35, 26.48s/it]"
     ]
    },
    {
     "name": "stdout",
     "output_type": "stream",
     "text": [
      "20211208\n"
     ]
    },
    {
     "name": "stderr",
     "output_type": "stream",
     "text": [
      "\r",
      " 94%|█████████▎| 342/365 [2:28:33<10:11, 26.58s/it]"
     ]
    },
    {
     "name": "stdout",
     "output_type": "stream",
     "text": [
      "20211209\n"
     ]
    },
    {
     "name": "stderr",
     "output_type": "stream",
     "text": [
      "\r",
      " 94%|█████████▍| 343/365 [2:29:00<09:44, 26.57s/it]"
     ]
    },
    {
     "name": "stdout",
     "output_type": "stream",
     "text": [
      "20211210\n"
     ]
    },
    {
     "name": "stderr",
     "output_type": "stream",
     "text": [
      "\r",
      " 94%|█████████▍| 344/365 [2:29:26<09:16, 26.51s/it]"
     ]
    },
    {
     "name": "stdout",
     "output_type": "stream",
     "text": [
      "20211211\n"
     ]
    },
    {
     "name": "stderr",
     "output_type": "stream",
     "text": [
      "\r",
      " 95%|█████████▍| 345/365 [2:29:52<08:48, 26.44s/it]"
     ]
    },
    {
     "name": "stdout",
     "output_type": "stream",
     "text": [
      "20211212\n"
     ]
    },
    {
     "name": "stderr",
     "output_type": "stream",
     "text": [
      "\r",
      " 95%|█████████▍| 346/365 [2:30:19<08:22, 26.46s/it]"
     ]
    },
    {
     "name": "stdout",
     "output_type": "stream",
     "text": [
      "20211213\n"
     ]
    },
    {
     "name": "stderr",
     "output_type": "stream",
     "text": [
      "\r",
      " 95%|█████████▌| 347/365 [2:30:46<07:56, 26.49s/it]"
     ]
    },
    {
     "name": "stdout",
     "output_type": "stream",
     "text": [
      "20211214\n"
     ]
    },
    {
     "name": "stderr",
     "output_type": "stream",
     "text": [
      "\r",
      " 95%|█████████▌| 348/365 [2:31:12<07:31, 26.54s/it]"
     ]
    },
    {
     "name": "stdout",
     "output_type": "stream",
     "text": [
      "20211215\n"
     ]
    },
    {
     "name": "stderr",
     "output_type": "stream",
     "text": [
      "\r",
      " 96%|█████████▌| 349/365 [2:31:39<07:05, 26.59s/it]"
     ]
    },
    {
     "name": "stdout",
     "output_type": "stream",
     "text": [
      "20211216\n"
     ]
    },
    {
     "name": "stderr",
     "output_type": "stream",
     "text": [
      "\r",
      " 96%|█████████▌| 350/365 [2:32:05<06:38, 26.55s/it]"
     ]
    },
    {
     "name": "stdout",
     "output_type": "stream",
     "text": [
      "20211217\n"
     ]
    },
    {
     "name": "stderr",
     "output_type": "stream",
     "text": [
      "\r",
      " 96%|█████████▌| 351/365 [2:32:32<06:11, 26.51s/it]"
     ]
    },
    {
     "name": "stdout",
     "output_type": "stream",
     "text": [
      "20211218\n"
     ]
    },
    {
     "name": "stderr",
     "output_type": "stream",
     "text": [
      "\r",
      " 96%|█████████▋| 352/365 [2:32:58<05:44, 26.46s/it]"
     ]
    },
    {
     "name": "stdout",
     "output_type": "stream",
     "text": [
      "20211219\n"
     ]
    },
    {
     "name": "stderr",
     "output_type": "stream",
     "text": [
      "\r",
      " 97%|█████████▋| 353/365 [2:33:25<05:17, 26.46s/it]"
     ]
    },
    {
     "name": "stdout",
     "output_type": "stream",
     "text": [
      "20211220\n"
     ]
    },
    {
     "name": "stderr",
     "output_type": "stream",
     "text": [
      "\r",
      " 97%|█████████▋| 354/365 [2:33:51<04:50, 26.38s/it]"
     ]
    },
    {
     "name": "stdout",
     "output_type": "stream",
     "text": [
      "20211221\n"
     ]
    },
    {
     "name": "stderr",
     "output_type": "stream",
     "text": [
      "\r",
      " 97%|█████████▋| 355/365 [2:34:17<04:23, 26.39s/it]"
     ]
    },
    {
     "name": "stdout",
     "output_type": "stream",
     "text": [
      "20211222\n"
     ]
    },
    {
     "name": "stderr",
     "output_type": "stream",
     "text": [
      "\r",
      " 98%|█████████▊| 356/365 [2:34:44<03:57, 26.40s/it]"
     ]
    },
    {
     "name": "stdout",
     "output_type": "stream",
     "text": [
      "20211223\n"
     ]
    },
    {
     "name": "stderr",
     "output_type": "stream",
     "text": [
      "\r",
      " 98%|█████████▊| 357/365 [2:35:10<03:30, 26.32s/it]"
     ]
    },
    {
     "name": "stdout",
     "output_type": "stream",
     "text": [
      "20211224\n"
     ]
    },
    {
     "name": "stderr",
     "output_type": "stream",
     "text": [
      "\r",
      " 98%|█████████▊| 358/365 [2:35:36<03:04, 26.31s/it]"
     ]
    },
    {
     "name": "stdout",
     "output_type": "stream",
     "text": [
      "20211225\n"
     ]
    },
    {
     "name": "stderr",
     "output_type": "stream",
     "text": [
      "\r",
      " 98%|█████████▊| 359/365 [2:36:02<02:37, 26.32s/it]"
     ]
    },
    {
     "name": "stdout",
     "output_type": "stream",
     "text": [
      "20211226\n"
     ]
    },
    {
     "name": "stderr",
     "output_type": "stream",
     "text": [
      "\r",
      " 99%|█████████▊| 360/365 [2:36:29<02:11, 26.29s/it]"
     ]
    },
    {
     "name": "stdout",
     "output_type": "stream",
     "text": [
      "20211227\n"
     ]
    },
    {
     "name": "stderr",
     "output_type": "stream",
     "text": [
      "\r",
      " 99%|█████████▉| 361/365 [2:36:55<01:45, 26.26s/it]"
     ]
    },
    {
     "name": "stdout",
     "output_type": "stream",
     "text": [
      "20211228\n"
     ]
    },
    {
     "name": "stderr",
     "output_type": "stream",
     "text": [
      "\r",
      " 99%|█████████▉| 362/365 [2:37:21<01:19, 26.35s/it]"
     ]
    },
    {
     "name": "stdout",
     "output_type": "stream",
     "text": [
      "20211229\n"
     ]
    },
    {
     "name": "stderr",
     "output_type": "stream",
     "text": [
      "\r",
      " 99%|█████████▉| 363/365 [2:37:48<00:52, 26.44s/it]"
     ]
    },
    {
     "name": "stdout",
     "output_type": "stream",
     "text": [
      "20211230\n"
     ]
    },
    {
     "name": "stderr",
     "output_type": "stream",
     "text": [
      "\r",
      "100%|█████████▉| 364/365 [2:38:15<00:26, 26.47s/it]"
     ]
    },
    {
     "name": "stdout",
     "output_type": "stream",
     "text": [
      "20211231\n"
     ]
    },
    {
     "name": "stderr",
     "output_type": "stream",
     "text": [
      "100%|██████████| 365/365 [2:38:41<00:00, 26.09s/it]﻿\n"
     ]
    }
   ],
   "source": [
    "with tqdm(total = 365) as pbar:\n",
    "    for month in range(1, 13):\n",
    "        for day in range(1, month_range(2021, month)[1] + 1):\n",
    "            date_string = '%s%s%s' % (2021, '%02d' % month, '%02d' % day)\n",
    "            \n",
    "            net_cdf_file = f'F:/Data/GlobalHighPM25/2021 v1/GHAP_PM2.5_D1K_{date_string}_V1.nc'\n",
    "            out_raster_layer_name = f'GHAP_{date_string}'\n",
    "            out_raster_filename = path_join(root, 'GHAPPM25D1K.gdb', out_raster_layer_name)\n",
    "\n",
    "            arcpy.md.MakeNetCDFRasterLayer(\n",
    "                in_netCDF_file = net_cdf_file,\n",
    "                variable = 'PM2.5',\n",
    "                x_dimension = 'lon',\n",
    "                y_dimension = 'lat',\n",
    "                out_raster_layer = out_raster_layer_name,\n",
    "                band_dimension = '',\n",
    "                dimension_values = None,\n",
    "                value_selection_method = 'BY_VALUE',\n",
    "                cell_registration = 'CENTER'\n",
    "            )\n",
    "            \n",
    "            arcpy.management.CopyRaster(\n",
    "                in_raster = out_raster_layer_name,\n",
    "                out_rasterdataset = out_raster_filename\n",
    "            )\n",
    "            \n",
    "            sleep(1)\n",
    "            \n",
    "            arcpy.management.Delete(\n",
    "                in_data = out_raster_layer_name,\n",
    "                data_type = ''\n",
    "            )\n",
    "            \n",
    "            arcpy.management.Delete(\n",
    "                in_data = out_raster_layer_name,\n",
    "                data_type = ''\n",
    "            )\n",
    "            \n",
    "            pbar.update(1)"
   ]
  },
  {
   "cell_type": "code",
   "execution_count": null,
   "metadata": {},
   "outputs": [],
   "source": []
  },
  {
   "cell_type": "code",
   "execution_count": 6,
   "metadata": {},
   "outputs": [
    {
     "data": {
      "text/html": [
       "<div class='gpresult'><h2>Messages</h2><div id='messages' data-messages='[\"Start Time: 2023年12月24日 16:00:12\",\"Succeeded at 2023年12月24日 16:00:13 (Elapsed Time: 0.11 seconds)\"]' data-show='true'><div id = 'default' /></div></div>"
      ],
      "text/plain": [
       "<Result \"D:/Repos/Air Pollution Exposure in Xi'an/Revision3rd\\\\CorrectedPM25.gdb\">"
      ]
     },
     "execution_count": 6,
     "metadata": {},
     "output_type": "execute_result"
    }
   ],
   "source": [
    "arcpy.management.CreateFileGDB(\n",
    "    out_folder_path = root,\n",
    "    out_name = 'CorrectedPM25',\n",
    "    out_version = 'CURRENT'\n",
    ")"
   ]
  },
  {
   "cell_type": "code",
   "execution_count": null,
   "metadata": {},
   "outputs": [],
   "source": [
    "## Corrected PM25\n",
    "## Add -> Resample -> RasterCalculator"
   ]
  },
  {
   "cell_type": "code",
   "execution_count": 9,
   "metadata": {},
   "outputs": [
    {
     "name": "stderr",
     "output_type": "stream",
     "text": [
      "100%|██████████| 365/365 [11:14<00:00,  1.85s/it]﻿\n"
     ]
    }
   ],
   "source": [
    "with arcpy.EnvManager(extent='108.500670794889 34.0035907093902 109.508897994889 34.6029891093902 GEOGCS[\"GCS_WGS_1984\",DATUM[\"D_WGS_1984\",SPHEROID[\"WGS_1984\",6378137.0,298.257223563]],PRIMEM[\"Greenwich\",0.0],UNIT[\"Degree\",0.0174532925199433]]'):\n",
    "    with tqdm(total = 365) as pbar:\n",
    "        for month in range(1, 13):\n",
    "            for day in range(1, month_range(2021, month)[1] + 1):\n",
    "                date_string = '%s%s%s' % (2021, '%02d' % month, '%02d' % day)\n",
    "                ghap_original = path_join(root, 'GHAPPM25D1K.gdb', f\"GHAP_{date_string}\")\n",
    "                ghap_resampled = path_join(root, 'GHAPPM25D1K.gdb', f\"RS_GHAP_{date_string}\")\n",
    "                \n",
    "                arcpy.management.Resample(\n",
    "                    in_raster = ghap_original,\n",
    "                    out_raster = ghap_resampled,\n",
    "                    cell_size=\"1.62879999999997E-03 1.62879999999996E-03\",\n",
    "                    resampling_type=\"BILINEAR\"\n",
    "                )\n",
    "                \n",
    "                pbar.update(1)"
   ]
  },
  {
   "cell_type": "code",
   "execution_count": 11,
   "metadata": {},
   "outputs": [
    {
     "name": "stderr",
     "output_type": "stream",
     "text": [
      "100%|██████████| 365/365 [06:37<00:00,  1.09s/it]﻿\n"
     ]
    }
   ],
   "source": [
    "with tqdm(total = 365) as pbar:\n",
    "    for month in range(1, 13):\n",
    "        for day in range(1, month_range(2021, month)[1] + 1):\n",
    "            date_string = '%s%s%s' % (2021, '%02d' % month, '%02d' % day)\n",
    "            \n",
    "            kriging_uncorrected_entire = f\"D:/Repos/Air Pollution Exposure in Xi'an/Publish/Kriging.gdb/DailyKriging_{date_string}_wholeDay\"\n",
    "            kriging_uncorrected_daytime = f\"D:/Repos/Air Pollution Exposure in Xi'an/Publish/Kriging.gdb/DailyKriging_{date_string}_daytime\"\n",
    "            kriging_uncorrected_nighttime = f\"D:/Repos/Air Pollution Exposure in Xi'an/Publish/Kriging.gdb/DailyKriging_{date_string}_nighttime\"\n",
    "            ghap = path_join(root, 'GHAPPM25D1K.gdb', f\"RS_GHAP_{date_string}\")\n",
    "            \n",
    "            kriging_corrected_daytime = path_join(root, 'CorrectedPM25.gdb', f\"Kriging_{date_string}_daytime\")\n",
    "            kriging_corrected_nighttime = path_join(root, 'CorrectedPM25.gdb', f\"Kriging_{date_string}_nighttime\")\n",
    "            \n",
    "            if not arcpy.Exists(kriging_corrected_daytime):\n",
    "                try:\n",
    "                    output_raster = arcpy.ia.RasterCalculator(\n",
    "                        rasters = [kriging_uncorrected_entire, kriging_uncorrected_daytime, ghap], \n",
    "                        input_names = ['kr', 'kd', 'ghap'],\n",
    "                        expression = 'ghap / kr * kd'\n",
    "                    )\n",
    "                    output_raster.save(kriging_corrected_daytime)\n",
    "                except:\n",
    "                    pass\n",
    "            \n",
    "            if not arcpy.Exists(kriging_corrected_nighttime):\n",
    "                try:\n",
    "                    output_raster = arcpy.ia.RasterCalculator(\n",
    "                        rasters = [kriging_uncorrected_entire, kriging_uncorrected_nighttime, ghap], \n",
    "                        input_names = ['kr', 'kn', 'ghap'],\n",
    "                        expression = 'ghap / kr * kn'\n",
    "                    )\n",
    "                    output_raster.save(kriging_corrected_nighttime)\n",
    "                except:\n",
    "                    pass\n",
    "            \n",
    "            pbar.update(1)"
   ]
  },
  {
   "cell_type": "code",
   "execution_count": null,
   "metadata": {},
   "outputs": [],
   "source": []
  },
  {
   "cell_type": "code",
   "execution_count": 17,
   "metadata": {},
   "outputs": [
    {
     "name": "stderr",
     "output_type": "stream",
     "text": [
      " 33%|███▎      | 8/24 [01:50<03:40, 13.79s/it]﻿\n"
     ]
    }
   ],
   "source": [
    "with tqdm(total = 4 * 2) as pbar:\n",
    "    for quarter in range(1, 5):\n",
    "        for type_ in ['daytime', 'nighttime']:\n",
    "            list_of_layers = []\n",
    "            for month in range(quarter * 3 - 2, quarter * 3 + 1):\n",
    "                for day in range(1, month_range(2021, month)[1] + 1):\n",
    "                    date_string = '%s%s%s' % (2021, '%02d' % month, '%02d' % day)\n",
    "                    kriging_layer = path_join(root, 'CorrectedPM25.gdb', f'Kriging_{date_string}_{type_}')\n",
    "                    if arcpy.Exists(kriging_layer):\n",
    "                        list_of_layers.append(kriging_layer)\n",
    "\n",
    "            output_layer = path_join(root, 'CorrectedPM25.gdb', f'QuarterlyKriging_2021Q{quarter}_{type_}')\n",
    "            output_raster = arcpy.sa.CellStatistics(\n",
    "                in_rasters_or_constants = list_of_layers, \n",
    "                statistics_type = 'MEAN', \n",
    "                ignore_nodata = 'DATA', \n",
    "                process_as_multiband = 'SINGLE_BAND',\n",
    "                percentile_interpolation_type = 'AUTO_DETECT'\n",
    "            )\n",
    "            output_raster.save(output_layer)\n",
    "            \n",
    "            pbar.update(1)"
   ]
  },
  {
   "cell_type": "code",
   "execution_count": 18,
   "metadata": {},
   "outputs": [
    {
     "name": "stderr",
     "output_type": "stream",
     "text": [
      "100%|██████████| 2/2 [01:52<00:00, 56.13s/it]﻿\n"
     ]
    }
   ],
   "source": [
    "with tqdm(total = 2) as pbar:\n",
    "    for type_ in ['daytime', 'nighttime']:\n",
    "        list_of_layers = []\n",
    "        for month in range(1, 13):\n",
    "            for day in range(1, month_range(2021, month)[1] + 1):\n",
    "                date_string = '%s%s%s' % (2021, '%02d' % month, '%02d' % day)\n",
    "                kriging_layer = path_join(root, 'CorrectedPM25.gdb', f'Kriging_{date_string}_{type_}')\n",
    "                if arcpy.Exists(kriging_layer):\n",
    "                    list_of_layers.append(kriging_layer)\n",
    "\n",
    "        output_layer = path_join(root, 'CorrectedPM25.gdb', f'AnnuallyKriging_2021{type_}')\n",
    "        output_raster = arcpy.sa.CellStatistics(\n",
    "            in_rasters_or_constants = list_of_layers, \n",
    "            statistics_type = 'MEAN', \n",
    "            ignore_nodata = 'DATA', \n",
    "            process_as_multiband = 'SINGLE_BAND',\n",
    "            percentile_interpolation_type = 'AUTO_DETECT'\n",
    "        )\n",
    "        output_raster.save(output_layer)\n",
    "\n",
    "        pbar.update(1)"
   ]
  },
  {
   "cell_type": "code",
   "execution_count": null,
   "metadata": {},
   "outputs": [],
   "source": [
    "## Zonal Stat"
   ]
  },
  {
   "cell_type": "code",
   "execution_count": 21,
   "metadata": {},
   "outputs": [],
   "source": [
    "for quarter in range(1, 5):\n",
    "    for type_ in ['daytime', 'nighttime']:\n",
    "        in_zone_data = path_join(root,\"D:/Repos/Air Pollution Exposure in Xi'an/Publish/Publish.gdb\", 'GridShape')\n",
    "        in_value_raster = path_join(root, 'CorrectedPM25.gdb', f'QuarterlyKriging_2021Q{quarter}_{type_}')\n",
    "        out_table = path_join(root, 'CorrectedPM25.gdb', f'ZonalSt_QuarterlyKriging_2021Q{quarter}_{type_}')\n",
    "\n",
    "        with arcpy.EnvManager(addOutputsToMap = False):\n",
    "            arcpy.ia.ZonalStatisticsAsTable(\n",
    "                in_zone_data = in_zone_data,\n",
    "                zone_field = 'GridID',\n",
    "                in_value_raster = in_value_raster,\n",
    "                out_table = out_table,\n",
    "                ignore_nodata = 'DATA',\n",
    "                statistics_type = 'MEAN',\n",
    "                process_as_multidimensional = 'CURRENT_SLICE',\n",
    "                percentile_values = 90,\n",
    "                percentile_interpolation_type = 'AUTO_DETECT',\n",
    "                circular_calculation = 'ARITHMETIC',\n",
    "                circular_wrap_value = 360\n",
    "            )"
   ]
  },
  {
   "cell_type": "code",
   "execution_count": 49,
   "metadata": {},
   "outputs": [],
   "source": [
    "for type_ in ['daytime', 'nighttime']:\n",
    "    in_zone_data = path_join(root,\"D:/Repos/Air Pollution Exposure in Xi'an/Publish/Publish.gdb\", 'GridShape')\n",
    "    in_value_raster = path_join(root, 'CorrectedPM25.gdb', f'AnnuallyKriging_2021{type_}')\n",
    "    out_table = path_join(root, 'CorrectedPM25.gdb', f'ZonalSt_AnnuallyKriging_2021_{type_}')\n",
    "\n",
    "    with arcpy.EnvManager(addOutputsToMap = False):\n",
    "        arcpy.ia.ZonalStatisticsAsTable(\n",
    "            in_zone_data = in_zone_data,\n",
    "            zone_field = 'GridID',\n",
    "            in_value_raster = in_value_raster,\n",
    "            out_table = out_table,\n",
    "            ignore_nodata = 'DATA',\n",
    "            statistics_type = 'MEAN',\n",
    "            process_as_multidimensional = 'CURRENT_SLICE',\n",
    "            percentile_values = 90,\n",
    "            percentile_interpolation_type = 'AUTO_DETECT',\n",
    "            circular_calculation = 'ARITHMETIC',\n",
    "            circular_wrap_value = 360\n",
    "        )"
   ]
  },
  {
   "cell_type": "code",
   "execution_count": null,
   "metadata": {},
   "outputs": [],
   "source": [
    "## Mobile Annual"
   ]
  },
  {
   "cell_type": "code",
   "execution_count": 29,
   "metadata": {},
   "outputs": [],
   "source": [
    "layers = [\n",
    "    '2021-03-17', '2021-03-20', '2021-06-16', '2021-06-19',\n",
    "    '2021-09-15', '2021-09-18', '2021-11-24', '2021-11-27'\n",
    "]\n",
    "\n",
    "keys = [\n",
    "    'GridID', 'Geometry', 'CenterPoint',\n",
    "    'PopulationNighttime', 'PopulationDaytime', 'Mobility', \n",
    "    'PropYoungMen', 'PropOutProv', 'PropOutCity', 'DiffHukou', \n",
    "    'StabilitySpatial', 'StabilityWorkRest', 'StabilitySocial', 'ActivityNighttime', \n",
    "    'City', 'County'\n",
    "]\n",
    "\n",
    "list_of_grid_ids_filename = \"D:/Repos/Air Pollution Exposure in Xi'an/Publish/Data/MobilePhoto.Xian/GridIdsList.txt\"\n",
    "\n",
    "with open(list_of_grid_ids_filename, 'r') as f:\n",
    "    list_of_grid_ids = [int(id_.rstrip()) for id_ in f.readlines()]\n",
    "\n",
    "non_local_data = {}\n",
    "for quarter in range(1, 5):\n",
    "    weekday_layer_id = (quarter - 1) * 2\n",
    "    weekend_layer_id = (quarter - 1) * 2 + 1\n",
    "    \n",
    "    weekday_layer = layers[weekday_layer_id]\n",
    "    weekend_layer = layers[weekend_layer_id]\n",
    "    \n",
    "    weekday_layer_filename = path_join(\"D:/Repos/Air Pollution Exposure in Xi'an/Publish/Data/MobilePhoto.Xian\", weekday_layer)\n",
    "    weekend_layer_filename = path_join(\"D:/Repos/Air Pollution Exposure in Xi'an/Publish/Data/MobilePhoto.Xian\", weekend_layer)\n",
    "    \n",
    "    data = {}\n",
    "    \n",
    "    with open(weekday_layer_filename, 'r', encoding = 'utf-8') as f:\n",
    "        weekday_raw_rows = f.read().rstrip().split('\\n')\n",
    "\n",
    "    for row in weekday_raw_rows:\n",
    "        elements = row.split(';')\n",
    "        grid = dict(zip(keys, elements))\n",
    "\n",
    "        grid['GridID'] = int(grid['GridID'])\n",
    "\n",
    "        if grid['GridID'] in list_of_grid_ids:\n",
    "            non_local_weekday = float(grid['PropOutCity']) if grid['PropOutCity'] != '' else nan\n",
    "            data.update({\n",
    "                grid['GridID']: {\n",
    "                    'NonLocalWeekday': non_local_weekday\n",
    "                }\n",
    "            })\n",
    "    \n",
    "    with open(weekend_layer_filename, 'r', encoding = 'utf-8') as f:\n",
    "        weekend_raw_rows = f.read().rstrip().split('\\n')\n",
    "    \n",
    "    for row in weekend_raw_rows:\n",
    "        elements = row.split(';')\n",
    "        grid = dict(zip(keys, elements))\n",
    "\n",
    "        grid['GridID'] = int(grid['GridID'])\n",
    "\n",
    "        if grid['GridID'] in list_of_grid_ids:\n",
    "            non_local_weekday = data[grid['GridID']]['NonLocalWeekday']\n",
    "            non_local_weekend = float(grid['PropOutCity']) if grid['PropOutCity'] != '' else nan\n",
    "            \n",
    "            if (not isnan(non_local_weekday)) and (not isnan(non_local_weekend)):\n",
    "                non_local = non_local_weekend * 2 / 7 + non_local_weekday * 5 / 7\n",
    "            elif (not isnan(non_local_weekday)) and isnan(non_local_weekend):\n",
    "                non_local = non_local_weekday\n",
    "            elif isnan(non_local_weekday) and (not isnan(non_local_weekend)):\n",
    "                non_local = non_local_weekend\n",
    "            else:\n",
    "                non_local = nan\n",
    "            \n",
    "            data[grid['GridID']].update({\n",
    "                'NonLocalWeekend': non_local_weekend,\n",
    "                'NonLocal': non_local\n",
    "            })\n",
    "    \n",
    "    non_local_data.update({\n",
    "        f'Q{quarter}': data\n",
    "    })"
   ]
  },
  {
   "cell_type": "code",
   "execution_count": 37,
   "metadata": {},
   "outputs": [
    {
     "data": {
      "text/plain": [
       "{'NonLocalWeekday': 0.71, 'NonLocalWeekend': 0.7139, 'NonLocal': 0.7111142857142857}"
      ]
     },
     "execution_count": 37,
     "metadata": {},
     "output_type": "execute_result"
    }
   ],
   "source": [
    "non_local_data[\"Q1\"][list_of_grid_ids[0]]"
   ]
  },
  {
   "cell_type": "code",
   "execution_count": 43,
   "metadata": {},
   "outputs": [],
   "source": [
    "non_local_annual_data = {}\n",
    "for id_ in list_of_grid_ids:\n",
    "    non_local_annual_data[id_] = numpy.nanmean([\n",
    "        non_local_data[\"Q1\"][id_][\"NonLocal\"], \n",
    "        non_local_data[\"Q2\"][id_][\"NonLocal\"], \n",
    "        non_local_data[\"Q3\"][id_][\"NonLocal\"], \n",
    "        non_local_data[\"Q4\"][id_][\"NonLocal\"]\n",
    "    ])"
   ]
  },
  {
   "cell_type": "code",
   "execution_count": 45,
   "metadata": {},
   "outputs": [
    {
     "data": {
      "text/html": [
       "<div class='gpresult'><h2>Messages</h2><div id='messages' data-messages='[\"Start Time: 2024年1月7日 9:24:04\",\"Succeeded at 2024年1月7日 9:24:05 (Elapsed Time: 0.12 seconds)\"]' data-show='true'><div id = 'default' /></div></div>"
      ],
      "text/plain": [
       "<Result 'true'>"
      ]
     },
     "execution_count": 45,
     "metadata": {},
     "output_type": "execute_result"
    }
   ],
   "source": [
    "table_out_path = \"D:/Repos/Air Pollution Exposure in Xi'an/Publish/Social.gdb\"\n",
    "table_out_name = \"DailyMobilePhone_2021\"\n",
    "table_filename = \"D:/Repos/Air Pollution Exposure in Xi'an/Publish/Social.gdb/DailyMobilePhone_2021\"\n",
    "\n",
    "arcpy.management.CreateTable(\n",
    "    out_path = table_out_path,\n",
    "    out_name = table_out_name,\n",
    "    template = None,\n",
    "    config_keyword = '',\n",
    "    out_alias = ''\n",
    ")\n",
    "\n",
    "arcpy.management.AddField(table_filename, 'GridID', 'LONG')\n",
    "arcpy.management.AddField(table_filename, 'NonLocal', 'DOUBLE')\n",
    "\n",
    "with arcpy.da.InsertCursor(table_filename, ['GridID', 'NonLocal']) as cursor:\n",
    "    for grid_id in non_local_annual_data:\n",
    "        cursor.insertRow([grid_id, non_local_annual_data[grid_id]])\n",
    "\n",
    "arcpy.management.Delete(\n",
    "    in_data = table_out_name,\n",
    "    data_type = ''\n",
    ")"
   ]
  },
  {
   "cell_type": "code",
   "execution_count": null,
   "metadata": {},
   "outputs": [],
   "source": [
    "## Dataset"
   ]
  },
  {
   "cell_type": "code",
   "execution_count": 19,
   "metadata": {},
   "outputs": [
    {
     "data": {
      "text/html": [
       "<div class='gpresult'><h2>Messages</h2><div id='messages' data-messages='[\"Start Time: 2023年12月24日 18:09:37\",\"Succeeded at 2023年12月24日 18:09:37 (Elapsed Time: 0.12 seconds)\"]' data-show='true'><div id = 'default' /></div></div>"
      ],
      "text/plain": [
       "<Result \"D:/Repos/Air Pollution Exposure in Xi'an/Revision3rd\\\\Gwr.gdb\">"
      ]
     },
     "execution_count": 19,
     "metadata": {},
     "output_type": "execute_result"
    }
   ],
   "source": [
    "arcpy.management.CreateFileGDB(\n",
    "    out_folder_path = root,\n",
    "    out_name = 'Gwr',\n",
    "    out_version = 'CURRENT'\n",
    ")"
   ]
  },
  {
   "cell_type": "code",
   "execution_count": 50,
   "metadata": {},
   "outputs": [
    {
     "data": {
      "text/html": [
       "<div class='gpresult'><h2>Messages</h2><div id='messages' data-messages='[\"Start Time: 2024年1月7日 9:32:43\",\"Succeeded at 2024年1月7日 9:32:46 (Elapsed Time: 3.20 seconds)\"]' data-show='true'><div id = 'default' /></div></div>"
      ],
      "text/plain": [
       "<Result 'GridShape'>"
      ]
     },
     "execution_count": 50,
     "metadata": {},
     "output_type": "execute_result"
    }
   ],
   "source": [
    "grid_shape_layer_name = 'GridShape'\n",
    "house_price_layer_name = 'ZonalSt_HousePrice'\n",
    "grid_shape_filename = path_join(\"D:/Repos/Air Pollution Exposure in Xi'an/Publish/Publish.gdb\", grid_shape_layer_name)\n",
    "house_price_filename = path_join(\"D:/Repos/Air Pollution Exposure in Xi'an/Publish/Social.gdb\", house_price_layer_name)\n",
    "\n",
    "map_.addDataFromPath(\n",
    "    data_path = grid_shape_filename,\n",
    "    web_service_type = 'AUTOMATIC',\n",
    "    custom_parameters = None\n",
    ")\n",
    "map_.addDataFromPath(\n",
    "    data_path = house_price_filename,\n",
    "    web_service_type = 'AUTOMATIC',\n",
    "    custom_parameters = None\n",
    ")\n",
    "\n",
    "mobile_phone_layer_name = \"DailyMobilePhone_2021\"\n",
    "pm25_daytime_layer_name = \"ZonalSt_AnnuallyKriging_2021_daytime\"\n",
    "pm25_nighttime_layer_name = \"ZonalSt_AnnuallyKriging_2021_nighttime\"\n",
    "\n",
    "mobile_phone_filename = path_join(root, \"D:/Repos/Air Pollution Exposure in Xi'an/Publish/Social.gdb\", mobile_phone_layer_name)\n",
    "pm25_daytime_filename = path_join(root, 'CorrectedPM25.gdb', pm25_daytime_layer_name)\n",
    "pm25_nighttime_filename = path_join(root, 'CorrectedPM25.gdb', pm25_nighttime_layer_name)\n",
    "\n",
    "map_.addDataFromPath(\n",
    "    data_path = mobile_phone_filename,\n",
    "    web_service_type = 'AUTOMATIC',\n",
    "    custom_parameters = None\n",
    ")\n",
    "map_.addDataFromPath(\n",
    "    data_path = pm25_daytime_filename,\n",
    "    web_service_type = 'AUTOMATIC',\n",
    "    custom_parameters = None\n",
    ")\n",
    "map_.addDataFromPath(\n",
    "    data_path = pm25_nighttime_filename,\n",
    "    web_service_type = 'AUTOMATIC',\n",
    "    custom_parameters = None\n",
    ")\n",
    "\n",
    "arcpy.management.AddJoin(\n",
    "    in_layer_or_view = grid_shape_layer_name,\n",
    "    in_field = 'GridID',\n",
    "    join_table = house_price_layer_name,\n",
    "    join_field = 'GridID',\n",
    "    join_type = 'KEEP_ALL',\n",
    "    index_join_fields = 'NO_INDEX_JOIN_FIELDS'\n",
    ")\n",
    "arcpy.management.AddJoin(\n",
    "    in_layer_or_view = grid_shape_layer_name,\n",
    "    in_field = f'{grid_shape_layer_name}.GridID',\n",
    "    join_table = mobile_phone_layer_name,\n",
    "    join_field = 'GridID',\n",
    "    join_type = 'KEEP_ALL',\n",
    "    index_join_fields = 'NO_INDEX_JOIN_FIELDS'\n",
    ")\n",
    "arcpy.management.AddJoin(\n",
    "    in_layer_or_view = grid_shape_layer_name,\n",
    "    in_field = f'{grid_shape_layer_name}.GridID',\n",
    "    join_table = pm25_daytime_layer_name,\n",
    "    join_field = 'GridID',\n",
    "    join_type = 'KEEP_ALL',\n",
    "    index_join_fields = 'NO_INDEX_JOIN_FIELDS'\n",
    ")\n",
    "arcpy.management.AddJoin(\n",
    "    in_layer_or_view = grid_shape_layer_name,\n",
    "    in_field = f'{grid_shape_layer_name}.GridID',\n",
    "    join_table = pm25_nighttime_layer_name,\n",
    "    join_field = 'GridID',\n",
    "    join_type = 'KEEP_ALL',\n",
    "    index_join_fields = 'NO_INDEX_JOIN_FIELDS'\n",
    ")\n",
    "\n",
    "out_features = path_join(root, 'Gwr.gdb', \"Gwr_2021\")\n",
    "field_mapping = f'GridID \"GridID\" true true false 4 Long 0 0,First,#,GridShape,{grid_shape_layer_name}.GridID,-1,-1;' \\\n",
    "    f'HousePrice \"HousePrice\" true true false 8 Double 0 0,First,#,GridShape,{house_price_layer_name}.MEAN,-1,-1;' \\\n",
    "    f'NonLocal \"NonLocal\" true true false 8 Double 0 0,First,#,GridShape,{mobile_phone_layer_name}.NonLocal,-1,-1;' \\\n",
    "    f'PolDay \"PolDay\" true true false 8 Double 0 0,First,#,GridShape,{pm25_daytime_layer_name}.MEAN,-1,-1;' \\\n",
    "    f'PolNight \"PolNight\" true true false 8 Double 0 0,First,#,GridShape,{pm25_nighttime_layer_name}.MEAN,-1,-1'\n",
    "arcpy.conversion.ExportFeatures(\n",
    "    in_features = grid_shape_layer_name,\n",
    "    out_features = out_features,\n",
    "    use_field_alias_as_name = 'NOT_USE_ALIAS',\n",
    "    field_mapping = field_mapping,\n",
    "    sort_field = None\n",
    ")\n",
    "\n",
    "arcpy.management.RemoveJoin(\n",
    "    in_layer_or_view = grid_shape_layer_name,\n",
    "    join_name = ''\n",
    ")"
   ]
  },
  {
   "cell_type": "code",
   "execution_count": 23,
   "metadata": {},
   "outputs": [],
   "source": [
    "grid_shape_layer_name = 'GridShape'\n",
    "house_price_layer_name = 'ZonalSt_HousePrice'\n",
    "grid_shape_filename = path_join(\"D:/Repos/Air Pollution Exposure in Xi'an/Publish/Publish.gdb\", grid_shape_layer_name)\n",
    "house_price_filename = path_join(\"D:/Repos/Air Pollution Exposure in Xi'an/Publish/Social.gdb\", house_price_layer_name)\n",
    "\n",
    "map_.addDataFromPath(\n",
    "    data_path = grid_shape_filename,\n",
    "    web_service_type = 'AUTOMATIC',\n",
    "    custom_parameters = None\n",
    ")\n",
    "map_.addDataFromPath(\n",
    "    data_path = house_price_filename,\n",
    "    web_service_type = 'AUTOMATIC',\n",
    "    custom_parameters = None\n",
    ")\n",
    "\n",
    "for quarter in range(1, 5):\n",
    "    mobile_phone_layer_name = f'DailyMobilePhone_2021Q{quarter}'\n",
    "    pm25_daytime_layer_name = f'ZonalSt_QuarterlyKriging_2021Q{quarter}_daytime'\n",
    "    pm25_nighttime_layer_name = f'ZonalSt_QuarterlyKriging_2021Q{quarter}_nighttime'\n",
    "    \n",
    "    mobile_phone_filename = path_join(root, \"D:/Repos/Air Pollution Exposure in Xi'an/Publish/Social.gdb\", mobile_phone_layer_name)\n",
    "    pm25_daytime_filename = path_join(root, 'CorrectedPM25.gdb', pm25_daytime_layer_name)\n",
    "    pm25_nighttime_filename = path_join(root, 'CorrectedPM25.gdb', pm25_nighttime_layer_name)\n",
    "\n",
    "    map_.addDataFromPath(\n",
    "        data_path = mobile_phone_filename,\n",
    "        web_service_type = 'AUTOMATIC',\n",
    "        custom_parameters = None\n",
    "    )\n",
    "    map_.addDataFromPath(\n",
    "        data_path = pm25_daytime_filename,\n",
    "        web_service_type = 'AUTOMATIC',\n",
    "        custom_parameters = None\n",
    "    )\n",
    "    map_.addDataFromPath(\n",
    "        data_path = pm25_nighttime_filename,\n",
    "        web_service_type = 'AUTOMATIC',\n",
    "        custom_parameters = None\n",
    "    )\n",
    "    \n",
    "    arcpy.management.AddJoin(\n",
    "        in_layer_or_view = grid_shape_layer_name,\n",
    "        in_field = 'GridID',\n",
    "        join_table = house_price_layer_name,\n",
    "        join_field = 'GridID',\n",
    "        join_type = 'KEEP_ALL',\n",
    "        index_join_fields = 'NO_INDEX_JOIN_FIELDS'\n",
    "    )\n",
    "    arcpy.management.AddJoin(\n",
    "        in_layer_or_view = grid_shape_layer_name,\n",
    "        in_field = f'{grid_shape_layer_name}.GridID',\n",
    "        join_table = mobile_phone_layer_name,\n",
    "        join_field = 'GridID',\n",
    "        join_type = 'KEEP_ALL',\n",
    "        index_join_fields = 'NO_INDEX_JOIN_FIELDS'\n",
    "    )\n",
    "    arcpy.management.AddJoin(\n",
    "        in_layer_or_view = grid_shape_layer_name,\n",
    "        in_field = f'{grid_shape_layer_name}.GridID',\n",
    "        join_table = pm25_daytime_layer_name,\n",
    "        join_field = 'GridID',\n",
    "        join_type = 'KEEP_ALL',\n",
    "        index_join_fields = 'NO_INDEX_JOIN_FIELDS'\n",
    "    )\n",
    "    arcpy.management.AddJoin(\n",
    "        in_layer_or_view = grid_shape_layer_name,\n",
    "        in_field = f'{grid_shape_layer_name}.GridID',\n",
    "        join_table = pm25_nighttime_layer_name,\n",
    "        join_field = 'GridID',\n",
    "        join_type = 'KEEP_ALL',\n",
    "        index_join_fields = 'NO_INDEX_JOIN_FIELDS'\n",
    "    )\n",
    "    \n",
    "    out_features = path_join(root, 'Gwr.gdb', f'Gwr_2021Q{quarter}')\n",
    "    field_mapping = f'GridID \"GridID\" true true false 4 Long 0 0,First,#,GridShape,{grid_shape_layer_name}.GridID,-1,-1;' \\\n",
    "        f'HousePrice \"HousePrice\" true true false 8 Double 0 0,First,#,GridShape,{house_price_layer_name}.MEAN,-1,-1;' \\\n",
    "        f'NonLocal \"NonLocal\" true true false 8 Double 0 0,First,#,GridShape,{mobile_phone_layer_name}.NonLocal,-1,-1;' \\\n",
    "        f'PolDay \"PolDay\" true true false 8 Double 0 0,First,#,GridShape,{pm25_daytime_layer_name}.MEAN,-1,-1;' \\\n",
    "        f'PolNight \"PolNight\" true true false 8 Double 0 0,First,#,GridShape,{pm25_nighttime_layer_name}.MEAN,-1,-1'\n",
    "    arcpy.conversion.ExportFeatures(\n",
    "        in_features = grid_shape_layer_name,\n",
    "        out_features = out_features,\n",
    "        use_field_alias_as_name = 'NOT_USE_ALIAS',\n",
    "        field_mapping = field_mapping,\n",
    "        sort_field = None\n",
    "    )\n",
    "    \n",
    "    arcpy.management.RemoveJoin(\n",
    "        in_layer_or_view = grid_shape_layer_name,\n",
    "        join_name = ''\n",
    "    )"
   ]
  },
  {
   "cell_type": "code",
   "execution_count": null,
   "metadata": {},
   "outputs": [],
   "source": [
    "## GWR Models"
   ]
  },
  {
   "cell_type": "code",
   "execution_count": 54,
   "metadata": {},
   "outputs": [],
   "source": [
    "for file in listdir(path_join(root, \"Results\")):\n",
    "    if file.endswith(\".geojson\"):\n",
    "        in_json_file = path_join(root, \"Results\", file)\n",
    "        feature_name = file.replace(\".geojson\", \"\").replace(\".\", \"_\")\n",
    "        out_features = path_join(root, 'Gwr.gdb', feature_name)\n",
    "        with arcpy.EnvManager(addOutputsToMap = False):\n",
    "            arcpy.conversion.JSONToFeatures(\n",
    "                in_json_file = in_json_file,\n",
    "                out_features = out_features,\n",
    "                geometry_type = 'POLYGON'\n",
    "            )"
   ]
  },
  {
   "cell_type": "code",
   "execution_count": null,
   "metadata": {},
   "outputs": [],
   "source": [
    "## 画图"
   ]
  },
  {
   "cell_type": "code",
   "execution_count": 11,
   "metadata": {},
   "outputs": [
    {
     "name": "stderr",
     "output_type": "stream",
     "text": [
      "100%|██████████| 1095/1095 [12:07<00:00,  1.50it/s]﻿\n"
     ]
    }
   ],
   "source": [
    "daily_mean_values = []\n",
    "\n",
    "out_table = path_join(root, \"Revision3rd.gdb\", \"ZonalSt_PM25\")\n",
    "in_zone_data = path_join(\"D:/Repos/Air Pollution Exposure in Xi'an/Publish/Publish.gdb\", \"MainUrbanArea\")\n",
    "\n",
    "with tqdm(total = 365 * 3) as pbar:\n",
    "    for month in range(1, 13):\n",
    "        for day in range(1, month_range(2021, month)[1] + 1):\n",
    "            date_string = '%s%s%s' % (2021, '%02d' % month, '%02d' % day)\n",
    "            mean_values = {\n",
    "                'date': f'{month}/{day}/2021'\n",
    "            }\n",
    "            \n",
    "            for type_ in ['daytime', 'nighttime', 'entire_day']:\n",
    "                in_value_raster = path_join(root, 'CorrectedPM25.gdb', f'Kriging_{date_string}_{type_}') \\\n",
    "                    if type_ != 'entire_day' \\\n",
    "                    else path_join(root, 'GHAPPM25D1K.gdb', f'RS_GHAP_{date_string}')\n",
    "                if arcpy.Exists(in_value_raster):\n",
    "                    arcpy.ia.ZonalStatisticsAsTable(\n",
    "                        in_zone_data = in_zone_data,\n",
    "                        zone_field = \"OBJECTID\",\n",
    "                        in_value_raster = in_value_raster,\n",
    "                        out_table = out_table,\n",
    "                        ignore_nodata = \"DATA\",\n",
    "                        statistics_type = \"MEAN\",\n",
    "                        process_as_multidimensional = \"CURRENT_SLICE\",\n",
    "                        circular_calculation = \"ARITHMETIC\",\n",
    "                        circular_wrap_value = 360\n",
    "                    )\n",
    "                    mean_values[type_] = arcpy.da.TableToNumPyArray(out_table, (\"MEAN\"))[0][0]\n",
    "                pbar.update(1)\n",
    "                \n",
    "            daily_mean_values.append(mean_values)\n",
    "            \n",
    "excel_filename = path_join(root, 'Results', 'CalendarData.xlsx')\n",
    "\n",
    "DataFrame(daily_mean_values).to_excel(excel_filename, index = False)"
   ]
  },
  {
   "cell_type": "code",
   "execution_count": null,
   "metadata": {},
   "outputs": [],
   "source": [
    "## Local Moran"
   ]
  },
  {
   "cell_type": "code",
   "execution_count": 55,
   "metadata": {},
   "outputs": [
    {
     "data": {
      "text/html": [
       "<div class='gpresult'><h2>Messages</h2><div id='messages' data-messages='[\"Start Time: 2024年1月7日 22:30:27\",\"WARNING 001605: Distances for Geographic Coordinates (degrees, minutes, seconds) are analyzed using Chordal Distances in meters.\",\"WARNING 000642: Problems reading 23 of 942 total records.\",\"WARNING 000848: Features with bad records (only includes first 30): OBJECTID = 130, 132, 133, 145, 198, 220, 299, 469, 743, 744, 750, 763, 769, 772, 782, 792, 795, 800, 803, 922, 926, 928, 941.\",\"Succeeded at 2024年1月7日 22:30:31 (Elapsed Time: 4.05 seconds)\"]' data-show='true'><div id = 'default' /></div></div>"
      ],
      "text/plain": [
       "<Result \"D:\\\\Repos\\\\Air Pollution Exposure in Xi'an\\\\Revision3rd\\\\Gwr.gdb\\\\LocalMoransI_2021_NonLocal\">"
      ]
     },
     "execution_count": 55,
     "metadata": {},
     "output_type": "execute_result"
    }
   ],
   "source": [
    "input_feature_class = path_join(root, 'Gwr.gdb', f'Gwr_2021')\n",
    "output_feature_class = path_join(root, 'Gwr.gdb', f'LocalMoransI_2021_NonLocal')\n",
    "arcpy.stats.ClustersOutliers(\n",
    "    Input_Feature_Class = input_feature_class,\n",
    "    Input_Field = 'NonLocal',\n",
    "    Output_Feature_Class = output_feature_class,\n",
    "    Conceptualization_of_Spatial_Relationships = 'FIXED_DISTANCE_BAND',\n",
    "    Distance_Method = 'EUCLIDEAN_DISTANCE',\n",
    "    Standardization = 'ROW',\n",
    "    Distance_Band_or_Threshold_Distance = 2341,\n",
    "    Weights_Matrix_File = None,\n",
    "    Apply_False_Discovery_Rate__FDR__Correction = 'APPLY_FDR',\n",
    "    Number_of_Permutations = 9999,\n",
    "    number_of_neighbors = None\n",
    ")"
   ]
  },
  {
   "cell_type": "code",
   "execution_count": null,
   "metadata": {},
   "outputs": [],
   "source": [
    "## Plot Data"
   ]
  },
  {
   "cell_type": "code",
   "execution_count": 13,
   "metadata": {},
   "outputs": [
    {
     "data": {
      "text/html": [
       "<div class='gpresult'><h2>Messages</h2><div id='messages' data-messages='[\"Start Time: 2024年1月6日 21:30:08\",\"Succeeded at 2024年1月6日 21:30:08 (Elapsed Time: 0.14 seconds)\"]' data-show='true'><div id = 'default' /></div></div>"
      ],
      "text/plain": [
       "<Result \"D:/Repos/Air Pollution Exposure in Xi'an/Revision3rd\\\\Plot.gdb\">"
      ]
     },
     "execution_count": 13,
     "metadata": {},
     "output_type": "execute_result"
    }
   ],
   "source": [
    "arcpy.management.CreateFileGDB(\n",
    "    out_folder_path = root,\n",
    "    out_name = 'Plot',\n",
    "    out_version = 'CURRENT'\n",
    ")"
   ]
  },
  {
   "cell_type": "code",
   "execution_count": 14,
   "metadata": {},
   "outputs": [
    {
     "name": "stderr",
     "output_type": "stream",
     "text": [
      "100%|██████████| 4/4 [01:07<00:00, 16.90s/it]﻿\n"
     ]
    }
   ],
   "source": [
    "with tqdm(total = 4) as pbar:\n",
    "    for quarter in range(1, 5):\n",
    "        list_of_layers = []\n",
    "        for month in range(quarter * 3 - 2, quarter * 3 + 1):\n",
    "            for day in range(1, month_range(2021, month)[1] + 1):\n",
    "                date_string = '%s%s%s' % (2021, '%02d' % month, '%02d' % day)\n",
    "                ghap_layer = path_join(root, 'GHAPPM25D1K.gdb', f'RS_GHAP_{date_string}')\n",
    "                if arcpy.Exists(ghap_layer):\n",
    "                    list_of_layers.append(ghap_layer)\n",
    "\n",
    "        output_layer = path_join(root, 'GHAPPM25D1K.gdb', f'RS_GHAP_2021Q{quarter}')\n",
    "        output_raster = arcpy.sa.CellStatistics(\n",
    "            in_rasters_or_constants = list_of_layers, \n",
    "            statistics_type = 'MEAN', \n",
    "            ignore_nodata = 'DATA', \n",
    "            process_as_multiband = 'SINGLE_BAND',\n",
    "            percentile_interpolation_type = 'AUTO_DETECT'\n",
    "        )\n",
    "        output_raster.save(output_layer)\n",
    "\n",
    "        pbar.update(1)"
   ]
  },
  {
   "cell_type": "code",
   "execution_count": 15,
   "metadata": {},
   "outputs": [],
   "source": [
    "list_of_layers = []\n",
    "for month in range(1, 13):\n",
    "    for day in range(1, month_range(2021, month)[1] + 1):\n",
    "        date_string = '%s%s%s' % (2021, '%02d' % month, '%02d' % day)\n",
    "        ghap_layer = path_join(root, 'GHAPPM25D1K.gdb', f'RS_GHAP_{date_string}')\n",
    "        if arcpy.Exists(ghap_layer):\n",
    "            list_of_layers.append(ghap_layer)\n",
    "\n",
    "output_layer = path_join(root, 'GHAPPM25D1K.gdb', f'RS_GHAP_2021')\n",
    "output_raster = arcpy.sa.CellStatistics(\n",
    "    in_rasters_or_constants = list_of_layers, \n",
    "    statistics_type = 'MEAN', \n",
    "    ignore_nodata = 'DATA', \n",
    "    process_as_multiband = 'SINGLE_BAND',\n",
    "    percentile_interpolation_type = 'AUTO_DETECT'\n",
    ")\n",
    "output_raster.save(output_layer)"
   ]
  },
  {
   "cell_type": "code",
   "execution_count": 17,
   "metadata": {},
   "outputs": [
    {
     "name": "stderr",
     "output_type": "stream",
     "text": [
      "100%|██████████| 15/15 [01:20<00:00,  5.35s/it]﻿\n"
     ]
    }
   ],
   "source": [
    "in_mask_data = path_join(\"D:/Repos/Air Pollution Exposure in Xi'an/Publish/Publish.gdb\", \"MainUrbanArea\")\n",
    "\n",
    "with tqdm(total = 5 * 3) as pbar:\n",
    "    for quarter in range(1, 5):\n",
    "        for type_ in ['entire_day', 'daytime', 'nighttime']:\n",
    "            in_raster = path_join(root, 'CorrectedPM25.gdb', f'QuarterlyKriging_2021Q{quarter}_{type_}') \\\n",
    "                if type_ != 'entire_day' \\\n",
    "                else path_join(root, 'GHAPPM25D1K.gdb', f'RS_GHAP_2021Q{quarter}')\n",
    "            out_raster_name = path_join(root, 'Plot.gdb', f'PM25_2021Q{quarter}_{type_}')\n",
    "\n",
    "            out_raster = arcpy.sa.ExtractByMask(\n",
    "                in_raster = in_raster,\n",
    "                in_mask_data = in_mask_data,\n",
    "                extraction_area = 'INSIDE'\n",
    "            )\n",
    "            out_raster.save(out_raster_name)\n",
    "\n",
    "            pbar.update(1)\n",
    "    \n",
    "    for type_ in ['entire_day', 'daytime', 'nighttime']:\n",
    "        in_raster = path_join(root, 'CorrectedPM25.gdb', f'AnnuallyKriging_2021{type_}') \\\n",
    "            if type_ != 'entire_day' \\\n",
    "            else path_join(root, 'GHAPPM25D1K.gdb', f'RS_GHAP_2021')\n",
    "        out_raster_name = path_join(root, 'Plot.gdb', f'PM25_2021_{type_}')\n",
    "\n",
    "        out_raster = arcpy.sa.ExtractByMask(\n",
    "            in_raster = in_raster,\n",
    "            in_mask_data = in_mask_data,\n",
    "            extraction_area = 'INSIDE'\n",
    "        )\n",
    "        out_raster.save(out_raster_name)\n",
    "        pbar.update(1)"
   ]
  },
  {
   "cell_type": "code",
   "execution_count": 20,
   "metadata": {},
   "outputs": [],
   "source": [
    "quarter_mins = {}\n",
    "quarter_maxs = {}\n",
    "\n",
    "for type_ in ['entire_day', 'daytime', 'nighttime']:\n",
    "    raster_name = path_join(root, 'Plot.gdb', f'PM25_2021_{type_}')\n",
    "    raster = arcpy.Raster(raster_name)\n",
    "    quarter_mins['annual'] = min(quarter_mins['annual'], raster.minimum) if 'annual' in quarter_mins else raster.minimum\n",
    "    quarter_maxs['annual'] = max(quarter_maxs['annual'], raster.maximum) if 'annual' in quarter_maxs else raster.maximum\n",
    "\n",
    "for quarter in range(1, 5):\n",
    "    for type_ in ['entire_day', 'daytime', 'nighttime']:\n",
    "        raster_name = path_join(root, 'Plot.gdb', f'PM25_2021Q{quarter}_{type_}')\n",
    "        raster = arcpy.Raster(raster_name)\n",
    "        quarter_mins[quarter] = min(quarter_mins[quarter], raster.minimum) if quarter in quarter_mins else raster.minimum\n",
    "        quarter_maxs[quarter] = max(quarter_maxs[quarter], raster.maximum) if quarter in quarter_maxs else raster.maximum\n",
    "\n",
    "for key in quarter_mins:\n",
    "    quarter_mins[key] = math.floor(quarter_mins[key])\n",
    "    quarter_maxs[key] = math.ceil(quarter_maxs[key])"
   ]
  },
  {
   "cell_type": "code",
   "execution_count": 23,
   "metadata": {},
   "outputs": [],
   "source": [
    "def apply_border_renderer(border, symbol, color = None, width = None):\n",
    "    sym = border.symbology\n",
    "    sym.renderer.symbol.applySymbolFromGallery(symbol)\n",
    "    \n",
    "    if color != None:\n",
    "        sym.renderer.symbol.outlineColor = color\n",
    "    if width != None:\n",
    "        sym.renderer.symbol.outlineWidth = width\n",
    "    \n",
    "    border.symbology = sym"
   ]
  },
  {
   "cell_type": "code",
   "execution_count": 24,
   "metadata": {},
   "outputs": [],
   "source": [
    "def apply_raster_colorizer(raster, color_ramp, stretch_min, stretch_max):\n",
    "    sym = raster.symbology\n",
    "\n",
    "    colorRamp = aprx.listColorRamps(color_ramp)[0]\n",
    "    sym.colorizer.colorRamp = colorRamp\n",
    "    sym.colorizer.stretchType = 'Custom'\n",
    "\n",
    "    raster.symbology = sym\n",
    "\n",
    "    raster_cim = raster.getDefinition('V3')\n",
    "\n",
    "    colorizer = raster_cim.colorizer\n",
    "    colorizer.statsType = 'GlobalStats'\n",
    "    colorizer.stretchStats.min = stretch_min\n",
    "    colorizer.stretchStats.max = stretch_max\n",
    "    colorizer.stretchClasses[0].value = stretch_min\n",
    "    colorizer.stretchClasses[2].value = stretch_max\n",
    "    colorizer.stretchClasses[0].label = f'{stretch_min}'\n",
    "    colorizer.stretchClasses[2].label = f'{stretch_max}'\n",
    "    colorizer.useCustomStretchMinMax = True\n",
    "\n",
    "    raster_cim.colorizer = colorizer\n",
    "    raster.setDefinition(raster_cim)"
   ]
  },
  {
   "cell_type": "code",
   "execution_count": 25,
   "metadata": {},
   "outputs": [],
   "source": [
    "def apply_feature_renderer(feature, color_ramp, classification_field, break_count):\n",
    "    sym = feature.symbology\n",
    "\n",
    "    sym.updateRenderer('GraduatedColorsRenderer')\n",
    "    sym.renderer.classificationField = classification_field\n",
    "    sym.renderer.breakCount = break_count\n",
    "\n",
    "    colorRamp = aprx.listColorRamps(color_ramp)[0]\n",
    "    sym.renderer.colorRamp = colorRamp\n",
    "\n",
    "    feature.symbology = sym"
   ]
  },
  {
   "cell_type": "code",
   "execution_count": 27,
   "metadata": {},
   "outputs": [],
   "source": [
    "border_name = path_join(\"D:/Repos/Air Pollution Exposure in Xi'an/Publish/Publish.gdb\", \"MainUrbanArea\")\n",
    "\n",
    "for type_ in ['entire_day', 'daytime', 'nighttime']:\n",
    "    map_name = f'PM25_2021_{type_}'\n",
    "    raster_name = path_join(root, 'Plot.gdb', f'PM25_2021_{type_}')\n",
    "\n",
    "    if aprx.listMaps(map_name):\n",
    "        map_visualization = aprx.listMaps(map_name)[0]\n",
    "    else:\n",
    "        map_visualization = aprx.createMap(map_name, 'MAP')\n",
    "\n",
    "    for layer in map_visualization.listLayers():\n",
    "        map_visualization.removeLayer(layer)\n",
    "\n",
    "    map_visualization.spatialReference = arcpy.SpatialReference(2381)\n",
    "\n",
    "    raster = map_visualization.addDataFromPath(raster_name)\n",
    "    border = map_visualization.addDataFromPath(border_name)\n",
    "\n",
    "    apply_border_renderer(border, 'Black Outline (1pt)')\n",
    "    apply_raster_colorizer(\n",
    "        raster, \n",
    "        'Spectrum By Wavelength-Full Bright', \n",
    "        quarter_mins['annual'], \n",
    "        quarter_maxs['annual']\n",
    "    )\n",
    "    \n",
    "for quarter in range(1, 5):\n",
    "    for type_ in ['entire_day', 'daytime', 'nighttime']:\n",
    "        map_name = f'PM25_2021Q{quarter}_{type_}'\n",
    "        raster_name = path_join(root, 'Plot.gdb', f'PM25_2021Q{quarter}_{type_}')\n",
    "        \n",
    "        if aprx.listMaps(map_name):\n",
    "            map_visualization = aprx.listMaps(map_name)[0]\n",
    "        else:\n",
    "            map_visualization = aprx.createMap(map_name, 'MAP')\n",
    "        \n",
    "        for layer in map_visualization.listLayers():\n",
    "            map_visualization.removeLayer(layer)\n",
    "            \n",
    "        map_visualization.spatialReference = arcpy.SpatialReference(2381)\n",
    "        \n",
    "        raster = map_visualization.addDataFromPath(raster_name)\n",
    "        border = map_visualization.addDataFromPath(border_name)\n",
    "\n",
    "        apply_border_renderer(border, 'Black Outline (1pt)')\n",
    "        apply_raster_colorizer(\n",
    "            raster, \n",
    "            'Spectrum By Wavelength-Full Bright', \n",
    "            quarter_mins[quarter], \n",
    "            quarter_maxs[quarter]\n",
    "        )"
   ]
  },
  {
   "cell_type": "code",
   "execution_count": null,
   "metadata": {},
   "outputs": [],
   "source": [
    "## Moran"
   ]
  },
  {
   "cell_type": "code",
   "execution_count": 4,
   "metadata": {},
   "outputs": [],
   "source": [
    "feature_name = path_join(root, 'Gwr.gdb', f'Gwr_2021')\n",
    "morans_i = arcpy.stats.SpatialAutocorrelation(\n",
    "    Input_Feature_Class = feature_name,\n",
    "    Input_Field = 'NonLocal',\n",
    "    Generate_Report = None,\n",
    "    Conceptualization_of_Spatial_Relationships = 'FIXED_DISTANCE_BAND',\n",
    "    Distance_Method = 'EUCLIDEAN_DISTANCE',\n",
    "    Standardization = 'ROW',\n",
    "    Distance_Band_or_Threshold_Distance = 2341,\n",
    "    Weights_Matrix_File = None,\n",
    "    number_of_neighbors = None\n",
    ")"
   ]
  }
 ],
 "metadata": {
  "kernelspec": {
   "display_name": "ArcGISPro",
   "language": "Python",
   "name": "python3"
  },
  "language_info": {
   "file_extension": ".py",
   "name": "python",
   "version": "3"
  }
 },
 "nbformat": 4,
 "nbformat_minor": 2
}
