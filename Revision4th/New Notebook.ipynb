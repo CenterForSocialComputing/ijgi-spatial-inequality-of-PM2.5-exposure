{
 "cells": [
  {
   "cell_type": "code",
   "execution_count": 113,
   "metadata": {},
   "outputs": [],
   "source": [
    "import arcpy\n",
    "import pandas\n",
    "\n",
    "values = arcpy.da.FeatureClassToNumPyArray(\"Stations\", \"*\")\n",
    "values = [list(row) for row in values]\n",
    "station_shapes = pandas.DataFrame(values, columns = ['index', 'id', 'name', 'area', 'lng', 'lat', 'N', 'cor']).\\\n",
    "    drop(columns = ['index', 'area', 'N', 'cor'])\n",
    "\n",
    "air_quality = pandas.read_csv(r\"D:\\Repos\\Air Pollution Exposure in Xi'an\\Revision4th\\china_sites_20210101_hour.csv\")\n",
    "\n",
    "merged = station_shapes.merge(air_quality, left_on = 'id', right_on = 'Site').\\\n",
    "    drop(columns = [\"id\"])\n",
    "\n",
    "merged = station_shapes.merge(air_quality, left_on = 'id', right_on = 'Site').\\\n",
    "    drop(columns = [\"id\"])\n",
    "merged[\"Hour\"] = merged[\"Hour\"].map(lambda x: x if x <= 2 else (x - 1 if x <= 5 else (x - 3)))\n",
    "merged[\"Hour\"] = merged[\"Hour\"] * 1000\n",
    "\n",
    "merged.to_csv(r\"D:\\Repos\\Air Pollution Exposure in Xi'an\\Revision4th\\xyz_data.csv\", index = False)"
   ]
  }
 ],
 "metadata": {
  "kernelspec": {
   "display_name": "ArcGISPro",
   "language": "Python",
   "name": "python3"
  },
  "language_info": {
   "file_extension": ".py",
   "name": "python",
   "version": "3"
  }
 },
 "nbformat": 4,
 "nbformat_minor": 2
}
