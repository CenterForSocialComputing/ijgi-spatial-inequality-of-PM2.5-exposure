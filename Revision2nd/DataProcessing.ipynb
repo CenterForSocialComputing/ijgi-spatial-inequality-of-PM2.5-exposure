{
 "cells": [
  {
   "cell_type": "markdown",
   "metadata": {},
   "source": [
    "# 1 Setup"
   ]
  },
  {
   "cell_type": "markdown",
   "metadata": {},
   "source": [
    "## 1.1 Import Modules"
   ]
  },
  {
   "cell_type": "code",
   "execution_count": 152,
   "metadata": {},
   "outputs": [],
   "source": [
    "import arcpy\n",
    "from os.path import join as JoinPath\n",
    "from calendar import monthrange as MonthRange\n",
    "from pandas import read_csv as ReadCsv\n",
    "from pandas import DataFrame\n",
    "from numpy import nan\n",
    "from numpy import isnan\n",
    "from tqdm import tqdm as Tqdm\n",
    "from scipy import stats"
   ]
  },
  {
   "cell_type": "markdown",
   "metadata": {},
   "source": [
    "## 1.2 Set Workplace and Environmental Variables"
   ]
  },
  {
   "cell_type": "code",
   "execution_count": 2,
   "metadata": {},
   "outputs": [],
   "source": [
    "root = \"D:/Repos/Air Pollution Exposure in Xi'an/Projects/Publish\"\n",
    "\n",
    "aprx = arcpy.mp.ArcGISProject('CURRENT')\n",
    "map_ = aprx.listMaps('Map')[0]\n",
    "\n",
    "arcpy.env.overwriteOutput = True"
   ]
  },
  {
   "cell_type": "markdown",
   "metadata": {},
   "source": [
    "# 2 Data Processing"
   ]
  },
  {
   "cell_type": "markdown",
   "metadata": {},
   "source": [
    "## 2.1 PM 2.5: Sites Data"
   ]
  },
  {
   "cell_type": "markdown",
   "metadata": {
    "heading_collapsed": true
   },
   "source": [
    "### 2.1.1 Create a Feature Class of the Selected Sites (Points)"
   ]
  },
  {
   "cell_type": "markdown",
   "metadata": {
    "hidden": true
   },
   "source": [
    "Table `sites_info.csv` records information of sites, with following structure:\n",
    "\n",
    "| Column  | Type   | Meaning                                 |\n",
    "| :------ | :----- | :-------------------------------------- |\n",
    "| id      | String | Id of the site                          |\n",
    "| name    | String | Name of the site                        |\n",
    "| city    | String | Name of the city where the site locates |\n",
    "| lng     | Double | Longitude of the site                   |\n",
    "| lat     | Double | Latitude of the site                    |\n",
    "| control | String | Omited                                  |\n",
    "\n",
    "And table `selected_sites.csv` records the selected sites in this research,\n",
    "with following structure:\n",
    "\n",
    "| Column | Type   | Meaning        |\n",
    "| :----- | :----- | :------------- |\n",
    "| id     | String | Id of the site |\n",
    "\n",
    "Firstly, define the paths of the tables:"
   ]
  },
  {
   "cell_type": "code",
   "execution_count": null,
   "metadata": {
    "hidden": true
   },
   "outputs": [],
   "source": [
    "sitesInfoFilename = JoinPath(root, 'Data/PM25.Sites.China/sites_info.csv')\n",
    "selectedSitesFilename = JoinPath(root, 'Data/PM25.Sites.China/selected_sites.csv')"
   ]
  },
  {
   "cell_type": "markdown",
   "metadata": {
    "hidden": true
   },
   "source": [
    "Then, read the tables:"
   ]
  },
  {
   "cell_type": "code",
   "execution_count": null,
   "metadata": {
    "hidden": true
   },
   "outputs": [],
   "source": [
    "sitesInfo = ReadCsv(sitesInfoFilename)\n",
    "selectedSites = ReadCsv(selectedSitesFilename)"
   ]
  },
  {
   "cell_type": "markdown",
   "metadata": {
    "hidden": true
   },
   "source": [
    "Method `DataFrame.join()` is used to filter the selected sites.\n",
    "\n",
    "This method joins `DataFrame` by their indexes. Hence, set `id` as the indexes:"
   ]
  },
  {
   "cell_type": "code",
   "execution_count": null,
   "metadata": {
    "hidden": true
   },
   "outputs": [],
   "source": [
    "sitesInfo.set_index('id', inplace = True)\n",
    "selectedSites.set_index('id', inplace = True)"
   ]
  },
  {
   "cell_type": "markdown",
   "metadata": {
    "hidden": true
   },
   "source": [
    "Apply left join by set the parameter `how` as `'left'`.\n",
    "\n",
    "*Tips: left join refers to keep all records of the first data frame \n",
    "and drop unmatch records of the second data frame.*"
   ]
  },
  {
   "cell_type": "code",
   "execution_count": null,
   "metadata": {
    "hidden": true
   },
   "outputs": [],
   "source": [
    "selectedSitesWithInfo = selectedSites.join(sitesInfo, how = 'left')"
   ]
  },
  {
   "cell_type": "markdown",
   "metadata": {
    "hidden": true
   },
   "source": [
    "Reset index of the generated data frame. \n",
    "Otherwise, `id` cannot be gotten in the returned result of `DataFrame.to_dict('records')`."
   ]
  },
  {
   "cell_type": "code",
   "execution_count": null,
   "metadata": {
    "hidden": true
   },
   "outputs": [],
   "source": [
    "selectedSitesWithInfo.reset_index(inplace = True)"
   ]
  },
  {
   "cell_type": "markdown",
   "metadata": {
    "hidden": true
   },
   "source": [
    "Now, we get the information of the selected sites. \n",
    "The next step is to create a feature class.\n",
    "\n",
    "Define the path (referring to directory here), name, and filename of the feature class:"
   ]
  },
  {
   "cell_type": "code",
   "execution_count": null,
   "metadata": {
    "hidden": true
   },
   "outputs": [],
   "source": [
    "featureClassPath = JoinPath(root, 'Publish.gdb')\n",
    "featureClassName = 'SelectedSites'\n",
    "featureClassFilename = JoinPath(featureClassPath, featureClassName)"
   ]
  },
  {
   "cell_type": "markdown",
   "metadata": {
    "hidden": true
   },
   "source": [
    "Define the sptial reference of the feature class (CGS_WGS_84):"
   ]
  },
  {
   "cell_type": "code",
   "execution_count": null,
   "metadata": {
    "hidden": true
   },
   "outputs": [],
   "source": [
    "spatialReference = arcpy.SpatialReference(4326)"
   ]
  },
  {
   "cell_type": "markdown",
   "metadata": {
    "hidden": true
   },
   "source": [
    "Create a blank feature class to store the sites.\n",
    "Set `geometry_type` to `'POINT'` and `spatial_reference` to CGS_WGS_84:"
   ]
  },
  {
   "cell_type": "code",
   "execution_count": null,
   "metadata": {
    "hidden": true
   },
   "outputs": [],
   "source": [
    "arcpy.management.CreateFeatureclass(\n",
    "    out_path = featureClassPath, \n",
    "    out_name = featureClassName, \n",
    "    geometry_type = 'POINT',\n",
    "    spatial_reference = spatialReference\n",
    ")"
   ]
  },
  {
   "cell_type": "markdown",
   "metadata": {
    "hidden": true
   },
   "source": [
    "Add a field to store the `'id'`:"
   ]
  },
  {
   "cell_type": "code",
   "execution_count": null,
   "metadata": {
    "hidden": true
   },
   "outputs": [],
   "source": [
    "arcpy.management.AddField(\n",
    "    in_table = featureClassFilename, \n",
    "    field_name = 'id', \n",
    "    field_type = 'TEXT'\n",
    ")"
   ]
  },
  {
   "cell_type": "markdown",
   "metadata": {
    "hidden": true
   },
   "source": [
    "Iterate the selected sites, insert it into the feature class:"
   ]
  },
  {
   "cell_type": "code",
   "execution_count": null,
   "metadata": {
    "hidden": true
   },
   "outputs": [],
   "source": [
    "with arcpy.da.InsertCursor(featureClassFilename, ['SHAPE@XY', 'id']) as cursor:\n",
    "    for site in selectedSitesWithInfo.to_dict('records'):\n",
    "        point = arcpy.Point(site['lng'], site['lat'])\n",
    "        cursor.insertRow([point, site['id']])"
   ]
  },
  {
   "cell_type": "markdown",
   "metadata": {
    "hidden": true
   },
   "source": [
    "Sometimes, ArcGIS Pro will raise error stating that the feature class is invaild.\n",
    "By re-adding the feature class into the map, this error can be fit:"
   ]
  },
  {
   "cell_type": "code",
   "execution_count": 2,
   "metadata": {
    "hidden": true
   },
   "outputs": [],
   "source": [
    "arcpy.management.Delete(\n",
    "    in_data = featureClassName,\n",
    "    data_type = ''\n",
    ")\n",
    "\n",
    "_ = map_.addDataFromPath(\n",
    "    data_path = featureClassFilename,\n",
    "    web_service_type = 'AUTOMATIC',\n",
    "    custom_parameters = None\n",
    ")"
   ]
  },
  {
   "cell_type": "markdown",
   "metadata": {},
   "source": [
    "### 2.1.2 Estimate Daily PM 2.5 Concentration Using the Kriging Method"
   ]
  },
  {
   "cell_type": "code",
   "execution_count": 3,
   "metadata": {},
   "outputs": [],
   "source": [
    "arcpy.management.CreateFileGDB(\n",
    "    out_folder_path = root,\n",
    "    out_name = 'Kriging',\n",
    "    out_version = 'CURRENT'\n",
    ")\n",
    "\n",
    "selectedSitesLayerName = 'SelectedSites'\n",
    "selectedSitesFilename = JoinPath(root, 'Publish.gdb', selectedSitesLayerName)\n",
    "\n",
    "listOfSelectedSites = selectedSites.index\n",
    "listOfColumns = ['hour']\n",
    "listOfColumns.extend(listOfSelectedSites)\n",
    "\n",
    "dailyDataTableNameFilename = JoinPath(root, 'pm25tmp.csv')\n",
    "dailyDataTableColumns = ['id', 'wholeDay', 'daytime', 'nighttime']\n",
    "\n",
    "with Tqdm(total = 365 * 3) as pbar:\n",
    "    for month in range(1, 13):\n",
    "        for day in range(1, MonthRange(2021, month)[1] + 1):\n",
    "            dateString = '%s%s%s' % (2021, '%02d' % month, '%02d' % day)\n",
    "            sitesDailyDataFilename = JoinPath(root, f'Data/PM25.Sites.China/china_sites_{dateString}.csv')\n",
    "            hourlyData = ReadCsv(sitesDailyDataFilename)\n",
    "            hourlyData = hourlyData[hourlyData['type'] == 'PM2.5'][listOfColumns]\n",
    "            \n",
    "            dailyData = DataFrame({\n",
    "                'wholeDay': hourlyData.drop(columns = 'hour').mean(),\n",
    "                'daytime': hourlyData[(hourlyData['hour'] >= 9) & (hourlyData['hour'] <= 18)].drop(columns = 'hour').mean(),\n",
    "                'nighttime': hourlyData[hourlyData['hour'] <= 6].drop(columns = 'hour').mean()\n",
    "            })\n",
    "            dailyData.reset_index(inplace = True)\n",
    "            dailyData.rename(\n",
    "                columns = { 'index': 'id' },\n",
    "                inplace = True\n",
    "            )\n",
    "            dailyData.to_csv(\n",
    "                dailyDataTableNameFilename,\n",
    "                index = False\n",
    "            )\n",
    "            \n",
    "            arcpy.management.Delete(\n",
    "                in_data = selectedSitesLayerName,\n",
    "                data_type = ''\n",
    "            )\n",
    "            \n",
    "            map_.addDataFromPath(\n",
    "                data_path = selectedSitesFilename,\n",
    "                web_service_type = 'AUTOMATIC',\n",
    "                custom_parameters = None\n",
    "            )\n",
    "            \n",
    "            arcpy.management.AddJoin(\n",
    "                in_layer_or_view = selectedSitesLayerName, \n",
    "                in_field = 'id', \n",
    "                join_table = dailyDataTableNameFilename,\n",
    "                join_field = 'id',\n",
    "                join_type = 'KEEP_ALL',\n",
    "                index_join_fields = 'NO_INDEX_JOIN_FIELDS'\n",
    "            )\n",
    "\n",
    "            for type_ in ['wholeDay', 'daytime', 'nighttime']:\n",
    "                krigingOutputFilename = JoinPath(root, 'Kriging.gdb', f'DailyKriging_{dateString}_{type_}')\n",
    "                try:\n",
    "                    with arcpy.EnvManager(extent = '108.500670794889 34.0035907093902 109.508251052924 34.6026628845476'):\n",
    "                        krigingOutput = arcpy.sa.Kriging(\n",
    "                            selectedSitesLayerName, \n",
    "                            type_, \n",
    "                            'Spherical # # # #', \n",
    "                            0.00162879999999996,\n",
    "                            'VARIABLE 12',\n",
    "                            None\n",
    "                        )\n",
    "                        krigingOutput.save(krigingOutputFilename)\n",
    "                except:\n",
    "                    print(f'Empty: {dateString}.{type_}')\n",
    "                pbar.update(1)\n",
    "\n",
    "_ = arcpy.management.Delete(\n",
    "    in_data = 'krigingOutput',\n",
    "    data_type = ''\n",
    ")"
   ]
  },
  {
   "cell_type": "code",
   "execution_count": 4,
   "metadata": {},
   "outputs": [],
   "source": [
    "_ = arcpy.management.Delete(\n",
    "    in_data = 'SelectedSites',\n",
    "    data_type = ''\n",
    ")"
   ]
  },
  {
   "cell_type": "markdown",
   "metadata": {
    "heading_collapsed": true
   },
   "source": [
    "### 2.1.3 Calculate Monthly PM 2.5 Concentrations Using the Cell Statistics Tool, Based on Daily Concentrations"
   ]
  },
  {
   "cell_type": "code",
   "execution_count": null,
   "metadata": {
    "hidden": true
   },
   "outputs": [],
   "source": [
    "with Tqdm(total = 12 * 3) as pbar:\n",
    "    for month in range(1, 13):\n",
    "        for type_ in ['wholeDay', 'daytime', 'nighttime']:\n",
    "            listOfLayers = []\n",
    "            for day in range(1, MonthRange(2021, month)[1] + 1):\n",
    "                dateString = '%s%s%s' % (2021, '%02d' % month, '%02d' % day)\n",
    "                krigingFilename = JoinPath(root, 'Kriging.gdb', f'DailyKriging_{dateString}_{type_}')\n",
    "                if arcpy.Exists(krigingFilename):\n",
    "                    listOfLayers.append(krigingFilename)\n",
    "\n",
    "            krigingOutputFilename = JoinPath(root, 'Kriging.gdb', 'MonthlyKriging_%s_%s' % ('%02d' % month, type_))\n",
    "            monthlyOutCellStatistics = arcpy.sa.CellStatistics(\n",
    "                in_rasters_or_constants = listOfLayers, \n",
    "                statistics_type = 'MEAN', \n",
    "                ignore_nodata = 'DATA', \n",
    "                process_as_multiband = 'SINGLE_BAND',\n",
    "                percentile_interpolation_type = 'AUTO_DETECT'\n",
    "            )\n",
    "            monthlyOutCellStatistics.save(krigingOutputFilename)\n",
    "            \n",
    "            pbar.update(1)"
   ]
  },
  {
   "cell_type": "markdown",
   "metadata": {
    "heading_collapsed": true
   },
   "source": [
    "### 2.1.4 Calculate Quarterly PM 2.5 Concentrations Using the Cell Statistics Tool, Based on Monthly Concentrations"
   ]
  },
  {
   "cell_type": "code",
   "execution_count": 8,
   "metadata": {
    "hidden": true
   },
   "outputs": [
    {
     "name": "stderr",
     "output_type": "stream",
     "text": [
      "100%|██████████| 12/12 [01:34<00:00,  7.88s/it]﻿\n"
     ]
    }
   ],
   "source": [
    "with Tqdm(total = 4 * 3) as pbar:\n",
    "    for quarter in range(1, 5):\n",
    "        for type_ in ['wholeDay', 'daytime', 'nighttime']:\n",
    "            listOfLayers = []\n",
    "            for month in range((quarter - 1) * 3 + 1, quarter * 3 + 1):\n",
    "                krigingFilename = JoinPath(root, 'Kriging.gdb', 'MonthlyKriging_%s_%s' % ('%02d' % month, type_))\n",
    "                listOfLayers.append(krigingFilename)\n",
    "\n",
    "            krigingOutputFilename = JoinPath(root, 'Kriging.gdb', f'QuarterlyKriging_2021Q{quarter}_{type_}')\n",
    "            quarterlyOutCellStatistics = arcpy.sa.CellStatistics(\n",
    "                in_rasters_or_constants = listOfLayers, \n",
    "                statistics_type = 'MEAN', \n",
    "                ignore_nodata = 'DATA', \n",
    "                process_as_multiband = 'SINGLE_BAND',\n",
    "                percentile_interpolation_type = 'AUTO_DETECT'\n",
    "            )\n",
    "            quarterlyOutCellStatistics.save(krigingOutputFilename)\n",
    "\n",
    "            pbar.update(1)"
   ]
  },
  {
   "cell_type": "markdown",
   "metadata": {
    "heading_collapsed": true
   },
   "source": [
    "### 2.1.5 Calculate Annual PM 2.5 Concentrations Using the Cell Statistics Tool, Based on Quarterly Concentrations"
   ]
  },
  {
   "cell_type": "code",
   "execution_count": 6,
   "metadata": {
    "hidden": true
   },
   "outputs": [],
   "source": [
    "for type_ in ['wholeDay', 'daytime', 'nighttime']:\n",
    "    listOfLayers = []\n",
    "    for quarter in range(1, 5):\n",
    "        krigingFilename = JoinPath(root, 'Kriging.gdb', f'QuarterlyKriging_2021Q{quarter}_{type_}')\n",
    "        listOfLayers.append(krigingFilename)\n",
    "\n",
    "    krigingOutputFilename = JoinPath(root, 'Kriging.gdb', f'AnnualKriging_2021_{type_}')\n",
    "    annualOutCellStatistics = arcpy.sa.CellStatistics(\n",
    "        in_rasters_or_constants = listOfLayers, \n",
    "        statistics_type = 'MEAN', \n",
    "        ignore_nodata = 'DATA', \n",
    "        process_as_multiband = 'SINGLE_BAND',\n",
    "        percentile_interpolation_type = 'AUTO_DETECT'\n",
    "    )\n",
    "    annualOutCellStatistics.save(krigingOutputFilename)"
   ]
  },
  {
   "cell_type": "markdown",
   "metadata": {
    "heading_collapsed": true
   },
   "source": [
    "### 2.1.6 Remove the Temporal Layers"
   ]
  },
  {
   "cell_type": "code",
   "execution_count": 33,
   "metadata": {
    "hidden": true
   },
   "outputs": [],
   "source": [
    "_ = arcpy.management.Delete(\n",
    "    in_data = 'monthlyOutCellStatistics',\n",
    "    data_type = ''\n",
    ")\n",
    "\n",
    "_ = arcpy.management.Delete(\n",
    "    in_data = 'quarterlyOutCellStatistics',\n",
    "    data_type = ''\n",
    ")\n",
    "\n",
    "_ = arcpy.management.Delete(\n",
    "    in_data = 'annualOutCellStatistics',\n",
    "    data_type = ''\n",
    ")"
   ]
  },
  {
   "cell_type": "markdown",
   "metadata": {},
   "source": [
    "## 2.2 PM 2.5: V5GL03"
   ]
  },
  {
   "cell_type": "markdown",
   "metadata": {},
   "source": [
    "### 2.2.1 Create a File Geodatabase"
   ]
  },
  {
   "cell_type": "code",
   "execution_count": null,
   "metadata": {},
   "outputs": [],
   "source": [
    "arcpy.management.CreateFileGDB(\n",
    "    out_folder_path = root,\n",
    "    out_name = 'V5GL03',\n",
    "    out_version = 'CURRENT'\n",
    ")"
   ]
  },
  {
   "cell_type": "markdown",
   "metadata": {},
   "source": [
    "### 2.2.2 Monthly Data"
   ]
  },
  {
   "cell_type": "code",
   "execution_count": 41,
   "metadata": {},
   "outputs": [],
   "source": [
    "for month in range(1, 13):\n",
    "    monthString = '%02d' % month\n",
    "    inNetCdfFile = JoinPath(root, f'Data/PM25.V5GL03.China/2021{monthString}.nc')\n",
    "    outRasterLayerName = f'V5GL03_2021{monthString}'\n",
    "    outRasterFilename = JoinPath(root, 'V5GL03.gdb', f'V5GL03_2021{monthString}')\n",
    "    \n",
    "    arcpy.md.MakeNetCDFRasterLayer(\n",
    "        in_netCDF_file = inNetCdfFile,\n",
    "        variable = 'GWRPM25',\n",
    "        x_dimension = 'lon',\n",
    "        y_dimension = 'lat',\n",
    "        out_raster_layer = outRasterLayerName,\n",
    "        band_dimension = '',\n",
    "        dimension_values = None,\n",
    "        value_selection_method = 'BY_VALUE',\n",
    "        cell_registration = 'CENTER'\n",
    "    )\n",
    "    \n",
    "    arcpy.management.CopyRaster(\n",
    "        in_raster = outRasterLayerName,\n",
    "        out_rasterdataset = outRasterFilename\n",
    "    )"
   ]
  },
  {
   "cell_type": "code",
   "execution_count": 43,
   "metadata": {},
   "outputs": [],
   "source": [
    "for month in range(1, 13):\n",
    "    monthString = '%02d' % month\n",
    "    rasterLayerName = f'V5GL03_2021{monthString}'\n",
    "    arcpy.management.Delete(\n",
    "        in_data = rasterLayerName,\n",
    "        data_type = ''\n",
    "    )\n",
    "    arcpy.management.Delete(\n",
    "        in_data = rasterLayerName,\n",
    "        data_type = ''\n",
    "    )"
   ]
  },
  {
   "cell_type": "markdown",
   "metadata": {
    "heading_collapsed": true
   },
   "source": [
    "### 2.2.3 Quarterly Data"
   ]
  },
  {
   "cell_type": "code",
   "execution_count": 116,
   "metadata": {
    "hidden": true
   },
   "outputs": [
    {
     "name": "stderr",
     "output_type": "stream",
     "text": [
      "100%|██████████| 4/4 [00:21<00:00,  5.27s/it]﻿\n"
     ]
    }
   ],
   "source": [
    "with Tqdm(total = 4) as pbar:\n",
    "    for quarter in range(1, 5):\n",
    "        list_of_layers = []\n",
    "        for month in range((quarter - 1) * 3 + 1, quarter * 3 + 1):\n",
    "            month_string = '%02d' % month\n",
    "            monthly_data = JoinPath(root, 'V5GL03.gdb', f'V5GL03_2021{month_string}')\n",
    "            list_of_layers.append(monthly_data)\n",
    "\n",
    "        quarterly_data_filename = JoinPath(root, 'V5GL03.gdb', f'V5GL03_2021Q{quarter}')\n",
    "        quarterly_data = arcpy.sa.CellStatistics(\n",
    "            in_rasters_or_constants = list_of_layers, \n",
    "            statistics_type = 'MEAN', \n",
    "            ignore_nodata = 'DATA', \n",
    "            process_as_multiband = 'SINGLE_BAND',\n",
    "            percentile_interpolation_type = 'AUTO_DETECT'\n",
    "        )\n",
    "        quarterly_data.save(quarterly_data_filename)\n",
    "\n",
    "        pbar.update(1)"
   ]
  },
  {
   "cell_type": "markdown",
   "metadata": {},
   "source": [
    "## 2.3 Mobile Photo Data"
   ]
  },
  {
   "cell_type": "code",
   "execution_count": 17,
   "metadata": {},
   "outputs": [],
   "source": [
    "layers = [\n",
    "    '2021-03-17', '2021-03-20', '2021-06-16', '2021-06-19',\n",
    "    '2021-09-15', '2021-09-18', '2021-11-24', '2021-11-27'\n",
    "]"
   ]
  },
  {
   "cell_type": "code",
   "execution_count": 45,
   "metadata": {},
   "outputs": [],
   "source": [
    "listOfGridIdsFilename = JoinPath(root, 'Data/MobilePhoto.Xian/GridIdsList.txt')\n",
    "gridsShapeFilename = JoinPath(root, 'Data/MobilePhoto.Xian', layers[0])\n",
    "\n",
    "featureClassPath = JoinPath(root, 'Publish.gdb')\n",
    "featureClassName = 'GridShape'\n",
    "featureClassFilename = JoinPath(featureClassPath, featureClassName)\n",
    "\n",
    "spatialReference = arcpy.SpatialReference(4326)\n",
    "\n",
    "arcpy.management.CreateFeatureclass(\n",
    "    out_path = featureClassPath, \n",
    "    out_name = featureClassName, \n",
    "    geometry_type = 'POLYGON',\n",
    "    spatial_reference = spatialReference\n",
    ")\n",
    "\n",
    "arcpy.management.AddField(featureClassFilename, 'GridID', 'LONG')\n",
    "\n",
    "with arcpy.da.InsertCursor(featureClassFilename, ['SHAPE@', 'GridID']) as cursor:\n",
    "    with open(listOfGridIdsFilename, 'r') as f:\n",
    "        listOfGridIds = [int(id_.rstrip()) for id_ in f.readlines()]\n",
    "        \n",
    "    with open(gridsShapeFilename, 'r', encoding = 'utf-8') as f:\n",
    "        rawRows = f.read().rstrip().split('\\n')\n",
    "\n",
    "    for row in rawRows:\n",
    "        elements = row.split(';')\n",
    "        grid = dict(zip(keys, elements))\n",
    "\n",
    "        grid['GridID'] = int(grid['GridID'])\n",
    "        \n",
    "        if grid['GridID'] in listOfGridIds:\n",
    "            points = []\n",
    "            pointsString = grid['Geometry'].split(',')\n",
    "            for pointString in pointsString:\n",
    "                coordsString = pointString.split(' ')\n",
    "                points.append(arcpy.Point(float(coordsString[0]), float(coordsString[1])))\n",
    "            \n",
    "            polygon = arcpy.Polygon(arcpy.Array(points), spatialReference)\n",
    "            cursor.insertRow([polygon, grid['GridID']])\n",
    "\n",
    "arcpy.management.Delete(\n",
    "    in_data = featureClassName,\n",
    "    data_type = ''\n",
    ")\n",
    "\n",
    "_ = map_.addDataFromPath(\n",
    "    data_path = featureClassFilename,\n",
    "    web_service_type = 'AUTOMATIC',\n",
    "    custom_parameters = None\n",
    ")"
   ]
  },
  {
   "cell_type": "code",
   "execution_count": 18,
   "metadata": {},
   "outputs": [],
   "source": [
    "keys = [\n",
    "    'GridID', 'Geometry', 'CenterPoint',\n",
    "    'PopulationNighttime', 'PopulationDaytime', 'PropOutProv', 'PropOutCity'\n",
    "    'City', 'County'\n",
    "]\n",
    "\n",
    "list_of_grid_ids_filename = JoinPath(root, 'Data/MobilePhoto.Xian/GridIdsList.txt')\n",
    "\n",
    "with open(list_of_grid_ids_filename, 'r') as f:\n",
    "    list_of_grid_ids = [int(id_.rstrip()) for id_ in f.readlines()]\n",
    "\n",
    "non_local_data = {}\n",
    "for quarter in range(1, 5):\n",
    "    weekday_layer_id = (quarter - 1) * 2\n",
    "    weekend_layer_id = (quarter - 1) * 2 + 1\n",
    "    \n",
    "    weekday_layer = layers[weekday_layer_id]\n",
    "    weekend_layer = layers[weekend_layer_id]\n",
    "    \n",
    "    weekday_layer_filename = JoinPath(root, 'Data/MobilePhoto.Xian', weekday_layer)\n",
    "    weekend_layer_filename = JoinPath(root, 'Data/MobilePhoto.Xian', weekend_layer)\n",
    "    \n",
    "    data = {}\n",
    "    \n",
    "    with open(weekday_layer_filename, 'r', encoding = 'utf-8') as f:\n",
    "        weekday_raw_rows = f.read().rstrip().split('\\n')\n",
    "\n",
    "    for row in weekday_raw_rows:\n",
    "        elements = row.split(';')\n",
    "        grid = dict(zip(keys, elements))\n",
    "\n",
    "        grid['GridID'] = int(grid['GridID'])\n",
    "\n",
    "        if grid['GridID'] in list_of_grid_ids:\n",
    "            non_local_weekday = float(grid['PropOutCity']) if grid['PropOutCity'] != '' else nan\n",
    "            data.update({\n",
    "                grid['GridID']: {\n",
    "                    'NonLocalWeekday': non_local_weekday\n",
    "                }\n",
    "            })\n",
    "    \n",
    "    with open(weekend_layer_filename, 'r', encoding = 'utf-8') as f:\n",
    "        weekend_raw_rows = f.read().rstrip().split('\\n')\n",
    "    \n",
    "    for row in weekend_raw_rows:\n",
    "        elements = row.split(';')\n",
    "        grid = dict(zip(keys, elements))\n",
    "\n",
    "        grid['GridID'] = int(grid['GridID'])\n",
    "\n",
    "        if grid['GridID'] in list_of_grid_ids:\n",
    "            non_local_weekday = data[grid['GridID']]['NonLocalWeekday']\n",
    "            non_local_weekend = float(grid['PropOutCity']) if grid['PropOutCity'] != '' else nan\n",
    "            \n",
    "            if (not isnan(non_local_weekday)) and (not isnan(non_local_weekend)):\n",
    "                non_local = non_local_weekend * 2 / 7 + non_local_weekday * 5 / 7\n",
    "            elif (not isnan(non_local_weekday)) and isnan(non_local_weekend):\n",
    "                non_local = non_local_weekday\n",
    "            elif isnan(non_local_weekday) and (not isnan(non_local_weekend)):\n",
    "                non_local = non_local_weekend\n",
    "            else:\n",
    "                non_local = nan\n",
    "            \n",
    "            data[grid['GridID']].update({\n",
    "                'NonLocalWeekend': non_local_weekend,\n",
    "                'NonLocal': non_local\n",
    "            })\n",
    "    \n",
    "    non_local_data.update({\n",
    "        f'Q{quarter}': data\n",
    "    })"
   ]
  },
  {
   "cell_type": "code",
   "execution_count": 19,
   "metadata": {},
   "outputs": [],
   "source": [
    "for quarter in range(1, 5):\n",
    "    non_local_data_section = non_local_data[f'Q{quarter}']\n",
    "\n",
    "    table_out_path = JoinPath(root, 'Social.gdb')\n",
    "    table_out_name = f'DailyMobilePhone_2021Q{quarter}'\n",
    "    table_filename = JoinPath(table_out_path, table_out_name)\n",
    "    \n",
    "    arcpy.management.CreateTable(\n",
    "        out_path = table_out_path,\n",
    "        out_name = table_out_name,\n",
    "        template = None,\n",
    "        config_keyword = '',\n",
    "        out_alias = ''\n",
    "    )\n",
    "\n",
    "    arcpy.management.AddField(table_filename, 'GridID', 'LONG')\n",
    "    arcpy.management.AddField(table_filename, 'NonLocal', 'DOUBLE')\n",
    "    \n",
    "    with arcpy.da.InsertCursor(table_filename, ['GridID', 'NonLocal']) as cursor:\n",
    "        for grid_id in non_local_data_section:\n",
    "            cursor.insertRow([grid_id, non_local_data_section[grid_id]['NonLocal']])\n",
    "    \n",
    "    arcpy.management.Delete(\n",
    "        in_data = table_out_name,\n",
    "        data_type = ''\n",
    "    )"
   ]
  },
  {
   "cell_type": "markdown",
   "metadata": {
    "heading_collapsed": true
   },
   "source": [
    "## 2.4 House Price Data"
   ]
  },
  {
   "cell_type": "code",
   "execution_count": 32,
   "metadata": {
    "hidden": true
   },
   "outputs": [],
   "source": [
    "in_features = JoinPath(root, 'Data/MainUrbanArea.Xian/GridShapeGaode.shp')\n",
    "out_path = JoinPath(root, 'Social.gdb')\n",
    "out_name = 'GridShapeGaode'\n",
    "\n",
    "with arcpy.EnvManager(addOutputsToMap = False):\n",
    "    arcpy.conversion.FeatureClassToFeatureClass(\n",
    "        in_features = in_features,\n",
    "        out_path = out_path,\n",
    "        out_name = out_name\n",
    "    )"
   ]
  },
  {
   "cell_type": "code",
   "execution_count": 25,
   "metadata": {
    "hidden": true
   },
   "outputs": [
    {
     "data": {
      "text/html": [
       "<div class='gpresult'><h2>Messages</h2><div id='messages' data-messages='[\"Start Time: Friday, September 22, 2023 12:15:43 AM\",\"Succeeded at Friday, September 22, 2023 12:15:43 AM (Elapsed Time: 0.28 seconds)\"]' data-show='true'><div id = 'default' /></div></div>"
      ],
      "text/plain": [
       "<Result \"D:/Users/PiesPro/OneDrive/Workspace/Air Pollution Exposure in Xi'an/Projects/Publish\\\\Social.gdb\">"
      ]
     },
     "execution_count": 25,
     "metadata": {},
     "output_type": "execute_result"
    }
   ],
   "source": [
    "arcpy.management.CreateFileGDB(\n",
    "    out_folder_path = root,\n",
    "    out_name = 'Social',\n",
    "    out_version = 'CURRENT'\n",
    ")"
   ]
  },
  {
   "cell_type": "code",
   "execution_count": 28,
   "metadata": {
    "hidden": true
   },
   "outputs": [
    {
     "data": {
      "text/html": [
       "<div class='gpresult'><h2>Messages</h2><div id='messages' data-messages='[\"Start Time: Friday, September 22, 2023 12:23:09 AM\",\"Succeeded at Friday, September 22, 2023 12:23:50 AM (Elapsed Time: 40.62 seconds)\"]' data-show='true'><div id = 'default' /></div></div>"
      ],
      "text/plain": [
       "<Result 'true'>"
      ]
     },
     "execution_count": 28,
     "metadata": {},
     "output_type": "execute_result"
    }
   ],
   "source": [
    "communities_house_price_filename = JoinPath(root, 'Data/HousePrice.Xian/Communities.20230311.Gaode.csv')\n",
    "\n",
    "feature_class_path = JoinPath(root, 'Social.gdb')\n",
    "feature_class_name = 'CommunitiesHousePrice'\n",
    "feature_class_filename = JoinPath(feature_class_path, feature_class_name)\n",
    "\n",
    "spatial_reference = arcpy.SpatialReference(4326)\n",
    "\n",
    "arcpy.management.CreateFeatureclass(\n",
    "    out_path = feature_class_path, \n",
    "    out_name = feature_class_name, \n",
    "    geometry_type = 'POINT',\n",
    "    spatial_reference = spatial_reference\n",
    ")\n",
    "\n",
    "arcpy.management.AddField(feature_class_filename, 'AvgUnitPrice', 'LONG')\n",
    "arcpy.management.AddField(feature_class_filename, 'Count', 'LONG')\n",
    "\n",
    "with arcpy.da.InsertCursor(feature_class_filename, ['SHAPE@XY', 'AvgUnitPrice', 'Count']) as cursor:\n",
    "    communities_house_price = \\\n",
    "        ReadCsv(communities_house_price_filename, encoding = 'utf-8').\\\n",
    "        to_dict('records')\n",
    "    \n",
    "    for community in communities_house_price:\n",
    "        point = arcpy.Point(community['Longitude'], community['Latitude'])\n",
    "        cursor.insertRow([point, community['AvgUnitPrice'], community['Count']])\n",
    "\n",
    "arcpy.management.Delete(\n",
    "    in_data = feature_class_name,\n",
    "    data_type = ''\n",
    ")"
   ]
  },
  {
   "cell_type": "code",
   "execution_count": 29,
   "metadata": {
    "hidden": true
   },
   "outputs": [
    {
     "data": {
      "text/html": [
       "<div class='gpresult'><h2>Messages</h2><div id='messages' data-messages='[\"Start Time: Friday, September 22, 2023 1:41:38 AM\",\"Succeeded at Friday, September 22, 2023 1:43:42 AM (Elapsed Time: 2 minutes 4 seconds)\"]' data-show='true'><div id = 'default' /></div></div>"
      ],
      "text/plain": [
       "<Result \"D:\\\\Users\\\\PiesPro\\\\OneDrive\\\\Workspace\\\\Air Pollution Exposure in Xi'an\\\\Projects\\\\Publish\\\\Social.gdb\\\\Bizcircles\">"
      ]
     },
     "execution_count": 29,
     "metadata": {},
     "output_type": "execute_result"
    }
   ],
   "source": [
    "in_json_file = JoinPath(root, 'Data/HousePrice.Xian/Bizcircles.20230311.Gaode.json')\n",
    "out_features = JoinPath(root, 'Social.gdb/Bizcircles')\n",
    "\n",
    "with arcpy.EnvManager(addOutputsToMap = False):\n",
    "    arcpy.conversion.JSONToFeatures(\n",
    "        in_json_file = in_json_file,\n",
    "        out_features = out_features,\n",
    "        geometry_type = 'POLYGON'\n",
    "    )"
   ]
  },
  {
   "cell_type": "code",
   "execution_count": 30,
   "metadata": {
    "hidden": true
   },
   "outputs": [
    {
     "data": {
      "text/html": [
       "<div class='gpresult'><h2>Messages</h2><div id='messages' data-messages='[\"Start Time: Friday, September 22, 2023 1:59:49 AM\",\"Bandwidth = 0.014738419298968497\",\"Succeeded at Friday, September 22, 2023 2:01:57 AM (Elapsed Time: 2 minutes 8 seconds)\"]' data-show='true'><div id = 'default' /></div></div>"
      ],
      "text/plain": [
       "<Result ''>"
      ]
     },
     "execution_count": 30,
     "metadata": {},
     "output_type": "execute_result"
    }
   ],
   "source": [
    "in_features = JoinPath(root, 'Social.gdb/CommunitiesHousePrice')\n",
    "out_raster = JoinPath(root, 'Social.gdb/HousePriceSurface')\n",
    "in_barrier_features = JoinPath(root, 'Social.gdb/Bizcircles')\n",
    "\n",
    "arcpy.ga.DiffusionInterpolationWithBarriers(\n",
    "    in_features = in_features,\n",
    "    z_field = 'AvgUnitPrice',\n",
    "    out_raster = out_raster,\n",
    "    in_barrier_features = in_barrier_features,\n",
    "    bandwidth = None,\n",
    "    number_iterations = 100,\n",
    "    weight_field = 'Count',\n",
    "    in_additive_barrier_raster = None,\n",
    "    in_cumulative_barrier_raster = None,\n",
    "    in_flow_barrier_raster = None\n",
    ")"
   ]
  },
  {
   "cell_type": "code",
   "execution_count": 33,
   "metadata": {
    "hidden": true
   },
   "outputs": [],
   "source": [
    "in_zone_data = JoinPath(root, 'Social.gdb/GridShapeGaode')\n",
    "in_value_raster = JoinPath(root, 'Social.gdb/HousePriceSurface')\n",
    "out_table = JoinPath(root, 'Social.gdb/ZonalSt_HousePrice')\n",
    "\n",
    "with arcpy.EnvManager(addOutputsToMap = False):\n",
    "    arcpy.ia.ZonalStatisticsAsTable(\n",
    "        in_zone_data = in_zone_data,\n",
    "        zone_field = 'GridID',\n",
    "        in_value_raster = in_value_raster,\n",
    "        out_table = out_table,\n",
    "        ignore_nodata = 'DATA',\n",
    "        statistics_type = 'MEAN',\n",
    "        process_as_multidimensional = 'CURRENT_SLICE',\n",
    "        percentile_values = 90,\n",
    "        percentile_interpolation_type = 'AUTO_DETECT',\n",
    "        circular_calculation = 'ARITHMETIC',\n",
    "        circular_wrap_value = 360\n",
    "    )"
   ]
  },
  {
   "cell_type": "markdown",
   "metadata": {
    "heading_collapsed": true
   },
   "source": [
    "## 2.5 Pollution in Grids"
   ]
  },
  {
   "cell_type": "code",
   "execution_count": 47,
   "metadata": {
    "hidden": true
   },
   "outputs": [],
   "source": [
    "for quarter in range(1, 5):\n",
    "    for type_ in ['daytime', 'nighttime']:\n",
    "        in_zone_data = JoinPath(root, 'Publish.gdb', 'GridShape')\n",
    "        in_value_raster = JoinPath(root, 'Kriging.gdb', f'QuarterlyKriging_2021Q{quarter}_{type_}')\n",
    "        out_table = JoinPath(root, 'Kriging.gdb', f'ZonalSt_QuarterlyKriging_2021Q{quarter}_{type_}')\n",
    "\n",
    "        with arcpy.EnvManager(addOutputsToMap = False):\n",
    "            arcpy.ia.ZonalStatisticsAsTable(\n",
    "                in_zone_data = in_zone_data,\n",
    "                zone_field = 'GridID',\n",
    "                in_value_raster = in_value_raster,\n",
    "                out_table = out_table,\n",
    "                ignore_nodata = 'DATA',\n",
    "                statistics_type = 'MEAN',\n",
    "                process_as_multidimensional = 'CURRENT_SLICE',\n",
    "                percentile_values = 90,\n",
    "                percentile_interpolation_type = 'AUTO_DETECT',\n",
    "                circular_calculation = 'ARITHMETIC',\n",
    "                circular_wrap_value = 360\n",
    "            )"
   ]
  },
  {
   "cell_type": "markdown",
   "metadata": {},
   "source": [
    "## 2.6 GWR Quarterly Datasets"
   ]
  },
  {
   "cell_type": "code",
   "execution_count": 20,
   "metadata": {},
   "outputs": [
    {
     "data": {
      "text/html": [
       "<div class='gpresult'><h2>Messages</h2><div id='messages' data-messages='[\"Start Time: Friday, September 22, 2023 4:16:44 AM\",\"Succeeded at Friday, September 22, 2023 4:16:45 AM (Elapsed Time: 0.49 seconds)\"]' data-show='true'><div id = 'default' /></div></div>"
      ],
      "text/plain": [
       "<Result \"D:/Users/PiesPro/OneDrive/Workspace/Air Pollution Exposure in Xi'an/Projects/Publish\\\\Gwr.gdb\">"
      ]
     },
     "execution_count": 20,
     "metadata": {},
     "output_type": "execute_result"
    }
   ],
   "source": [
    "arcpy.management.CreateFileGDB(\n",
    "    out_folder_path = root,\n",
    "    out_name = 'Gwr',\n",
    "    out_version = 'CURRENT'\n",
    ")"
   ]
  },
  {
   "cell_type": "code",
   "execution_count": 21,
   "metadata": {},
   "outputs": [],
   "source": [
    "grid_shape_layer_name = 'GridShape'\n",
    "house_price_layer_name = 'ZonalSt_HousePrice'\n",
    "grid_shape_filename = JoinPath(root, 'Publish.gdb', grid_shape_layer_name)\n",
    "house_price_filename = JoinPath(root, 'Social.gdb', house_price_layer_name)\n",
    "\n",
    "map_.addDataFromPath(\n",
    "    data_path = grid_shape_filename,\n",
    "    web_service_type = 'AUTOMATIC',\n",
    "    custom_parameters = None\n",
    ")\n",
    "map_.addDataFromPath(\n",
    "    data_path = house_price_filename,\n",
    "    web_service_type = 'AUTOMATIC',\n",
    "    custom_parameters = None\n",
    ")\n",
    "\n",
    "for quarter in range(1, 5):\n",
    "    mobile_phone_layer_name = f'DailyMobilePhone_2021Q{quarter}'\n",
    "    pm25_daytime_layer_name = f'ZonalSt_QuarterlyKriging_2021Q{quarter}_daytime'\n",
    "    pm25_nighttime_layer_name = f'ZonalSt_QuarterlyKriging_2021Q{quarter}_nighttime'\n",
    "    \n",
    "    mobile_phone_filename = JoinPath(root, 'Social.gdb', mobile_phone_layer_name)\n",
    "    pm25_daytime_filename = JoinPath(root, 'Kriging.gdb', pm25_daytime_layer_name)\n",
    "    pm25_nighttime_filename = JoinPath(root, 'Kriging.gdb', pm25_nighttime_layer_name)\n",
    "\n",
    "    map_.addDataFromPath(\n",
    "        data_path = mobile_phone_filename,\n",
    "        web_service_type = 'AUTOMATIC',\n",
    "        custom_parameters = None\n",
    "    )\n",
    "    map_.addDataFromPath(\n",
    "        data_path = pm25_daytime_filename,\n",
    "        web_service_type = 'AUTOMATIC',\n",
    "        custom_parameters = None\n",
    "    )\n",
    "    map_.addDataFromPath(\n",
    "        data_path = pm25_nighttime_filename,\n",
    "        web_service_type = 'AUTOMATIC',\n",
    "        custom_parameters = None\n",
    "    )\n",
    "    \n",
    "    arcpy.management.AddJoin(\n",
    "        in_layer_or_view = grid_shape_layer_name,\n",
    "        in_field = 'GridID',\n",
    "        join_table = house_price_layer_name,\n",
    "        join_field = 'GridID',\n",
    "        join_type = 'KEEP_ALL',\n",
    "        index_join_fields = 'NO_INDEX_JOIN_FIELDS'\n",
    "    )\n",
    "    arcpy.management.AddJoin(\n",
    "        in_layer_or_view = grid_shape_layer_name,\n",
    "        in_field = f'{grid_shape_layer_name}.GridID',\n",
    "        join_table = mobile_phone_layer_name,\n",
    "        join_field = 'GridID',\n",
    "        join_type = 'KEEP_ALL',\n",
    "        index_join_fields = 'NO_INDEX_JOIN_FIELDS'\n",
    "    )\n",
    "    arcpy.management.AddJoin(\n",
    "        in_layer_or_view = grid_shape_layer_name,\n",
    "        in_field = f'{grid_shape_layer_name}.GridID',\n",
    "        join_table = pm25_daytime_layer_name,\n",
    "        join_field = 'GridID',\n",
    "        join_type = 'KEEP_ALL',\n",
    "        index_join_fields = 'NO_INDEX_JOIN_FIELDS'\n",
    "    )\n",
    "    arcpy.management.AddJoin(\n",
    "        in_layer_or_view = grid_shape_layer_name,\n",
    "        in_field = f'{grid_shape_layer_name}.GridID',\n",
    "        join_table = pm25_nighttime_layer_name,\n",
    "        join_field = 'GridID',\n",
    "        join_type = 'KEEP_ALL',\n",
    "        index_join_fields = 'NO_INDEX_JOIN_FIELDS'\n",
    "    )\n",
    "    \n",
    "    out_features = JoinPath(root, 'Gwr.gdb', f'Gwr_2021Q{quarter}')\n",
    "    field_mapping = f'GridID \"GridID\" true true false 4 Long 0 0,First,#,GridShape,{grid_shape_layer_name}.GridID,-1,-1;' \\\n",
    "        f'HousePrice \"HousePrice\" true true false 8 Double 0 0,First,#,GridShape,{house_price_layer_name}.MEAN,-1,-1;' \\\n",
    "        f'NonLocal \"NonLocal\" true true false 8 Double 0 0,First,#,GridShape,{mobile_phone_layer_name}.NonLocal,-1,-1;' \\\n",
    "        f'PolDay \"PolDay\" true true false 8 Double 0 0,First,#,GridShape,{pm25_daytime_layer_name}.MEAN,-1,-1;' \\\n",
    "        f'PolNight \"PolNight\" true true false 8 Double 0 0,First,#,GridShape,{pm25_nighttime_layer_name}.MEAN,-1,-1'\n",
    "    arcpy.conversion.ExportFeatures(\n",
    "        in_features = grid_shape_layer_name,\n",
    "        out_features = out_features,\n",
    "        use_field_alias_as_name = 'NOT_USE_ALIAS',\n",
    "        field_mapping = field_mapping,\n",
    "        sort_field = None\n",
    "    )\n",
    "    \n",
    "    arcpy.management.RemoveJoin(\n",
    "        in_layer_or_view = grid_shape_layer_name,\n",
    "        join_name = ''\n",
    "    )"
   ]
  },
  {
   "cell_type": "markdown",
   "metadata": {
    "heading_collapsed": true
   },
   "source": [
    "## 2.7 Data Validation"
   ]
  },
  {
   "cell_type": "code",
   "execution_count": 23,
   "metadata": {
    "hidden": true,
    "scrolled": true
   },
   "outputs": [
    {
     "data": {
      "text/html": [
       "<div class='gpresult'><h2>Messages</h2><div id='messages' data-messages='[\"Start Time: Thursday, September 21, 2023 11:19:43 PM\",\"Succeeded at Thursday, September 21, 2023 11:19:44 PM (Elapsed Time: 0.51 seconds)\"]' data-show='true'><div id = 'default' /></div></div>"
      ],
      "text/plain": [
       "<Result \"D:\\\\Users\\\\PiesPro\\\\OneDrive\\\\Workspace\\\\Air Pollution Exposure in Xi'an\\\\Projects\\\\Publish\\\\Publish.gdb\\\\MainUrbanArea\">"
      ]
     },
     "execution_count": 23,
     "metadata": {},
     "output_type": "execute_result"
    }
   ],
   "source": [
    "in_features = JoinPath(root, 'Data/MainUrbanArea.Xian/MainUrbanArea.shp')\n",
    "out_features = JoinPath(root, 'Publish.gdb/MainUrbanArea')\n",
    "\n",
    "with arcpy.EnvManager(addOutputsToMap = False):\n",
    "    arcpy.conversion.ExportFeatures(\n",
    "        in_features = in_features,\n",
    "        out_features = out_features\n",
    "    )"
   ]
  },
  {
   "cell_type": "code",
   "execution_count": 18,
   "metadata": {
    "hidden": true
   },
   "outputs": [
    {
     "data": {
      "text/html": [
       "<div class='gpresult'><h2>Messages</h2><div id='messages' data-messages='[\"Start Time: Thursday, September 21, 2023 11:02:25 PM\",\"Succeeded at Thursday, September 21, 2023 11:02:25 PM (Elapsed Time: 0.48 seconds)\"]' data-show='true'><div id = 'default' /></div></div>"
      ],
      "text/plain": [
       "<Result \"D:/Users/PiesPro/OneDrive/Workspace/Air Pollution Exposure in Xi'an/Projects/Publish\\\\Validation.gdb\">"
      ]
     },
     "execution_count": 18,
     "metadata": {},
     "output_type": "execute_result"
    }
   ],
   "source": [
    "arcpy.management.CreateFileGDB(\n",
    "    out_folder_path = root,\n",
    "    out_name = 'Validation',\n",
    "    out_version = 'CURRENT'\n",
    ")"
   ]
  },
  {
   "cell_type": "code",
   "execution_count": 20,
   "metadata": {
    "hidden": true
   },
   "outputs": [],
   "source": [
    "for month in range(1, 13):\n",
    "    monthString = '%02d' % month\n",
    "    \n",
    "    kringingFullName = JoinPath(root, 'Kriging.gdb', f'MonthlyKriging_{monthString}_wholeDay')\n",
    "    v5gl03FullName = JoinPath(root, 'V5GL03.gdb', f'V5GL03_2021{monthString}')\n",
    "    \n",
    "    outputRasterPath = JoinPath(root, 'Validation.gdb', f'Validation_2021{monthString}')\n",
    "\n",
    "    output_raster = arcpy.ia.RasterCalculator(\n",
    "        rasters = [kringingFullName, v5gl03FullName], \n",
    "        input_names = ['kringing', 'v5gl03'],\n",
    "        expression = '(kringing - v5gl03) / kringing'\n",
    "    )\n",
    "    output_raster.save(outputRasterPath)"
   ]
  },
  {
   "cell_type": "code",
   "execution_count": 119,
   "metadata": {
    "hidden": true
   },
   "outputs": [],
   "source": [
    "for quarter in range(1, 5):\n",
    "    kringing_filename = JoinPath(root, 'Kriging.gdb', f'QuarterlyKriging_2021Q{quarter}_wholeDay')\n",
    "    v5gl03_filename = JoinPath(root, 'V5GL03.gdb', f'V5GL03_2021Q{quarter}')\n",
    "    \n",
    "    output_raster_path = JoinPath(root, 'Validation.gdb', f'Validation_2021Q{quarter}')\n",
    "\n",
    "    output_raster = arcpy.ia.RasterCalculator(\n",
    "        rasters = [kringing_filename, v5gl03_filename], \n",
    "        input_names = ['kringing', 'v5gl03'],\n",
    "        expression = '(kringing - v5gl03) / kringing'\n",
    "    )\n",
    "    output_raster.save(output_raster_path)"
   ]
  },
  {
   "cell_type": "code",
   "execution_count": 117,
   "metadata": {
    "hidden": true
   },
   "outputs": [],
   "source": [
    "#=====================#"
   ]
  },
  {
   "cell_type": "code",
   "execution_count": 127,
   "metadata": {
    "hidden": true
   },
   "outputs": [],
   "source": [
    "for quarter in range(1, 5):\n",
    "    in_zone_data = JoinPath(root, 'Publish.gdb', 'GridShape')\n",
    "    in_value_raster = JoinPath(root, 'V5GL03.gdb', f'V5GL03_2021Q{quarter}')\n",
    "    out_table = JoinPath(root, 'Validation.gdb', f'ZonalSt_Validation_2021Q{quarter}')\n",
    "\n",
    "    with arcpy.EnvManager(addOutputsToMap = False):\n",
    "        arcpy.ia.ZonalStatisticsAsTable(\n",
    "            in_zone_data = in_zone_data,\n",
    "            zone_field = 'GridID',\n",
    "            in_value_raster = in_value_raster,\n",
    "            out_table = out_table,\n",
    "            ignore_nodata = 'DATA',\n",
    "            statistics_type = 'MEAN',\n",
    "            process_as_multidimensional = 'CURRENT_SLICE',\n",
    "            percentile_values = 90,\n",
    "            percentile_interpolation_type = 'AUTO_DETECT',\n",
    "            circular_calculation = 'ARITHMETIC',\n",
    "            circular_wrap_value = 360\n",
    "        )"
   ]
  },
  {
   "cell_type": "code",
   "execution_count": 130,
   "metadata": {
    "hidden": true
   },
   "outputs": [],
   "source": [
    "for quarter in range(1, 5):\n",
    "    in_zone_data = JoinPath(root, 'Publish.gdb', 'GridShape')\n",
    "    in_value_raster = JoinPath(root, 'Kriging.gdb', f'QuarterlyKriging_2021Q{quarter}_wholeDay')\n",
    "    out_table = JoinPath(root, 'Validation.gdb', f'ZonalSt_Original_2021Q{quarter}')\n",
    "\n",
    "    with arcpy.EnvManager(addOutputsToMap = False):\n",
    "        arcpy.ia.ZonalStatisticsAsTable(\n",
    "            in_zone_data = in_zone_data,\n",
    "            zone_field = 'GridID',\n",
    "            in_value_raster = in_value_raster,\n",
    "            out_table = out_table,\n",
    "            ignore_nodata = 'DATA',\n",
    "            statistics_type = 'MEAN',\n",
    "            process_as_multidimensional = 'CURRENT_SLICE',\n",
    "            percentile_values = 90,\n",
    "            percentile_interpolation_type = 'AUTO_DETECT',\n",
    "            circular_calculation = 'ARITHMETIC',\n",
    "            circular_wrap_value = 360\n",
    "        )"
   ]
  },
  {
   "cell_type": "code",
   "execution_count": 138,
   "metadata": {
    "hidden": true
   },
   "outputs": [],
   "source": [
    "quarterly_validation_data = []\n",
    "for quarter in range(1, 5):\n",
    "    validation_table = JoinPath(root, 'Validation.gdb', f'ZonalSt_Validation_2021Q{quarter}')\n",
    "    original_table = JoinPath(root, 'Validation.gdb', f'ZonalSt_Original_2021Q{quarter}')\n",
    "\n",
    "    cursor =  arcpy.SearchCursor(validation_table)\n",
    "    for row in cursor:\n",
    "        quarterly_validation_data.append({\n",
    "            'Quarter': quarter,\n",
    "            'GridID': row.getValue('GridID'),\n",
    "            'Type': 'Validation',\n",
    "            'Value': row.getValue('MEAN')\n",
    "        })\n",
    "\n",
    "    cursor = arcpy.SearchCursor(original_table)\n",
    "    for row in cursor:\n",
    "        quarterly_validation_data.append({\n",
    "            'Quarter': quarter,\n",
    "            'GridID': row.getValue('GridID'),\n",
    "            'Type': 'Original',\n",
    "            'Value': row.getValue('MEAN')\n",
    "        })"
   ]
  },
  {
   "cell_type": "code",
   "execution_count": 159,
   "metadata": {
    "hidden": true
   },
   "outputs": [
    {
     "data": {
      "text/plain": [
       "{1: (0.6546004688549981, 1.8032854618734685e-106), 2: (0.7106062895950966, 2.6928426121935606e-133), 3: (0.4486193025295767, 7.315805192476115e-44), 4: (0.8004789349038788, 3.677223913366411e-193)}"
      ]
     },
     "execution_count": 159,
     "metadata": {},
     "output_type": "execute_result"
    }
   ],
   "source": [
    "quarterly_validation_dataframe = DataFrame(quarterly_validation_data).\\\n",
    "    pivot(index = ['Quarter', 'GridID'], columns = ['Type'], values = 'Value').\\\n",
    "    reset_index()\n",
    "\n",
    "correlation_results = {}\n",
    "for quarter in range(1, 5):\n",
    "    subset_dataframe = quarterly_validation_dataframe.query(f'Quarter == {quarter} and Original == Original and Validation == Validation')\n",
    "    correlation_results[quarter] = stats.pearsonr(subset_dataframe['Original'], subset_dataframe['Validation'])\n",
    "    \n",
    "correlation_results"
   ]
  },
  {
   "cell_type": "markdown",
   "metadata": {
    "heading_collapsed": true
   },
   "source": [
    "## 2.8 For Visualization"
   ]
  },
  {
   "cell_type": "markdown",
   "metadata": {
    "heading_collapsed": true,
    "hidden": true
   },
   "source": [
    "### 2.8.1 Concentration Maps"
   ]
  },
  {
   "cell_type": "code",
   "execution_count": 5,
   "metadata": {
    "hidden": true
   },
   "outputs": [
    {
     "data": {
      "text/html": [
       "<div class='gpresult'><h2>Messages</h2><div id='messages' data-messages='[\"Start Time: Sunday, September 24, 2023 2:04:24 AM\",\"Succeeded at Sunday, September 24, 2023 2:04:31 AM (Elapsed Time: 6.26 seconds)\"]' data-show='true'><div id = 'default' /></div></div>"
      ],
      "text/plain": [
       "<Result \"D:/Users/PiesPro/OneDrive/Workspace/Air Pollution Exposure in Xi'an/Projects/Publish\\\\Plot.gdb\">"
      ]
     },
     "execution_count": 5,
     "metadata": {},
     "output_type": "execute_result"
    }
   ],
   "source": [
    "arcpy.management.CreateFileGDB(\n",
    "    out_folder_path = root,\n",
    "    out_name = 'Plot',\n",
    "    out_version = 'CURRENT'\n",
    ")"
   ]
  },
  {
   "cell_type": "code",
   "execution_count": 21,
   "metadata": {
    "hidden": true
   },
   "outputs": [
    {
     "name": "stderr",
     "output_type": "stream",
     "text": [
      "100%|██████████| 12/12 [01:05<00:00,  5.48s/it]﻿\n"
     ]
    }
   ],
   "source": [
    "with Tqdm(total = 4 * 3) as pbar:\n",
    "    for quarter in range(1, 5):\n",
    "        for type_ in ['wholeDay', 'daytime', 'nighttime']:\n",
    "            in_raster = JoinPath(root, 'Kriging.gdb', f'QuarterlyKriging_2021Q{quarter}_{type_}')\n",
    "            in_mask_data = JoinPath(root, 'Publish.gdb', 'MainUrbanArea')\n",
    "            out_raster_name = JoinPath(root, 'Plot.gdb', f'PM25_2021Q{quarter}_{type_}')\n",
    "\n",
    "            out_raster = arcpy.sa.ExtractByMask(\n",
    "                in_raster = in_raster,\n",
    "                in_mask_data = in_mask_data,\n",
    "                extraction_area = 'INSIDE'\n",
    "            )\n",
    "            out_raster.save(out_raster_name)\n",
    "\n",
    "            pbar.update(1)"
   ]
  },
  {
   "cell_type": "code",
   "execution_count": 22,
   "metadata": {
    "hidden": true
   },
   "outputs": [],
   "source": [
    "for type_ in ['wholeDay', 'daytime', 'nighttime']:\n",
    "    in_raster = JoinPath(root, 'Kriging.gdb', f'AnnualKriging_2021_{type_}')\n",
    "    in_mask_data = JoinPath(root, 'Publish.gdb', 'MainUrbanArea')\n",
    "    out_raster_name = JoinPath(root, 'Plot.gdb', f'PM25_2021_{type_}')\n",
    "\n",
    "    out_raster = arcpy.sa.ExtractByMask(\n",
    "        in_raster = in_raster,\n",
    "        in_mask_data = in_mask_data,\n",
    "        extraction_area = 'INSIDE'\n",
    "    )\n",
    "    out_raster.save(out_raster_name)"
   ]
  },
  {
   "cell_type": "markdown",
   "metadata": {
    "heading_collapsed": true,
    "hidden": true
   },
   "source": [
    "### 2.8.2 Validation"
   ]
  },
  {
   "cell_type": "code",
   "execution_count": 111,
   "metadata": {
    "hidden": true
   },
   "outputs": [],
   "source": [
    "for month in range(1, 13):\n",
    "    month_string = '%02d' % month\n",
    "    in_raster = JoinPath(root, 'Validation.gdb', f'Validation_2021{month_string}')\n",
    "    in_mask_data = JoinPath(root, 'Publish.gdb', 'MainUrbanArea')\n",
    "    out_raster_name = JoinPath(root, 'Plot.gdb', f'Validation_2021{month_string}')\n",
    "\n",
    "    out_raster = arcpy.sa.ExtractByMask(\n",
    "        in_raster = in_raster,\n",
    "        in_mask_data = in_mask_data,\n",
    "        extraction_area = 'INSIDE'\n",
    "    )\n",
    "    out_raster.save(out_raster_name)"
   ]
  },
  {
   "cell_type": "code",
   "execution_count": 120,
   "metadata": {
    "hidden": true
   },
   "outputs": [],
   "source": [
    "for quarter in range(1, 5):\n",
    "    in_raster = JoinPath(root, 'Validation.gdb', f'Validation_2021Q{quarter}')\n",
    "    in_mask_data = JoinPath(root, 'Publish.gdb', 'MainUrbanArea')\n",
    "    out_raster_name = JoinPath(root, 'Plot.gdb', f'Validation_2021Q{quarter}')\n",
    "\n",
    "    out_raster = arcpy.sa.ExtractByMask(\n",
    "        in_raster = in_raster,\n",
    "        in_mask_data = in_mask_data,\n",
    "        extraction_area = 'INSIDE'\n",
    "    )\n",
    "    out_raster.save(out_raster_name)"
   ]
  },
  {
   "cell_type": "markdown",
   "metadata": {},
   "source": [
    "# 3 Moran's I"
   ]
  },
  {
   "cell_type": "markdown",
   "metadata": {
    "heading_collapsed": true
   },
   "source": [
    "## 3.1 Global Moran's I"
   ]
  },
  {
   "cell_type": "code",
   "execution_count": 69,
   "metadata": {
    "hidden": true
   },
   "outputs": [],
   "source": [
    "global_morans_i = {}\n",
    "for quarter in range(1, 5):\n",
    "    input_feature_class = JoinPath(root, 'Gwr.gdb', f'Gwr_2021Q{quarter}')\n",
    "    morans_i = arcpy.stats.SpatialAutocorrelation(\n",
    "        Input_Feature_Class = input_feature_class,\n",
    "        Input_Field = 'NonLocal',\n",
    "        Generate_Report = None,\n",
    "        Conceptualization_of_Spatial_Relationships = 'FIXED_DISTANCE_BAND',\n",
    "        Distance_Method = 'EUCLIDEAN_DISTANCE',\n",
    "        Standardization = 'ROW',\n",
    "        Distance_Band_or_Threshold_Distance = 2341,\n",
    "        Weights_Matrix_File = None,\n",
    "        number_of_neighbors = None\n",
    "    )\n",
    "    global_morans_i[f'NonLocal.Q{quarter}'] = morans_i"
   ]
  },
  {
   "cell_type": "code",
   "execution_count": 70,
   "metadata": {
    "hidden": true
   },
   "outputs": [],
   "source": [
    "feature_name = JoinPath(root, 'Gwr.gdb', f'Gwr_2021Q1')\n",
    "morans_i = arcpy.stats.SpatialAutocorrelation(\n",
    "    Input_Feature_Class = feature_name,\n",
    "    Input_Field = 'HousePrice',\n",
    "    Generate_Report = None,\n",
    "    Conceptualization_of_Spatial_Relationships = 'FIXED_DISTANCE_BAND',\n",
    "    Distance_Method = 'EUCLIDEAN_DISTANCE',\n",
    "    Standardization = 'ROW',\n",
    "    Distance_Band_or_Threshold_Distance = 2341,\n",
    "    Weights_Matrix_File = None,\n",
    "    number_of_neighbors = None\n",
    ")\n",
    "global_morans_i['HousePrice'] = morans_i"
   ]
  },
  {
   "cell_type": "code",
   "execution_count": 105,
   "metadata": {
    "hidden": true
   },
   "outputs": [
    {
     "data": {
      "text/html": [
       "<div>\n",
       "<style scoped>\n",
       "    .dataframe tbody tr th:only-of-type {\n",
       "        vertical-align: middle;\n",
       "    }\n",
       "\n",
       "    .dataframe tbody tr th {\n",
       "        vertical-align: top;\n",
       "    }\n",
       "\n",
       "    .dataframe thead th {\n",
       "        text-align: right;\n",
       "    }\n",
       "</style>\n",
       "<table border=\"1\" class=\"dataframe\">\n",
       "  <thead>\n",
       "    <tr style=\"text-align: right;\">\n",
       "      <th></th>\n",
       "      <th>Label</th>\n",
       "      <th>I</th>\n",
       "      <th>z-score</th>\n",
       "      <th>p-value</th>\n",
       "    </tr>\n",
       "  </thead>\n",
       "  <tbody>\n",
       "    <tr>\n",
       "      <th>0</th>\n",
       "      <td>NonLocal.Q1</td>\n",
       "      <td>0.599989</td>\n",
       "      <td>50.442767</td>\n",
       "      <td>0</td>\n",
       "    </tr>\n",
       "    <tr>\n",
       "      <th>1</th>\n",
       "      <td>NonLocal.Q2</td>\n",
       "      <td>0.628182</td>\n",
       "      <td>52.483682</td>\n",
       "      <td>0</td>\n",
       "    </tr>\n",
       "    <tr>\n",
       "      <th>2</th>\n",
       "      <td>NonLocal.Q3</td>\n",
       "      <td>0.729686</td>\n",
       "      <td>65.471711</td>\n",
       "      <td>0</td>\n",
       "    </tr>\n",
       "    <tr>\n",
       "      <th>3</th>\n",
       "      <td>NonLocal.Q4</td>\n",
       "      <td>0.650095</td>\n",
       "      <td>58.251977</td>\n",
       "      <td>0</td>\n",
       "    </tr>\n",
       "    <tr>\n",
       "      <th>4</th>\n",
       "      <td>HousePrice</td>\n",
       "      <td>0.75071</td>\n",
       "      <td>62.664635</td>\n",
       "      <td>0</td>\n",
       "    </tr>\n",
       "  </tbody>\n",
       "</table>\n",
       "</div>"
      ],
      "text/plain": [
       "         Label         I    z-score p-value\n",
       "0  NonLocal.Q1  0.599989  50.442767       0\n",
       "1  NonLocal.Q2  0.628182  52.483682       0\n",
       "2  NonLocal.Q3  0.729686  65.471711       0\n",
       "3  NonLocal.Q4  0.650095  58.251977       0\n",
       "4   HousePrice   0.75071  62.664635       0"
      ]
     },
     "execution_count": 105,
     "metadata": {},
     "output_type": "execute_result"
    }
   ],
   "source": [
    "DataFrame([\n",
    "    {\n",
    "        'Label': i,\n",
    "        'I': global_morans_i[i][0],\n",
    "        'z-score': global_morans_i[i][1],\n",
    "        'p-value': global_morans_i[i][2]\n",
    "    }\n",
    "    for i in global_morans_i\n",
    "])"
   ]
  },
  {
   "cell_type": "markdown",
   "metadata": {},
   "source": [
    "## 3.2 Local Moran's I"
   ]
  },
  {
   "cell_type": "code",
   "execution_count": 72,
   "metadata": {},
   "outputs": [],
   "source": [
    "for quarter in range(1, 5):\n",
    "    input_feature_class = JoinPath(root, 'Gwr.gdb', f'Gwr_2021Q{quarter}')\n",
    "    output_feature_class = JoinPath(root, 'Gwr.gdb', f'LocalMoransI_2021Q{quarter}_NonLocal')\n",
    "    arcpy.stats.ClustersOutliers(\n",
    "        Input_Feature_Class = input_feature_class,\n",
    "        Input_Field = 'NonLocal',\n",
    "        Output_Feature_Class = output_feature_class,\n",
    "        Conceptualization_of_Spatial_Relationships = 'FIXED_DISTANCE_BAND',\n",
    "        Distance_Method = 'EUCLIDEAN_DISTANCE',\n",
    "        Standardization = 'ROW',\n",
    "        Distance_Band_or_Threshold_Distance = 2341,\n",
    "        Weights_Matrix_File = None,\n",
    "        Apply_False_Discovery_Rate__FDR__Correction = 'APPLY_FDR',\n",
    "        Number_of_Permutations = 9999,\n",
    "        number_of_neighbors = None\n",
    "    )"
   ]
  },
  {
   "cell_type": "code",
   "execution_count": 73,
   "metadata": {},
   "outputs": [
    {
     "data": {
      "text/html": [
       "<div class='gpresult'><h2>Messages</h2><div id='messages' data-messages='[\"Start Time: Monday, October 23, 2023 7:17:27 PM\",\"WARNING 001605: Distances for Geographic Coordinates (degrees, minutes, seconds) are analyzed using Chordal Distances in meters.\",\"WARNING 000642: Problems reading 132 of 942 total records.\",\"WARNING 000848: Features with bad records (only includes first 30): OBJECTID = 130, 131, 132, 133, 134, 135, 136, 137, 138, 139, 140, 141, 142, 143, 144, 145, 146, 147, 148, 149, 150, 151, 284, 285, 286, 287, 288, 289, 290, 291.\",\"Succeeded at Monday, October 23, 2023 7:17:34 PM (Elapsed Time: 6.66 seconds)\"]' data-show='true'><div id = 'default' /></div></div>"
      ],
      "text/plain": [
       "<Result \"D:\\\\Users\\\\PiesPro\\\\OneDrive\\\\Workspace\\\\Air Pollution Exposure in Xi'an\\\\Projects\\\\Publish\\\\Gwr.gdb\\\\LocalMoransI_2021_HousePrice\">"
      ]
     },
     "execution_count": 73,
     "metadata": {},
     "output_type": "execute_result"
    }
   ],
   "source": [
    "input_feature_class = JoinPath(root, 'Gwr.gdb', f'Gwr_2021Q1')\n",
    "output_feature_class = JoinPath(root, 'Gwr.gdb', f'LocalMoransI_2021_HousePrice')\n",
    "arcpy.stats.ClustersOutliers(\n",
    "    Input_Feature_Class = input_feature_class,\n",
    "    Input_Field = 'HousePrice',\n",
    "    Output_Feature_Class = output_feature_class,\n",
    "    Conceptualization_of_Spatial_Relationships = 'FIXED_DISTANCE_BAND',\n",
    "    Distance_Method = 'EUCLIDEAN_DISTANCE',\n",
    "    Standardization = 'ROW',\n",
    "    Distance_Band_or_Threshold_Distance = 2341,\n",
    "    Weights_Matrix_File = None,\n",
    "    Apply_False_Discovery_Rate__FDR__Correction = 'APPLY_FDR',\n",
    "    Number_of_Permutations = 9999,\n",
    "    number_of_neighbors = None\n",
    ")"
   ]
  },
  {
   "cell_type": "markdown",
   "metadata": {},
   "source": [
    "# 4 Regression"
   ]
  },
  {
   "cell_type": "code",
   "execution_count": 6,
   "metadata": {},
   "outputs": [],
   "source": [
    "for formula in ['NonLocal.Day', 'NonLocal.Night', 'HousePrice']:\n",
    "    feature_name = f'GwrModel_2021_Merged_{formula}'\n",
    "    in_json_file = JoinPath(root, 'Results', f'{feature_name}.geojson')\n",
    "    out_features = JoinPath(root, 'Gwr.gdb', feature_name.replace('.', '_'))\n",
    "    with arcpy.EnvManager(addOutputsToMap = False):\n",
    "        arcpy.conversion.JSONToFeatures(\n",
    "            in_json_file = in_json_file,\n",
    "            out_features = out_features,\n",
    "            geometry_type = 'POLYGON'\n",
    "        )"
   ]
  },
  {
   "cell_type": "code",
   "execution_count": 7,
   "metadata": {},
   "outputs": [],
   "source": [
    "for quarter in range(1, 5):\n",
    "    for formula in ['NonLocal.Day', 'NonLocal.Night', 'HousePrice']:\n",
    "        feature_name = f'GwrModel_2021Q{quarter}_{formula}'\n",
    "        in_json_file = JoinPath(root, 'Results', f'{feature_name}.geojson')\n",
    "        out_features = JoinPath(root, 'Gwr.gdb', feature_name.replace('.', '_'))\n",
    "        with arcpy.EnvManager(addOutputsToMap = False):\n",
    "            arcpy.conversion.JSONToFeatures(\n",
    "                in_json_file = in_json_file,\n",
    "                out_features = out_features,\n",
    "                geometry_type = 'POLYGON'\n",
    "            )"
   ]
  }
 ],
 "metadata": {
  "kernelspec": {
   "display_name": "ArcGISPro",
   "language": "Python",
   "name": "python3"
  },
  "language_info": {
   "file_extension": ".py",
   "name": "python",
   "version": "3"
  }
 },
 "nbformat": 4,
 "nbformat_minor": 2
}
