{
 "cells": [
  {
   "cell_type": "markdown",
   "metadata": {},
   "source": [
    "# 1 Setup"
   ]
  },
  {
   "cell_type": "markdown",
   "metadata": {},
   "source": [
    "## 1.1 Import Modules"
   ]
  },
  {
   "cell_type": "code",
   "execution_count": 51,
   "metadata": {},
   "outputs": [],
   "source": [
    "import arcpy\n",
    "from os.path import join as join_path\n",
    "from calendar import monthrange as month_range\n",
    "from pandas import DataFrame\n",
    "from tqdm import tqdm"
   ]
  },
  {
   "cell_type": "markdown",
   "metadata": {},
   "source": [
    "## 1.2 Set Workplace and Environmental Variables"
   ]
  },
  {
   "cell_type": "code",
   "execution_count": 52,
   "metadata": {},
   "outputs": [],
   "source": [
    "root = \"D:/Repos/Air Pollution Exposure in Xi'an/Projects/Publish\"\n",
    "\n",
    "aprx = arcpy.mp.ArcGISProject('CURRENT')\n",
    "\n",
    "arcpy.env.overwriteOutput = True"
   ]
  },
  {
   "cell_type": "markdown",
   "metadata": {},
   "source": [
    "## 1.3 Functions"
   ]
  },
  {
   "cell_type": "code",
   "execution_count": 108,
   "metadata": {},
   "outputs": [],
   "source": [
    "def apply_border_renderer(border, symbol, color = None, width = None):\n",
    "    sym = border.symbology\n",
    "    sym.renderer.symbol.applySymbolFromGallery(symbol)\n",
    "    \n",
    "    if color != None:\n",
    "        sym.renderer.symbol.outlineColor = color\n",
    "    if width != None:\n",
    "        sym.renderer.symbol.outlineWidth = width\n",
    "    \n",
    "    border.symbology = sym"
   ]
  },
  {
   "cell_type": "code",
   "execution_count": 109,
   "metadata": {},
   "outputs": [],
   "source": [
    "def apply_raster_colorizer(raster, color_ramp, stretch_min, stretch_max):\n",
    "    sym = raster.symbology\n",
    "\n",
    "    colorRamp = aprx.listColorRamps(color_ramp)[0]\n",
    "    sym.colorizer.colorRamp = colorRamp\n",
    "    sym.colorizer.stretchType = 'Custom'\n",
    "\n",
    "    raster.symbology = sym\n",
    "\n",
    "    raster_cim = raster.getDefinition('V3')\n",
    "\n",
    "    colorizer = raster_cim.colorizer\n",
    "    colorizer.statsType = 'GlobalStats'\n",
    "    colorizer.stretchStats.min = stretch_min\n",
    "    colorizer.stretchStats.max = stretch_max\n",
    "    colorizer.stretchClasses[0].value = stretch_min\n",
    "    colorizer.stretchClasses[2].value = stretch_max\n",
    "    colorizer.stretchClasses[0].label = f'{stretch_min}'\n",
    "    colorizer.stretchClasses[2].label = f'{stretch_max}'\n",
    "    colorizer.useCustomStretchMinMax = True\n",
    "\n",
    "    raster_cim.colorizer = colorizer\n",
    "    raster.setDefinition(raster_cim)"
   ]
  },
  {
   "cell_type": "code",
   "execution_count": 110,
   "metadata": {},
   "outputs": [],
   "source": [
    "def apply_feature_renderer(feature, color_ramp, classification_field, break_count):\n",
    "    sym = feature.symbology\n",
    "\n",
    "    sym.updateRenderer('GraduatedColorsRenderer')\n",
    "    sym.renderer.classificationField = classification_field\n",
    "    sym.renderer.breakCount = break_count\n",
    "\n",
    "    colorRamp = aprx.listColorRamps(color_ramp)[0]\n",
    "    sym.renderer.colorRamp = colorRamp\n",
    "\n",
    "    feature.symbology = sym"
   ]
  },
  {
   "cell_type": "markdown",
   "metadata": {},
   "source": [
    "## 2 Visualization"
   ]
  },
  {
   "cell_type": "markdown",
   "metadata": {},
   "source": [
    "## 2.1 PM 2.5 Concentration: Calendar"
   ]
  },
  {
   "cell_type": "code",
   "execution_count": 13,
   "metadata": {},
   "outputs": [
    {
     "name": "stderr",
     "output_type": "stream",
     "text": [
      "100%|██████████| 1095/1095 [03:52<00:00,  4.71it/s]﻿\n"
     ]
    }
   ],
   "source": [
    "daily_mean_values = []\n",
    "\n",
    "with tqdm(total = 365 * 3) as pbar:\n",
    "    for month in range(1, 13):\n",
    "        for day in range(1, month_range(2021, month)[1] + 1):\n",
    "            date_string = '%s%s%s' % (2021, '%02d' % month, '%02d' % day)\n",
    "            mean_values = {\n",
    "                'date': f'{month}/{day}/2021'\n",
    "            }\n",
    "            for type_ in ['wholeDay', 'daytime', 'nighttime']:\n",
    "                raster_name = join_path(root, 'Kriging.gdb', f'DailyKriging_{date_string}_{type_}')\n",
    "                if arcpy.Exists(raster_name):\n",
    "                    raster = arcpy.Raster(raster_name)\n",
    "                    mean_values[type_] = raster.mean\n",
    "                pbar.update(1)\n",
    "            daily_mean_values.append(mean_values)"
   ]
  },
  {
   "cell_type": "code",
   "execution_count": 17,
   "metadata": {},
   "outputs": [],
   "source": [
    "excel_filename = join_path(root, 'Results', 'CalendarData.xlsx')\n",
    "\n",
    "DataFrame(daily_mean_values).to_excel(excel_filename, index = False)"
   ]
  },
  {
   "cell_type": "markdown",
   "metadata": {},
   "source": [
    "## 2.2 PM 2.5 Concentration: Map"
   ]
  },
  {
   "cell_type": "code",
   "execution_count": 5,
   "metadata": {},
   "outputs": [],
   "source": [
    "quarter_mins = {}\n",
    "quarter_maxs = {}\n",
    "for type_ in ['wholeDay', 'daytime', 'nighttime']:\n",
    "    raster_name = join_path(root, 'Plot.gdb', f'PM25_2021_{type_}')\n",
    "    raster = arcpy.Raster(raster_name)\n",
    "    quarter_mins['annual'] = min(quarter_mins['annual'], raster.minimum) if 'annual' in quarter_mins else raster.minimum\n",
    "    quarter_maxs['annual'] = max(quarter_maxs['annual'], raster.maximum) if 'annual' in quarter_maxs else raster.maximum\n",
    "\n",
    "for quarter in range(1, 5):\n",
    "    for type_ in ['wholeDay', 'daytime', 'nighttime']:\n",
    "        raster_name = join_path(root, 'Plot.gdb', f'PM25_2021Q{quarter}_{type_}')\n",
    "        raster = arcpy.Raster(raster_name)\n",
    "        quarter_mins[quarter] = min(quarter_mins[quarter], raster.minimum) if quarter in quarter_mins else raster.minimum\n",
    "        quarter_maxs[quarter] = max(quarter_maxs[quarter], raster.maximum) if quarter in quarter_maxs else raster.maximum\n",
    "\n",
    "for key in quarter_mins:\n",
    "    quarter_mins[key] = math.floor(quarter_mins[key])\n",
    "    quarter_maxs[key] = math.ceil(quarter_maxs[key])"
   ]
  },
  {
   "cell_type": "code",
   "execution_count": 6,
   "metadata": {},
   "outputs": [],
   "source": [
    "for type_ in ['wholeDay', 'daytime', 'nighttime']:\n",
    "    map_name = f'PM25_2021_{type_}'\n",
    "    raster_name = join_path(root, 'Plot.gdb', f'PM25_2021_{type_}')\n",
    "    border_name = join_path(root, 'Publish.gdb', 'MainUrbanArea')\n",
    "\n",
    "    if aprx.listMaps(map_name):\n",
    "        map_visualization = aprx.listMaps(map_name)[0]\n",
    "    else:\n",
    "        map_visualization = aprx.createMap(map_name, 'MAP')\n",
    "\n",
    "    for layer in map_visualization.listLayers():\n",
    "        map_visualization.removeLayer(layer)\n",
    "\n",
    "    map_visualization.spatialReference = arcpy.SpatialReference(2381)\n",
    "\n",
    "    raster = map_visualization.addDataFromPath(raster_name)\n",
    "    border = map_visualization.addDataFromPath(border_name)\n",
    "\n",
    "    apply_border_renderer(border, 'Black Outline (1pt)')\n",
    "    apply_raster_colorizer(\n",
    "        raster, \n",
    "        'Spectrum By Wavelength-Full Bright', \n",
    "        quarter_mins['annual'], \n",
    "        quarter_maxs['annual']\n",
    "    )"
   ]
  },
  {
   "cell_type": "code",
   "execution_count": 8,
   "metadata": {},
   "outputs": [],
   "source": [
    "for quarter in range(1, 5):\n",
    "    for type_ in ['wholeDay', 'daytime', 'nighttime']:\n",
    "        map_name = f'PM25_2021Q{quarter}_{type_}'\n",
    "        raster_name = join_path(root, 'Plot.gdb', f'PM25_2021Q{quarter}_{type_}')\n",
    "        border_name = join_path(root, 'Publish.gdb', 'MainUrbanArea')\n",
    "        \n",
    "        if aprx.listMaps(map_name):\n",
    "            map_visualization = aprx.listMaps(map_name)[0]\n",
    "        else:\n",
    "            map_visualization = aprx.createMap(map_name, 'MAP')\n",
    "        \n",
    "        for layer in map_visualization.listLayers():\n",
    "            map_visualization.removeLayer(layer)\n",
    "            \n",
    "        map_visualization.spatialReference = arcpy.SpatialReference(2381)\n",
    "        \n",
    "        raster = map_visualization.addDataFromPath(raster_name)\n",
    "        border = map_visualization.addDataFromPath(border_name)\n",
    "\n",
    "        apply_border_renderer(border, 'Black Outline (1pt)')\n",
    "        apply_raster_colorizer(\n",
    "            raster, \n",
    "            'Spectrum By Wavelength-Full Bright', \n",
    "            quarter_mins[quarter], \n",
    "            quarter_maxs[quarter]\n",
    "        )"
   ]
  },
  {
   "cell_type": "code",
   "execution_count": null,
   "metadata": {},
   "outputs": [],
   "source": [
    "'''\n",
    "layout = aprx.listLayouts('PM25_concentration')[0]\n",
    "layout_cim = layout.getDefinition('V3')\n",
    "\n",
    "elements = []\n",
    "for type_ in ['wholeDay', 'daytime', 'nighttime']:\n",
    "    uri = f'CIMPATH=pm25_2021_{type_}/pm25_2021_{type_}.json'\n",
    "\n",
    "    map_frame = arcpy.cim.CreateCIMObjectFromClassName('CIMMapFrame', 'V3')\n",
    "    map_frame.uRI = uri\n",
    "    map_frame.anchor = 'BottomLeftCorner'\n",
    "    map_frame.name = f'MapFrame 2021 {type_}'\n",
    "    map_frame.visible = True\n",
    "    \n",
    "    elements.append(map_frame)\n",
    "    \n",
    "for quarter in range(1, 5):\n",
    "    for type_ in ['wholeDay', 'daytime', 'nighttime']:\n",
    "        uri = f'CIMPATH=pm25_2021q{quarter}_{type_}/pm25_2021q{quarter}_{type_}.json'\n",
    "        \n",
    "        map_frame = arcpy.cim.CreateCIMObjectFromClassName('CIMMapFrame', 'V3')\n",
    "        map_frame.uRI = uri\n",
    "        map_frame.anchor = 'BottomLeftCorner'\n",
    "        map_frame.name = f'MapFrame 2021Q{quarter} {type_}'\n",
    "        map_frame.visible = True\n",
    "        \n",
    "        elements.append(map_frame)\n",
    "    \n",
    "layout_cim.elements = elements[0]\n",
    "layout.setDefinition(layout_cim)\n",
    "'''"
   ]
  },
  {
   "cell_type": "markdown",
   "metadata": {
    "heading_collapsed": true
   },
   "source": [
    "## 2.3 Independent Variables"
   ]
  },
  {
   "cell_type": "markdown",
   "metadata": {
    "heading_collapsed": true,
    "hidden": true
   },
   "source": [
    "### 2.3.1 The Percentage of the Non-local Residents"
   ]
  },
  {
   "cell_type": "code",
   "execution_count": 94,
   "metadata": {
    "hidden": true
   },
   "outputs": [],
   "source": [
    "for quarter in range(1, 5):\n",
    "    map_name = f'Distribution_2021Q{quarter}_NonLocal'\n",
    "    feature_class = JoinPath(root, 'Gwr.gdb', f'Gwr_2021Q{quarter}')\n",
    "\n",
    "    if aprx.listMaps(map_name):\n",
    "        map_visualization = aprx.listMaps(map_name)[0]\n",
    "    else:\n",
    "        map_visualization = aprx.createMap(map_name, 'MAP')\n",
    "\n",
    "    for layer in map_visualization.listLayers():\n",
    "        map_visualization.removeLayer(layer)\n",
    "\n",
    "    map_visualization.spatialReference = arcpy.SpatialReference(2381)\n",
    "\n",
    "    border = map_visualization.addDataFromPath(border_name)\n",
    "    feature = map_visualization.addDataFromPath(feature_class)\n",
    "    \n",
    "    apply_feature_renderer(\n",
    "        feature, \n",
    "        'Prediction', \n",
    "        'NonLocal', \n",
    "        10\n",
    "    )\n",
    "    apply_border_renderer(\n",
    "        border, \n",
    "        'Extent Gray Hollow', \n",
    "        width = 0.35\n",
    "    )\n",
    "\n"
   ]
  },
  {
   "cell_type": "markdown",
   "metadata": {
    "heading_collapsed": true,
    "hidden": true
   },
   "source": [
    "### 2.3.2 House Price"
   ]
  },
  {
   "cell_type": "code",
   "execution_count": 96,
   "metadata": {
    "hidden": true
   },
   "outputs": [],
   "source": [
    "map_name = 'Distribution_2021_HousePrice'\n",
    "feature_class = JoinPath(root, 'Gwr.gdb', f'Gwr_2021Q1')\n",
    "\n",
    "if aprx.listMaps(map_name):\n",
    "    map_visualization = aprx.listMaps(map_name)[0]\n",
    "else:\n",
    "    map_visualization = aprx.createMap(map_name, 'MAP')\n",
    "\n",
    "for layer in map_visualization.listLayers():\n",
    "    map_visualization.removeLayer(layer)\n",
    "\n",
    "map_visualization.spatialReference = arcpy.SpatialReference(2381)\n",
    "\n",
    "border = map_visualization.addDataFromPath(border_name)\n",
    "feature = map_visualization.addDataFromPath(feature_class)\n",
    "\n",
    "apply_feature_renderer(\n",
    "    feature, \n",
    "    'Prediction', \n",
    "    'HousePrice', \n",
    "    10\n",
    ")\n",
    "apply_border_renderer(\n",
    "    border, \n",
    "    'Extent Gray Hollow', \n",
    "    width = 0.35\n",
    ")"
   ]
  },
  {
   "cell_type": "markdown",
   "metadata": {
    "heading_collapsed": true
   },
   "source": [
    "## 2.4 Local Moran's I"
   ]
  },
  {
   "cell_type": "code",
   "execution_count": 74,
   "metadata": {
    "hidden": true
   },
   "outputs": [],
   "source": [
    "for quarter in range(1, 5):\n",
    "    map_name = f'LocalMoransI_2021Q{quarter}_NonLocal'\n",
    "    feature_class = JoinPath(root, 'Gwr.gdb', f'LocalMoransI_2021Q{quarter}_NonLocal')\n",
    "    border_name = JoinPath(root, 'Publish.gdb', 'GridShape')\n",
    "\n",
    "    if aprx.listMaps(map_name):\n",
    "        map_visualization = aprx.listMaps(map_name)[0]\n",
    "    else:\n",
    "        map_visualization = aprx.createMap(map_name, 'MAP')\n",
    "\n",
    "    for layer in map_visualization.listLayers():\n",
    "        map_visualization.removeLayer(layer)\n",
    "\n",
    "    map_visualization.spatialReference = arcpy.SpatialReference(2381)\n",
    "\n",
    "    border = map_visualization.addDataFromPath(border_name)\n",
    "    feature = map_visualization.addDataFromPath(feature_class)\n",
    "    \n",
    "    apply_border_renderer(\n",
    "        border, \n",
    "        'Extent Gray Hollow', \n",
    "        width = 0.35\n",
    "    )\n"
   ]
  },
  {
   "cell_type": "code",
   "execution_count": 75,
   "metadata": {
    "hidden": true
   },
   "outputs": [],
   "source": [
    "map_name = f'LocalMoransI_2021_HousePrice'\n",
    "feature_class = JoinPath(root, 'Gwr.gdb', 'LocalMoransI_2021_HousePrice')\n",
    "border_name = JoinPath(root, 'Publish.gdb', 'GridShape')\n",
    "\n",
    "if aprx.listMaps(map_name):\n",
    "    map_visualization = aprx.listMaps(map_name)[0]\n",
    "else:\n",
    "    map_visualization = aprx.createMap(map_name, 'MAP')\n",
    "\n",
    "for layer in map_visualization.listLayers():\n",
    "    map_visualization.removeLayer(layer)\n",
    "\n",
    "map_visualization.spatialReference = arcpy.SpatialReference(2381)\n",
    "\n",
    "border = map_visualization.addDataFromPath(border_name)\n",
    "feature = map_visualization.addDataFromPath(feature_class)\n",
    "\n",
    "apply_border_renderer(\n",
    "    border, \n",
    "    'Extent Gray Hollow', \n",
    "    width = 0.35\n",
    ")"
   ]
  },
  {
   "cell_type": "markdown",
   "metadata": {
    "heading_collapsed": true
   },
   "source": [
    "## 2.5 GWR"
   ]
  },
  {
   "cell_type": "code",
   "execution_count": 16,
   "metadata": {
    "hidden": true
   },
   "outputs": [],
   "source": [
    "for formula in ['NonLocal.Day', 'NonLocal.Night', 'HousePrice']:\n",
    "    map_name = f'GwrModel_2021_Merged_{formula}'\n",
    "    gwr_name = join_path(root, 'Gwr.gdb', map_name.replace('.', '_'))\n",
    "\n",
    "    if aprx.listMaps(map_name):\n",
    "        map_visualization = aprx.listMaps(map_name)[0]\n",
    "    else:\n",
    "        map_visualization = aprx.createMap(map_name, 'MAP')\n",
    "\n",
    "    for layer in map_visualization.listLayers():\n",
    "        map_visualization.removeLayer(layer)\n",
    "\n",
    "    map_visualization.spatialReference = arcpy.SpatialReference(2381)\n",
    "\n",
    "    gwr = map_visualization.addDataFromPath(gwr_name)"
   ]
  },
  {
   "cell_type": "code",
   "execution_count": 18,
   "metadata": {
    "hidden": true
   },
   "outputs": [],
   "source": [
    "for quarter in range(1, 5):\n",
    "    for formula in ['NonLocal.Day', 'NonLocal.Night', 'HousePrice']:\n",
    "        map_name = f'GwrModel_2021Q{quarter}_{formula}'\n",
    "        gwr_name = join_path(root, 'Gwr.gdb', map_name.replace('.', '_'))\n",
    "\n",
    "        if aprx.listMaps(map_name):\n",
    "            map_visualization = aprx.listMaps(map_name)[0]\n",
    "        else:\n",
    "            map_visualization = aprx.createMap(map_name, 'MAP')\n",
    "\n",
    "        for layer in map_visualization.listLayers():\n",
    "            map_visualization.removeLayer(layer)\n",
    "\n",
    "        map_visualization.spatialReference = arcpy.SpatialReference(2381)\n",
    "\n",
    "        gwr = map_visualization.addDataFromPath(gwr_name)"
   ]
  },
  {
   "cell_type": "markdown",
   "metadata": {},
   "source": [
    "## 2.6 Data Validation"
   ]
  },
  {
   "cell_type": "code",
   "execution_count": 123,
   "metadata": {},
   "outputs": [],
   "source": [
    "for month in range(1, 13):\n",
    "    month_string = '%02d' % month\n",
    "    map_name = f'Validation_2021{month_string}'\n",
    "    raster_name = join_path(root, 'Plot.gdb', f'Validation_2021{month_string}')\n",
    "    border_name = join_path(root, 'Publish.gdb', 'MainUrbanArea')\n",
    "\n",
    "    if aprx.listMaps(map_name):\n",
    "        map_visualization = aprx.listMaps(map_name)[0]\n",
    "    else:\n",
    "        map_visualization = aprx.createMap(map_name, 'MAP')\n",
    "\n",
    "    for layer in map_visualization.listLayers():\n",
    "        map_visualization.removeLayer(layer)\n",
    "\n",
    "    map_visualization.spatialReference = arcpy.SpatialReference(2381)\n",
    "\n",
    "    raster = map_visualization.addDataFromPath(raster_name)\n",
    "    border = map_visualization.addDataFromPath(border_name)\n",
    "\n",
    "    apply_border_renderer(border, 'Black Outline (1pt)')\n",
    "    apply_raster_colorizer(\n",
    "        raster, \n",
    "        'Spectrum By Wavelength-Full Bright', \n",
    "        -0.5, \n",
    "        0.5\n",
    "    )"
   ]
  },
  {
   "cell_type": "code",
   "execution_count": 124,
   "metadata": {},
   "outputs": [],
   "source": [
    "for quarter in range(1, 5):\n",
    "    map_name = f'Validation_2021Q{quarter}'\n",
    "    raster_name = join_path(root, 'Plot.gdb', f'Validation_2021Q{quarter}')\n",
    "    border_name = join_path(root, 'Publish.gdb', 'MainUrbanArea')\n",
    "    \n",
    "    raster_object = arcpy.Raster(raster_name)\n",
    "    raster_range = max(abs(raster_object.minimum), abs(raster_object.maximum))\n",
    "\n",
    "    if aprx.listMaps(map_name):\n",
    "        map_visualization = aprx.listMaps(map_name)[0]\n",
    "    else:\n",
    "        map_visualization = aprx.createMap(map_name, 'MAP')\n",
    "\n",
    "    for layer in map_visualization.listLayers():\n",
    "        map_visualization.removeLayer(layer)\n",
    "\n",
    "    map_visualization.spatialReference = arcpy.SpatialReference(2381)\n",
    "\n",
    "    raster = map_visualization.addDataFromPath(raster_name)\n",
    "    border = map_visualization.addDataFromPath(border_name)\n",
    "\n",
    "    apply_border_renderer(border, 'Black Outline (1pt)')\n",
    "    apply_raster_colorizer(\n",
    "        raster, \n",
    "        'Spectrum By Wavelength-Full Bright', \n",
    "        -raster_range, \n",
    "        raster_range\n",
    "    )"
   ]
  }
 ],
 "metadata": {
  "kernelspec": {
   "display_name": "ArcGISPro",
   "language": "Python",
   "name": "python3"
  },
  "language_info": {
   "file_extension": ".py",
   "name": "python",
   "version": "3"
  }
 },
 "nbformat": 4,
 "nbformat_minor": 2
}
